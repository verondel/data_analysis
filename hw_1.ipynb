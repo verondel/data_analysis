{
  "nbformat": 4,
  "nbformat_minor": 0,
  "metadata": {
    "colab": {
      "provenance": [],
      "collapsed_sections": [
        "FyybtYjGncLo",
        "of0FUZqbvrJL",
        "kBT9sxOiyclP"
      ],
      "mount_file_id": "1wx-MlQ4HWYPcS0mO2HJBSmO6DJJzqGch",
      "authorship_tag": "ABX9TyNNJMEh+kO8rFOoX/DZXb2W",
      "include_colab_link": true
    },
    "kernelspec": {
      "name": "python3",
      "display_name": "Python 3"
    },
    "language_info": {
      "name": "python"
    }
  },
  "cells": [
    {
      "cell_type": "markdown",
      "metadata": {
        "id": "view-in-github",
        "colab_type": "text"
      },
      "source": [
        "<a href=\"https://colab.research.google.com/github/verondel/data_analysis/blob/main/hw_1.ipynb\" target=\"_parent\"><img src=\"https://colab.research.google.com/assets/colab-badge.svg\" alt=\"Open In Colab\"/></a>"
      ]
    },
    {
      "cell_type": "markdown",
      "source": [
        "# Задание 1: Exploratory data analysis"
      ],
      "metadata": {
        "id": "GOYXTe0SIfwQ"
      }
    },
    {
      "cell_type": "code",
      "execution_count": null,
      "metadata": {
        "id": "tyNTEFj55E9J"
      },
      "outputs": [],
      "source": [
        "import os\n",
        "from pandas import read_csv, set_option\n",
        "import numpy as np\n",
        "import plotly.express\n",
        "import matplotlib.pyplot as plt\n",
        "import seaborn as sns\n",
        "from pandas.plotting import scatter_matrix\n",
        "from scipy import stats"
      ]
    },
    {
      "cell_type": "markdown",
      "source": [
        "Ссылка на датасет: [Latest_Data_Science_Salaries](https://www.kaggle.com/datasets/iamsouravbanerjee/data-science-salaries-2023/data?select=Latest_Data_Science_Salaries.csv)"
      ],
      "metadata": {
        "id": "MhctrWPV7kw_"
      }
    },
    {
      "cell_type": "markdown",
      "source": [
        "## 1"
      ],
      "metadata": {
        "id": "rL1XnuObiXng"
      }
    },
    {
      "cell_type": "code",
      "source": [
        "os.chdir(\"/content/drive/MyDrive/sem5_python/data\")\n",
        "filename = \"Latest_Data_Science_Salaries.csv\""
      ],
      "metadata": {
        "id": "nhbHT7K7fr0t"
      },
      "execution_count": null,
      "outputs": []
    },
    {
      "cell_type": "markdown",
      "source": [
        "## 2. .head()"
      ],
      "metadata": {
        "id": "atPUstFTiatg"
      }
    },
    {
      "cell_type": "code",
      "source": [
        "data = read_csv(filename)\n",
        "data.head()"
      ],
      "metadata": {
        "colab": {
          "base_uri": "https://localhost:8080/",
          "height": 206
        },
        "id": "3lfHo17kgPr8",
        "outputId": "1d0312f0-826b-4dd5-f2c1-36980e1b4dd0"
      },
      "execution_count": null,
      "outputs": [
        {
          "output_type": "execute_result",
          "data": {
            "text/plain": [
              "        Job Title Employment Type Experience Level Expertise Level  Salary  \\\n",
              "0   Data Engineer       Full-Time           Senior          Expert  210000   \n",
              "1   Data Engineer       Full-Time           Senior          Expert  165000   \n",
              "2   Data Engineer       Full-Time           Senior          Expert  185900   \n",
              "3   Data Engineer       Full-Time           Senior          Expert  129300   \n",
              "4  Data Scientist       Full-Time           Senior          Expert  140000   \n",
              "\n",
              "        Salary Currency Company Location  Salary in USD Employee Residence  \\\n",
              "0  United States Dollar    United States         210000      United States   \n",
              "1  United States Dollar    United States         165000      United States   \n",
              "2  United States Dollar    United States         185900      United States   \n",
              "3  United States Dollar    United States         129300      United States   \n",
              "4  United States Dollar    United States         140000      United States   \n",
              "\n",
              "  Company Size  Year  \n",
              "0       Medium  2023  \n",
              "1       Medium  2023  \n",
              "2       Medium  2023  \n",
              "3       Medium  2023  \n",
              "4       Medium  2023  "
            ],
            "text/html": [
              "\n",
              "  <div id=\"df-3faa2ba6-fdc8-46e1-9901-63f7b822a279\" class=\"colab-df-container\">\n",
              "    <div>\n",
              "<style scoped>\n",
              "    .dataframe tbody tr th:only-of-type {\n",
              "        vertical-align: middle;\n",
              "    }\n",
              "\n",
              "    .dataframe tbody tr th {\n",
              "        vertical-align: top;\n",
              "    }\n",
              "\n",
              "    .dataframe thead th {\n",
              "        text-align: right;\n",
              "    }\n",
              "</style>\n",
              "<table border=\"1\" class=\"dataframe\">\n",
              "  <thead>\n",
              "    <tr style=\"text-align: right;\">\n",
              "      <th></th>\n",
              "      <th>Job Title</th>\n",
              "      <th>Employment Type</th>\n",
              "      <th>Experience Level</th>\n",
              "      <th>Expertise Level</th>\n",
              "      <th>Salary</th>\n",
              "      <th>Salary Currency</th>\n",
              "      <th>Company Location</th>\n",
              "      <th>Salary in USD</th>\n",
              "      <th>Employee Residence</th>\n",
              "      <th>Company Size</th>\n",
              "      <th>Year</th>\n",
              "    </tr>\n",
              "  </thead>\n",
              "  <tbody>\n",
              "    <tr>\n",
              "      <th>0</th>\n",
              "      <td>Data Engineer</td>\n",
              "      <td>Full-Time</td>\n",
              "      <td>Senior</td>\n",
              "      <td>Expert</td>\n",
              "      <td>210000</td>\n",
              "      <td>United States Dollar</td>\n",
              "      <td>United States</td>\n",
              "      <td>210000</td>\n",
              "      <td>United States</td>\n",
              "      <td>Medium</td>\n",
              "      <td>2023</td>\n",
              "    </tr>\n",
              "    <tr>\n",
              "      <th>1</th>\n",
              "      <td>Data Engineer</td>\n",
              "      <td>Full-Time</td>\n",
              "      <td>Senior</td>\n",
              "      <td>Expert</td>\n",
              "      <td>165000</td>\n",
              "      <td>United States Dollar</td>\n",
              "      <td>United States</td>\n",
              "      <td>165000</td>\n",
              "      <td>United States</td>\n",
              "      <td>Medium</td>\n",
              "      <td>2023</td>\n",
              "    </tr>\n",
              "    <tr>\n",
              "      <th>2</th>\n",
              "      <td>Data Engineer</td>\n",
              "      <td>Full-Time</td>\n",
              "      <td>Senior</td>\n",
              "      <td>Expert</td>\n",
              "      <td>185900</td>\n",
              "      <td>United States Dollar</td>\n",
              "      <td>United States</td>\n",
              "      <td>185900</td>\n",
              "      <td>United States</td>\n",
              "      <td>Medium</td>\n",
              "      <td>2023</td>\n",
              "    </tr>\n",
              "    <tr>\n",
              "      <th>3</th>\n",
              "      <td>Data Engineer</td>\n",
              "      <td>Full-Time</td>\n",
              "      <td>Senior</td>\n",
              "      <td>Expert</td>\n",
              "      <td>129300</td>\n",
              "      <td>United States Dollar</td>\n",
              "      <td>United States</td>\n",
              "      <td>129300</td>\n",
              "      <td>United States</td>\n",
              "      <td>Medium</td>\n",
              "      <td>2023</td>\n",
              "    </tr>\n",
              "    <tr>\n",
              "      <th>4</th>\n",
              "      <td>Data Scientist</td>\n",
              "      <td>Full-Time</td>\n",
              "      <td>Senior</td>\n",
              "      <td>Expert</td>\n",
              "      <td>140000</td>\n",
              "      <td>United States Dollar</td>\n",
              "      <td>United States</td>\n",
              "      <td>140000</td>\n",
              "      <td>United States</td>\n",
              "      <td>Medium</td>\n",
              "      <td>2023</td>\n",
              "    </tr>\n",
              "  </tbody>\n",
              "</table>\n",
              "</div>\n",
              "    <div class=\"colab-df-buttons\">\n",
              "\n",
              "  <div class=\"colab-df-container\">\n",
              "    <button class=\"colab-df-convert\" onclick=\"convertToInteractive('df-3faa2ba6-fdc8-46e1-9901-63f7b822a279')\"\n",
              "            title=\"Convert this dataframe to an interactive table.\"\n",
              "            style=\"display:none;\">\n",
              "\n",
              "  <svg xmlns=\"http://www.w3.org/2000/svg\" height=\"24px\" viewBox=\"0 -960 960 960\">\n",
              "    <path d=\"M120-120v-720h720v720H120Zm60-500h600v-160H180v160Zm220 220h160v-160H400v160Zm0 220h160v-160H400v160ZM180-400h160v-160H180v160Zm440 0h160v-160H620v160ZM180-180h160v-160H180v160Zm440 0h160v-160H620v160Z\"/>\n",
              "  </svg>\n",
              "    </button>\n",
              "\n",
              "  <style>\n",
              "    .colab-df-container {\n",
              "      display:flex;\n",
              "      gap: 12px;\n",
              "    }\n",
              "\n",
              "    .colab-df-convert {\n",
              "      background-color: #E8F0FE;\n",
              "      border: none;\n",
              "      border-radius: 50%;\n",
              "      cursor: pointer;\n",
              "      display: none;\n",
              "      fill: #1967D2;\n",
              "      height: 32px;\n",
              "      padding: 0 0 0 0;\n",
              "      width: 32px;\n",
              "    }\n",
              "\n",
              "    .colab-df-convert:hover {\n",
              "      background-color: #E2EBFA;\n",
              "      box-shadow: 0px 1px 2px rgba(60, 64, 67, 0.3), 0px 1px 3px 1px rgba(60, 64, 67, 0.15);\n",
              "      fill: #174EA6;\n",
              "    }\n",
              "\n",
              "    .colab-df-buttons div {\n",
              "      margin-bottom: 4px;\n",
              "    }\n",
              "\n",
              "    [theme=dark] .colab-df-convert {\n",
              "      background-color: #3B4455;\n",
              "      fill: #D2E3FC;\n",
              "    }\n",
              "\n",
              "    [theme=dark] .colab-df-convert:hover {\n",
              "      background-color: #434B5C;\n",
              "      box-shadow: 0px 1px 3px 1px rgba(0, 0, 0, 0.15);\n",
              "      filter: drop-shadow(0px 1px 2px rgba(0, 0, 0, 0.3));\n",
              "      fill: #FFFFFF;\n",
              "    }\n",
              "  </style>\n",
              "\n",
              "    <script>\n",
              "      const buttonEl =\n",
              "        document.querySelector('#df-3faa2ba6-fdc8-46e1-9901-63f7b822a279 button.colab-df-convert');\n",
              "      buttonEl.style.display =\n",
              "        google.colab.kernel.accessAllowed ? 'block' : 'none';\n",
              "\n",
              "      async function convertToInteractive(key) {\n",
              "        const element = document.querySelector('#df-3faa2ba6-fdc8-46e1-9901-63f7b822a279');\n",
              "        const dataTable =\n",
              "          await google.colab.kernel.invokeFunction('convertToInteractive',\n",
              "                                                    [key], {});\n",
              "        if (!dataTable) return;\n",
              "\n",
              "        const docLinkHtml = 'Like what you see? Visit the ' +\n",
              "          '<a target=\"_blank\" href=https://colab.research.google.com/notebooks/data_table.ipynb>data table notebook</a>'\n",
              "          + ' to learn more about interactive tables.';\n",
              "        element.innerHTML = '';\n",
              "        dataTable['output_type'] = 'display_data';\n",
              "        await google.colab.output.renderOutput(dataTable, element);\n",
              "        const docLink = document.createElement('div');\n",
              "        docLink.innerHTML = docLinkHtml;\n",
              "        element.appendChild(docLink);\n",
              "      }\n",
              "    </script>\n",
              "  </div>\n",
              "\n",
              "\n",
              "<div id=\"df-6a47a75c-d95d-4fe3-a634-9966d93e806b\">\n",
              "  <button class=\"colab-df-quickchart\" onclick=\"quickchart('df-6a47a75c-d95d-4fe3-a634-9966d93e806b')\"\n",
              "            title=\"Suggest charts.\"\n",
              "            style=\"display:none;\">\n",
              "\n",
              "<svg xmlns=\"http://www.w3.org/2000/svg\" height=\"24px\"viewBox=\"0 0 24 24\"\n",
              "     width=\"24px\">\n",
              "    <g>\n",
              "        <path d=\"M19 3H5c-1.1 0-2 .9-2 2v14c0 1.1.9 2 2 2h14c1.1 0 2-.9 2-2V5c0-1.1-.9-2-2-2zM9 17H7v-7h2v7zm4 0h-2V7h2v10zm4 0h-2v-4h2v4z\"/>\n",
              "    </g>\n",
              "</svg>\n",
              "  </button>\n",
              "\n",
              "<style>\n",
              "  .colab-df-quickchart {\n",
              "      --bg-color: #E8F0FE;\n",
              "      --fill-color: #1967D2;\n",
              "      --hover-bg-color: #E2EBFA;\n",
              "      --hover-fill-color: #174EA6;\n",
              "      --disabled-fill-color: #AAA;\n",
              "      --disabled-bg-color: #DDD;\n",
              "  }\n",
              "\n",
              "  [theme=dark] .colab-df-quickchart {\n",
              "      --bg-color: #3B4455;\n",
              "      --fill-color: #D2E3FC;\n",
              "      --hover-bg-color: #434B5C;\n",
              "      --hover-fill-color: #FFFFFF;\n",
              "      --disabled-bg-color: #3B4455;\n",
              "      --disabled-fill-color: #666;\n",
              "  }\n",
              "\n",
              "  .colab-df-quickchart {\n",
              "    background-color: var(--bg-color);\n",
              "    border: none;\n",
              "    border-radius: 50%;\n",
              "    cursor: pointer;\n",
              "    display: none;\n",
              "    fill: var(--fill-color);\n",
              "    height: 32px;\n",
              "    padding: 0;\n",
              "    width: 32px;\n",
              "  }\n",
              "\n",
              "  .colab-df-quickchart:hover {\n",
              "    background-color: var(--hover-bg-color);\n",
              "    box-shadow: 0 1px 2px rgba(60, 64, 67, 0.3), 0 1px 3px 1px rgba(60, 64, 67, 0.15);\n",
              "    fill: var(--button-hover-fill-color);\n",
              "  }\n",
              "\n",
              "  .colab-df-quickchart-complete:disabled,\n",
              "  .colab-df-quickchart-complete:disabled:hover {\n",
              "    background-color: var(--disabled-bg-color);\n",
              "    fill: var(--disabled-fill-color);\n",
              "    box-shadow: none;\n",
              "  }\n",
              "\n",
              "  .colab-df-spinner {\n",
              "    border: 2px solid var(--fill-color);\n",
              "    border-color: transparent;\n",
              "    border-bottom-color: var(--fill-color);\n",
              "    animation:\n",
              "      spin 1s steps(1) infinite;\n",
              "  }\n",
              "\n",
              "  @keyframes spin {\n",
              "    0% {\n",
              "      border-color: transparent;\n",
              "      border-bottom-color: var(--fill-color);\n",
              "      border-left-color: var(--fill-color);\n",
              "    }\n",
              "    20% {\n",
              "      border-color: transparent;\n",
              "      border-left-color: var(--fill-color);\n",
              "      border-top-color: var(--fill-color);\n",
              "    }\n",
              "    30% {\n",
              "      border-color: transparent;\n",
              "      border-left-color: var(--fill-color);\n",
              "      border-top-color: var(--fill-color);\n",
              "      border-right-color: var(--fill-color);\n",
              "    }\n",
              "    40% {\n",
              "      border-color: transparent;\n",
              "      border-right-color: var(--fill-color);\n",
              "      border-top-color: var(--fill-color);\n",
              "    }\n",
              "    60% {\n",
              "      border-color: transparent;\n",
              "      border-right-color: var(--fill-color);\n",
              "    }\n",
              "    80% {\n",
              "      border-color: transparent;\n",
              "      border-right-color: var(--fill-color);\n",
              "      border-bottom-color: var(--fill-color);\n",
              "    }\n",
              "    90% {\n",
              "      border-color: transparent;\n",
              "      border-bottom-color: var(--fill-color);\n",
              "    }\n",
              "  }\n",
              "</style>\n",
              "\n",
              "  <script>\n",
              "    async function quickchart(key) {\n",
              "      const quickchartButtonEl =\n",
              "        document.querySelector('#' + key + ' button');\n",
              "      quickchartButtonEl.disabled = true;  // To prevent multiple clicks.\n",
              "      quickchartButtonEl.classList.add('colab-df-spinner');\n",
              "      try {\n",
              "        const charts = await google.colab.kernel.invokeFunction(\n",
              "            'suggestCharts', [key], {});\n",
              "      } catch (error) {\n",
              "        console.error('Error during call to suggestCharts:', error);\n",
              "      }\n",
              "      quickchartButtonEl.classList.remove('colab-df-spinner');\n",
              "      quickchartButtonEl.classList.add('colab-df-quickchart-complete');\n",
              "    }\n",
              "    (() => {\n",
              "      let quickchartButtonEl =\n",
              "        document.querySelector('#df-6a47a75c-d95d-4fe3-a634-9966d93e806b button');\n",
              "      quickchartButtonEl.style.display =\n",
              "        google.colab.kernel.accessAllowed ? 'block' : 'none';\n",
              "    })();\n",
              "  </script>\n",
              "</div>\n",
              "    </div>\n",
              "  </div>\n"
            ]
          },
          "metadata": {},
          "execution_count": 6
        }
      ]
    },
    {
      "cell_type": "markdown",
      "source": [
        "## 3. shape"
      ],
      "metadata": {
        "id": "U17tFBsHiff5"
      }
    },
    {
      "cell_type": "code",
      "source": [
        "data.shape"
      ],
      "metadata": {
        "colab": {
          "base_uri": "https://localhost:8080/"
        },
        "id": "Q8d7fbeMiFTB",
        "outputId": "6a61890b-0a60-4896-fbfe-6804a8ec62bb"
      },
      "execution_count": null,
      "outputs": [
        {
          "output_type": "execute_result",
          "data": {
            "text/plain": [
              "(3300, 11)"
            ]
          },
          "metadata": {},
          "execution_count": 7
        }
      ]
    },
    {
      "cell_type": "markdown",
      "source": [
        "**Вывод:** Всего 3300 записей и 11 столбцов."
      ],
      "metadata": {
        "id": "QitE1iyloHag"
      }
    },
    {
      "cell_type": "markdown",
      "source": [
        "## 4. dtypes\n"
      ],
      "metadata": {
        "id": "RCwjVLcgipaA"
      }
    },
    {
      "cell_type": "code",
      "source": [
        "data.dtypes"
      ],
      "metadata": {
        "colab": {
          "base_uri": "https://localhost:8080/"
        },
        "id": "lYmSiiEyiox4",
        "outputId": "7c376113-22ba-4688-d1d0-5a50e6ecf4f6"
      },
      "execution_count": null,
      "outputs": [
        {
          "output_type": "execute_result",
          "data": {
            "text/plain": [
              "Job Title             object\n",
              "Employment Type       object\n",
              "Experience Level      object\n",
              "Expertise Level       object\n",
              "Salary                 int64\n",
              "Salary Currency       object\n",
              "Company Location      object\n",
              "Salary in USD          int64\n",
              "Employee Residence    object\n",
              "Company Size          object\n",
              "Year                   int64\n",
              "dtype: object"
            ]
          },
          "metadata": {},
          "execution_count": 8
        }
      ]
    },
    {
      "cell_type": "markdown",
      "source": [
        "**Вывод:**\n",
        "* Столбцы \"Job Title\", \"Employment Type\", \"Experience Level\", \"Expertise Level\", \"Salary Currency\", \"Company Location\", \"Employee Residence\" и \"Company Size\" имеют тип данных object.\n",
        "* Столбцы \"Salary\", \"Salary in USD\" и \"Year\" имеют тип данных int64."
      ],
      "metadata": {
        "id": "7I89aDXDnu5_"
      }
    },
    {
      "cell_type": "markdown",
      "source": [
        "## 5. info()"
      ],
      "metadata": {
        "id": "CMDdChdNi43g"
      }
    },
    {
      "cell_type": "code",
      "source": [
        "data.info()"
      ],
      "metadata": {
        "colab": {
          "base_uri": "https://localhost:8080/"
        },
        "id": "II5-L1UBi6Jz",
        "outputId": "84f16d81-55c1-4c14-f69a-6cb1ed51493b"
      },
      "execution_count": null,
      "outputs": [
        {
          "output_type": "stream",
          "name": "stdout",
          "text": [
            "<class 'pandas.core.frame.DataFrame'>\n",
            "RangeIndex: 3300 entries, 0 to 3299\n",
            "Data columns (total 11 columns):\n",
            " #   Column              Non-Null Count  Dtype \n",
            "---  ------              --------------  ----- \n",
            " 0   Job Title           3300 non-null   object\n",
            " 1   Employment Type     3300 non-null   object\n",
            " 2   Experience Level    3300 non-null   object\n",
            " 3   Expertise Level     3300 non-null   object\n",
            " 4   Salary              3300 non-null   int64 \n",
            " 5   Salary Currency     3300 non-null   object\n",
            " 6   Company Location    3300 non-null   object\n",
            " 7   Salary in USD       3300 non-null   int64 \n",
            " 8   Employee Residence  3300 non-null   object\n",
            " 9   Company Size        3300 non-null   object\n",
            " 10  Year                3300 non-null   int64 \n",
            "dtypes: int64(3), object(8)\n",
            "memory usage: 283.7+ KB\n"
          ]
        }
      ]
    },
    {
      "cell_type": "markdown",
      "source": [
        "**Вывод:** Всего в наборе данных 3300 записей, 11 столбцов, используется 283.7+ KB памяти."
      ],
      "metadata": {
        "id": "Sz27JumMm6gI"
      }
    },
    {
      "cell_type": "markdown",
      "source": [
        "## 6. groupby"
      ],
      "metadata": {
        "id": "WPOwKYTRi_oo"
      }
    },
    {
      "cell_type": "code",
      "source": [
        "# Группируем данные по столбцу \"Experience Level\" и подсчитываем количество наблюдений в каждом классе\n",
        "experience_level_distribution = data.groupby('Experience Level').size()\n",
        "experience_level_distribution"
      ],
      "metadata": {
        "colab": {
          "base_uri": "https://localhost:8080/"
        },
        "id": "HQLM8qsojBEw",
        "outputId": "318dbdd7-3d33-451a-ad0f-9357bad97984"
      },
      "execution_count": null,
      "outputs": [
        {
          "output_type": "execute_result",
          "data": {
            "text/plain": [
              "Experience Level\n",
              "Entry         292\n",
              "Executive     146\n",
              "Mid           797\n",
              "Senior       2065\n",
              "dtype: int64"
            ]
          },
          "metadata": {},
          "execution_count": 11
        }
      ]
    },
    {
      "cell_type": "markdown",
      "source": [
        "**Вывод:** Распределение данных по уровню опыта не является сбалансированным. Класс \"Senior\" имеет наибольшее количество, в то время как классы \"Entry\" и \"Executive\" появляются в несколько раз меньше.\n",
        "\n",
        "\n",
        "\n",
        "\n"
      ],
      "metadata": {
        "id": "1ulqwnzRl7R8"
      }
    },
    {
      "cell_type": "code",
      "source": [
        "# company_location_distribution = data.groupby('Company Size').size()\n",
        "# company_location_distribution"
      ],
      "metadata": {
        "id": "n0944a3poRcR"
      },
      "execution_count": null,
      "outputs": []
    },
    {
      "cell_type": "code",
      "source": [
        "job_title_distribution = data.groupby('Job Title').size().sort_values(ascending=False).head()\n",
        "job_title_distribution"
      ],
      "metadata": {
        "colab": {
          "base_uri": "https://localhost:8080/"
        },
        "id": "fCCWAwxUqI6T",
        "outputId": "ca514557-85cb-41df-fe88-799761fd0fd3"
      },
      "execution_count": null,
      "outputs": [
        {
          "output_type": "execute_result",
          "data": {
            "text/plain": [
              "Job Title\n",
              "Data Engineer                702\n",
              "Data Scientist               635\n",
              "Data Analyst                 459\n",
              "Machine Learning Engineer    300\n",
              "Analytics Engineer           132\n",
              "dtype: int64"
            ]
          },
          "metadata": {},
          "execution_count": 13
        }
      ]
    },
    {
      "cell_type": "markdown",
      "source": [
        "## 7. set_option('precision', 3)"
      ],
      "metadata": {
        "id": "FyybtYjGncLo"
      }
    },
    {
      "cell_type": "code",
      "source": [
        "set_option('display.precision', 3) # точность вывода"
      ],
      "metadata": {
        "id": "q5Torahdo3CA"
      },
      "execution_count": null,
      "outputs": []
    },
    {
      "cell_type": "markdown",
      "source": [
        "## 8. describe()"
      ],
      "metadata": {
        "id": "YBvyxw9hpAa-"
      }
    },
    {
      "cell_type": "code",
      "source": [
        "data.describe()"
      ],
      "metadata": {
        "colab": {
          "base_uri": "https://localhost:8080/"
        },
        "id": "R2ZNb8vJpKD7",
        "outputId": "6ee83b8f-7fca-47b0-ce7a-4fcc0d05cfec"
      },
      "execution_count": null,
      "outputs": [
        {
          "output_type": "execute_result",
          "data": {
            "text/plain": [
              "          Salary  Salary in USD      Year\n",
              "count  3.300e+03       3300.000  3300.000\n",
              "mean   2.047e+05     142095.984  2022.495\n",
              "std    7.279e+05      69028.236     0.716\n",
              "min    1.400e+04      15000.000  2020.000\n",
              "25%    9.417e+04      90000.000  2022.000\n",
              "50%    1.400e+05     136000.000  2023.000\n",
              "75%    1.900e+05     185000.000  2023.000\n",
              "max    3.040e+07     450000.000  2023.000"
            ],
            "text/html": [
              "\n",
              "  <div id=\"df-d6f40750-ac0b-4714-9d0a-380ec2758e6f\" class=\"colab-df-container\">\n",
              "    <div>\n",
              "<style scoped>\n",
              "    .dataframe tbody tr th:only-of-type {\n",
              "        vertical-align: middle;\n",
              "    }\n",
              "\n",
              "    .dataframe tbody tr th {\n",
              "        vertical-align: top;\n",
              "    }\n",
              "\n",
              "    .dataframe thead th {\n",
              "        text-align: right;\n",
              "    }\n",
              "</style>\n",
              "<table border=\"1\" class=\"dataframe\">\n",
              "  <thead>\n",
              "    <tr style=\"text-align: right;\">\n",
              "      <th></th>\n",
              "      <th>Salary</th>\n",
              "      <th>Salary in USD</th>\n",
              "      <th>Year</th>\n",
              "    </tr>\n",
              "  </thead>\n",
              "  <tbody>\n",
              "    <tr>\n",
              "      <th>count</th>\n",
              "      <td>3.300e+03</td>\n",
              "      <td>3300.000</td>\n",
              "      <td>3300.000</td>\n",
              "    </tr>\n",
              "    <tr>\n",
              "      <th>mean</th>\n",
              "      <td>2.047e+05</td>\n",
              "      <td>142095.984</td>\n",
              "      <td>2022.495</td>\n",
              "    </tr>\n",
              "    <tr>\n",
              "      <th>std</th>\n",
              "      <td>7.279e+05</td>\n",
              "      <td>69028.236</td>\n",
              "      <td>0.716</td>\n",
              "    </tr>\n",
              "    <tr>\n",
              "      <th>min</th>\n",
              "      <td>1.400e+04</td>\n",
              "      <td>15000.000</td>\n",
              "      <td>2020.000</td>\n",
              "    </tr>\n",
              "    <tr>\n",
              "      <th>25%</th>\n",
              "      <td>9.417e+04</td>\n",
              "      <td>90000.000</td>\n",
              "      <td>2022.000</td>\n",
              "    </tr>\n",
              "    <tr>\n",
              "      <th>50%</th>\n",
              "      <td>1.400e+05</td>\n",
              "      <td>136000.000</td>\n",
              "      <td>2023.000</td>\n",
              "    </tr>\n",
              "    <tr>\n",
              "      <th>75%</th>\n",
              "      <td>1.900e+05</td>\n",
              "      <td>185000.000</td>\n",
              "      <td>2023.000</td>\n",
              "    </tr>\n",
              "    <tr>\n",
              "      <th>max</th>\n",
              "      <td>3.040e+07</td>\n",
              "      <td>450000.000</td>\n",
              "      <td>2023.000</td>\n",
              "    </tr>\n",
              "  </tbody>\n",
              "</table>\n",
              "</div>\n",
              "    <div class=\"colab-df-buttons\">\n",
              "\n",
              "  <div class=\"colab-df-container\">\n",
              "    <button class=\"colab-df-convert\" onclick=\"convertToInteractive('df-d6f40750-ac0b-4714-9d0a-380ec2758e6f')\"\n",
              "            title=\"Convert this dataframe to an interactive table.\"\n",
              "            style=\"display:none;\">\n",
              "\n",
              "  <svg xmlns=\"http://www.w3.org/2000/svg\" height=\"24px\" viewBox=\"0 -960 960 960\">\n",
              "    <path d=\"M120-120v-720h720v720H120Zm60-500h600v-160H180v160Zm220 220h160v-160H400v160Zm0 220h160v-160H400v160ZM180-400h160v-160H180v160Zm440 0h160v-160H620v160ZM180-180h160v-160H180v160Zm440 0h160v-160H620v160Z\"/>\n",
              "  </svg>\n",
              "    </button>\n",
              "\n",
              "  <style>\n",
              "    .colab-df-container {\n",
              "      display:flex;\n",
              "      gap: 12px;\n",
              "    }\n",
              "\n",
              "    .colab-df-convert {\n",
              "      background-color: #E8F0FE;\n",
              "      border: none;\n",
              "      border-radius: 50%;\n",
              "      cursor: pointer;\n",
              "      display: none;\n",
              "      fill: #1967D2;\n",
              "      height: 32px;\n",
              "      padding: 0 0 0 0;\n",
              "      width: 32px;\n",
              "    }\n",
              "\n",
              "    .colab-df-convert:hover {\n",
              "      background-color: #E2EBFA;\n",
              "      box-shadow: 0px 1px 2px rgba(60, 64, 67, 0.3), 0px 1px 3px 1px rgba(60, 64, 67, 0.15);\n",
              "      fill: #174EA6;\n",
              "    }\n",
              "\n",
              "    .colab-df-buttons div {\n",
              "      margin-bottom: 4px;\n",
              "    }\n",
              "\n",
              "    [theme=dark] .colab-df-convert {\n",
              "      background-color: #3B4455;\n",
              "      fill: #D2E3FC;\n",
              "    }\n",
              "\n",
              "    [theme=dark] .colab-df-convert:hover {\n",
              "      background-color: #434B5C;\n",
              "      box-shadow: 0px 1px 3px 1px rgba(0, 0, 0, 0.15);\n",
              "      filter: drop-shadow(0px 1px 2px rgba(0, 0, 0, 0.3));\n",
              "      fill: #FFFFFF;\n",
              "    }\n",
              "  </style>\n",
              "\n",
              "    <script>\n",
              "      const buttonEl =\n",
              "        document.querySelector('#df-d6f40750-ac0b-4714-9d0a-380ec2758e6f button.colab-df-convert');\n",
              "      buttonEl.style.display =\n",
              "        google.colab.kernel.accessAllowed ? 'block' : 'none';\n",
              "\n",
              "      async function convertToInteractive(key) {\n",
              "        const element = document.querySelector('#df-d6f40750-ac0b-4714-9d0a-380ec2758e6f');\n",
              "        const dataTable =\n",
              "          await google.colab.kernel.invokeFunction('convertToInteractive',\n",
              "                                                    [key], {});\n",
              "        if (!dataTable) return;\n",
              "\n",
              "        const docLinkHtml = 'Like what you see? Visit the ' +\n",
              "          '<a target=\"_blank\" href=https://colab.research.google.com/notebooks/data_table.ipynb>data table notebook</a>'\n",
              "          + ' to learn more about interactive tables.';\n",
              "        element.innerHTML = '';\n",
              "        dataTable['output_type'] = 'display_data';\n",
              "        await google.colab.output.renderOutput(dataTable, element);\n",
              "        const docLink = document.createElement('div');\n",
              "        docLink.innerHTML = docLinkHtml;\n",
              "        element.appendChild(docLink);\n",
              "      }\n",
              "    </script>\n",
              "  </div>\n",
              "\n",
              "\n",
              "<div id=\"df-4a748192-dce9-43cd-a07f-01a283a82e01\">\n",
              "  <button class=\"colab-df-quickchart\" onclick=\"quickchart('df-4a748192-dce9-43cd-a07f-01a283a82e01')\"\n",
              "            title=\"Suggest charts.\"\n",
              "            style=\"display:none;\">\n",
              "\n",
              "<svg xmlns=\"http://www.w3.org/2000/svg\" height=\"24px\"viewBox=\"0 0 24 24\"\n",
              "     width=\"24px\">\n",
              "    <g>\n",
              "        <path d=\"M19 3H5c-1.1 0-2 .9-2 2v14c0 1.1.9 2 2 2h14c1.1 0 2-.9 2-2V5c0-1.1-.9-2-2-2zM9 17H7v-7h2v7zm4 0h-2V7h2v10zm4 0h-2v-4h2v4z\"/>\n",
              "    </g>\n",
              "</svg>\n",
              "  </button>\n",
              "\n",
              "<style>\n",
              "  .colab-df-quickchart {\n",
              "      --bg-color: #E8F0FE;\n",
              "      --fill-color: #1967D2;\n",
              "      --hover-bg-color: #E2EBFA;\n",
              "      --hover-fill-color: #174EA6;\n",
              "      --disabled-fill-color: #AAA;\n",
              "      --disabled-bg-color: #DDD;\n",
              "  }\n",
              "\n",
              "  [theme=dark] .colab-df-quickchart {\n",
              "      --bg-color: #3B4455;\n",
              "      --fill-color: #D2E3FC;\n",
              "      --hover-bg-color: #434B5C;\n",
              "      --hover-fill-color: #FFFFFF;\n",
              "      --disabled-bg-color: #3B4455;\n",
              "      --disabled-fill-color: #666;\n",
              "  }\n",
              "\n",
              "  .colab-df-quickchart {\n",
              "    background-color: var(--bg-color);\n",
              "    border: none;\n",
              "    border-radius: 50%;\n",
              "    cursor: pointer;\n",
              "    display: none;\n",
              "    fill: var(--fill-color);\n",
              "    height: 32px;\n",
              "    padding: 0;\n",
              "    width: 32px;\n",
              "  }\n",
              "\n",
              "  .colab-df-quickchart:hover {\n",
              "    background-color: var(--hover-bg-color);\n",
              "    box-shadow: 0 1px 2px rgba(60, 64, 67, 0.3), 0 1px 3px 1px rgba(60, 64, 67, 0.15);\n",
              "    fill: var(--button-hover-fill-color);\n",
              "  }\n",
              "\n",
              "  .colab-df-quickchart-complete:disabled,\n",
              "  .colab-df-quickchart-complete:disabled:hover {\n",
              "    background-color: var(--disabled-bg-color);\n",
              "    fill: var(--disabled-fill-color);\n",
              "    box-shadow: none;\n",
              "  }\n",
              "\n",
              "  .colab-df-spinner {\n",
              "    border: 2px solid var(--fill-color);\n",
              "    border-color: transparent;\n",
              "    border-bottom-color: var(--fill-color);\n",
              "    animation:\n",
              "      spin 1s steps(1) infinite;\n",
              "  }\n",
              "\n",
              "  @keyframes spin {\n",
              "    0% {\n",
              "      border-color: transparent;\n",
              "      border-bottom-color: var(--fill-color);\n",
              "      border-left-color: var(--fill-color);\n",
              "    }\n",
              "    20% {\n",
              "      border-color: transparent;\n",
              "      border-left-color: var(--fill-color);\n",
              "      border-top-color: var(--fill-color);\n",
              "    }\n",
              "    30% {\n",
              "      border-color: transparent;\n",
              "      border-left-color: var(--fill-color);\n",
              "      border-top-color: var(--fill-color);\n",
              "      border-right-color: var(--fill-color);\n",
              "    }\n",
              "    40% {\n",
              "      border-color: transparent;\n",
              "      border-right-color: var(--fill-color);\n",
              "      border-top-color: var(--fill-color);\n",
              "    }\n",
              "    60% {\n",
              "      border-color: transparent;\n",
              "      border-right-color: var(--fill-color);\n",
              "    }\n",
              "    80% {\n",
              "      border-color: transparent;\n",
              "      border-right-color: var(--fill-color);\n",
              "      border-bottom-color: var(--fill-color);\n",
              "    }\n",
              "    90% {\n",
              "      border-color: transparent;\n",
              "      border-bottom-color: var(--fill-color);\n",
              "    }\n",
              "  }\n",
              "</style>\n",
              "\n",
              "  <script>\n",
              "    async function quickchart(key) {\n",
              "      const quickchartButtonEl =\n",
              "        document.querySelector('#' + key + ' button');\n",
              "      quickchartButtonEl.disabled = true;  // To prevent multiple clicks.\n",
              "      quickchartButtonEl.classList.add('colab-df-spinner');\n",
              "      try {\n",
              "        const charts = await google.colab.kernel.invokeFunction(\n",
              "            'suggestCharts', [key], {});\n",
              "      } catch (error) {\n",
              "        console.error('Error during call to suggestCharts:', error);\n",
              "      }\n",
              "      quickchartButtonEl.classList.remove('colab-df-spinner');\n",
              "      quickchartButtonEl.classList.add('colab-df-quickchart-complete');\n",
              "    }\n",
              "    (() => {\n",
              "      let quickchartButtonEl =\n",
              "        document.querySelector('#df-4a748192-dce9-43cd-a07f-01a283a82e01 button');\n",
              "      quickchartButtonEl.style.display =\n",
              "        google.colab.kernel.accessAllowed ? 'block' : 'none';\n",
              "    })();\n",
              "  </script>\n",
              "</div>\n",
              "    </div>\n",
              "  </div>\n"
            ]
          },
          "metadata": {},
          "execution_count": 15
        }
      ]
    },
    {
      "cell_type": "markdown",
      "source": [
        "**Вывод:** \\\n",
        "Величина \"Salary in USD\" (заработная плата людей, работающих в области Data Science в год в долларах США):\n",
        "* Средняя зарплата составляет около 142,095 долларов.\n",
        "* Стандартное отклонение зарплаты высокое (примерно 69,028.24).\n",
        "* Минимальная зарплата составляет 15,000 долларов, а максимальная - 450,000 долларов.\n",
        "* Медианное значение составляет 136,000 долларов, что меньше средней зарплаты, что также может указывать на наличие правого хвоста в распределении.\n",
        "* 25% зарплат ниже 90000.\n",
        "* 50% зарплат ниже 136000.\n",
        "* 75% запрлат 185000.\n",
        "\n"
      ],
      "metadata": {
        "id": "bSD0ObBApJD7"
      }
    },
    {
      "cell_type": "code",
      "source": [
        "# categorical_summary = data.describe(include=['O'])\n",
        "# categorical_summary"
      ],
      "metadata": {
        "colab": {
          "base_uri": "https://localhost:8080/",
          "height": 175
        },
        "id": "Lj0T3J_-80Ku",
        "outputId": "2362ab34-2ea3-4d1f-8e77-167f53100038"
      },
      "execution_count": null,
      "outputs": [
        {
          "output_type": "execute_result",
          "data": {
            "text/plain": [
              "            Job Title Employment Type Experience Level Expertise Level  \\\n",
              "count            3300            3300             3300            3300   \n",
              "unique            111               4                4               4   \n",
              "top     Data Engineer       Full-Time           Senior          Expert   \n",
              "freq              702            3261             2065            2065   \n",
              "\n",
              "             Salary Currency Company Location Employee Residence Company Size  \n",
              "count                   3300             3300               3300         3300  \n",
              "unique                    22               71                 83            3  \n",
              "top     United States Dollar    United States      United States       Medium  \n",
              "freq                    2770             2495               2453         2707  "
            ],
            "text/html": [
              "\n",
              "  <div id=\"df-6411e8e0-8e26-4925-8685-5631da710c6c\" class=\"colab-df-container\">\n",
              "    <div>\n",
              "<style scoped>\n",
              "    .dataframe tbody tr th:only-of-type {\n",
              "        vertical-align: middle;\n",
              "    }\n",
              "\n",
              "    .dataframe tbody tr th {\n",
              "        vertical-align: top;\n",
              "    }\n",
              "\n",
              "    .dataframe thead th {\n",
              "        text-align: right;\n",
              "    }\n",
              "</style>\n",
              "<table border=\"1\" class=\"dataframe\">\n",
              "  <thead>\n",
              "    <tr style=\"text-align: right;\">\n",
              "      <th></th>\n",
              "      <th>Job Title</th>\n",
              "      <th>Employment Type</th>\n",
              "      <th>Experience Level</th>\n",
              "      <th>Expertise Level</th>\n",
              "      <th>Salary Currency</th>\n",
              "      <th>Company Location</th>\n",
              "      <th>Employee Residence</th>\n",
              "      <th>Company Size</th>\n",
              "    </tr>\n",
              "  </thead>\n",
              "  <tbody>\n",
              "    <tr>\n",
              "      <th>count</th>\n",
              "      <td>3300</td>\n",
              "      <td>3300</td>\n",
              "      <td>3300</td>\n",
              "      <td>3300</td>\n",
              "      <td>3300</td>\n",
              "      <td>3300</td>\n",
              "      <td>3300</td>\n",
              "      <td>3300</td>\n",
              "    </tr>\n",
              "    <tr>\n",
              "      <th>unique</th>\n",
              "      <td>111</td>\n",
              "      <td>4</td>\n",
              "      <td>4</td>\n",
              "      <td>4</td>\n",
              "      <td>22</td>\n",
              "      <td>71</td>\n",
              "      <td>83</td>\n",
              "      <td>3</td>\n",
              "    </tr>\n",
              "    <tr>\n",
              "      <th>top</th>\n",
              "      <td>Data Engineer</td>\n",
              "      <td>Full-Time</td>\n",
              "      <td>Senior</td>\n",
              "      <td>Expert</td>\n",
              "      <td>United States Dollar</td>\n",
              "      <td>United States</td>\n",
              "      <td>United States</td>\n",
              "      <td>Medium</td>\n",
              "    </tr>\n",
              "    <tr>\n",
              "      <th>freq</th>\n",
              "      <td>702</td>\n",
              "      <td>3261</td>\n",
              "      <td>2065</td>\n",
              "      <td>2065</td>\n",
              "      <td>2770</td>\n",
              "      <td>2495</td>\n",
              "      <td>2453</td>\n",
              "      <td>2707</td>\n",
              "    </tr>\n",
              "  </tbody>\n",
              "</table>\n",
              "</div>\n",
              "    <div class=\"colab-df-buttons\">\n",
              "\n",
              "  <div class=\"colab-df-container\">\n",
              "    <button class=\"colab-df-convert\" onclick=\"convertToInteractive('df-6411e8e0-8e26-4925-8685-5631da710c6c')\"\n",
              "            title=\"Convert this dataframe to an interactive table.\"\n",
              "            style=\"display:none;\">\n",
              "\n",
              "  <svg xmlns=\"http://www.w3.org/2000/svg\" height=\"24px\" viewBox=\"0 -960 960 960\">\n",
              "    <path d=\"M120-120v-720h720v720H120Zm60-500h600v-160H180v160Zm220 220h160v-160H400v160Zm0 220h160v-160H400v160ZM180-400h160v-160H180v160Zm440 0h160v-160H620v160ZM180-180h160v-160H180v160Zm440 0h160v-160H620v160Z\"/>\n",
              "  </svg>\n",
              "    </button>\n",
              "\n",
              "  <style>\n",
              "    .colab-df-container {\n",
              "      display:flex;\n",
              "      gap: 12px;\n",
              "    }\n",
              "\n",
              "    .colab-df-convert {\n",
              "      background-color: #E8F0FE;\n",
              "      border: none;\n",
              "      border-radius: 50%;\n",
              "      cursor: pointer;\n",
              "      display: none;\n",
              "      fill: #1967D2;\n",
              "      height: 32px;\n",
              "      padding: 0 0 0 0;\n",
              "      width: 32px;\n",
              "    }\n",
              "\n",
              "    .colab-df-convert:hover {\n",
              "      background-color: #E2EBFA;\n",
              "      box-shadow: 0px 1px 2px rgba(60, 64, 67, 0.3), 0px 1px 3px 1px rgba(60, 64, 67, 0.15);\n",
              "      fill: #174EA6;\n",
              "    }\n",
              "\n",
              "    .colab-df-buttons div {\n",
              "      margin-bottom: 4px;\n",
              "    }\n",
              "\n",
              "    [theme=dark] .colab-df-convert {\n",
              "      background-color: #3B4455;\n",
              "      fill: #D2E3FC;\n",
              "    }\n",
              "\n",
              "    [theme=dark] .colab-df-convert:hover {\n",
              "      background-color: #434B5C;\n",
              "      box-shadow: 0px 1px 3px 1px rgba(0, 0, 0, 0.15);\n",
              "      filter: drop-shadow(0px 1px 2px rgba(0, 0, 0, 0.3));\n",
              "      fill: #FFFFFF;\n",
              "    }\n",
              "  </style>\n",
              "\n",
              "    <script>\n",
              "      const buttonEl =\n",
              "        document.querySelector('#df-6411e8e0-8e26-4925-8685-5631da710c6c button.colab-df-convert');\n",
              "      buttonEl.style.display =\n",
              "        google.colab.kernel.accessAllowed ? 'block' : 'none';\n",
              "\n",
              "      async function convertToInteractive(key) {\n",
              "        const element = document.querySelector('#df-6411e8e0-8e26-4925-8685-5631da710c6c');\n",
              "        const dataTable =\n",
              "          await google.colab.kernel.invokeFunction('convertToInteractive',\n",
              "                                                    [key], {});\n",
              "        if (!dataTable) return;\n",
              "\n",
              "        const docLinkHtml = 'Like what you see? Visit the ' +\n",
              "          '<a target=\"_blank\" href=https://colab.research.google.com/notebooks/data_table.ipynb>data table notebook</a>'\n",
              "          + ' to learn more about interactive tables.';\n",
              "        element.innerHTML = '';\n",
              "        dataTable['output_type'] = 'display_data';\n",
              "        await google.colab.output.renderOutput(dataTable, element);\n",
              "        const docLink = document.createElement('div');\n",
              "        docLink.innerHTML = docLinkHtml;\n",
              "        element.appendChild(docLink);\n",
              "      }\n",
              "    </script>\n",
              "  </div>\n",
              "\n",
              "\n",
              "<div id=\"df-d395bc2c-7259-4dca-9d13-9ddf523a6e3f\">\n",
              "  <button class=\"colab-df-quickchart\" onclick=\"quickchart('df-d395bc2c-7259-4dca-9d13-9ddf523a6e3f')\"\n",
              "            title=\"Suggest charts.\"\n",
              "            style=\"display:none;\">\n",
              "\n",
              "<svg xmlns=\"http://www.w3.org/2000/svg\" height=\"24px\"viewBox=\"0 0 24 24\"\n",
              "     width=\"24px\">\n",
              "    <g>\n",
              "        <path d=\"M19 3H5c-1.1 0-2 .9-2 2v14c0 1.1.9 2 2 2h14c1.1 0 2-.9 2-2V5c0-1.1-.9-2-2-2zM9 17H7v-7h2v7zm4 0h-2V7h2v10zm4 0h-2v-4h2v4z\"/>\n",
              "    </g>\n",
              "</svg>\n",
              "  </button>\n",
              "\n",
              "<style>\n",
              "  .colab-df-quickchart {\n",
              "      --bg-color: #E8F0FE;\n",
              "      --fill-color: #1967D2;\n",
              "      --hover-bg-color: #E2EBFA;\n",
              "      --hover-fill-color: #174EA6;\n",
              "      --disabled-fill-color: #AAA;\n",
              "      --disabled-bg-color: #DDD;\n",
              "  }\n",
              "\n",
              "  [theme=dark] .colab-df-quickchart {\n",
              "      --bg-color: #3B4455;\n",
              "      --fill-color: #D2E3FC;\n",
              "      --hover-bg-color: #434B5C;\n",
              "      --hover-fill-color: #FFFFFF;\n",
              "      --disabled-bg-color: #3B4455;\n",
              "      --disabled-fill-color: #666;\n",
              "  }\n",
              "\n",
              "  .colab-df-quickchart {\n",
              "    background-color: var(--bg-color);\n",
              "    border: none;\n",
              "    border-radius: 50%;\n",
              "    cursor: pointer;\n",
              "    display: none;\n",
              "    fill: var(--fill-color);\n",
              "    height: 32px;\n",
              "    padding: 0;\n",
              "    width: 32px;\n",
              "  }\n",
              "\n",
              "  .colab-df-quickchart:hover {\n",
              "    background-color: var(--hover-bg-color);\n",
              "    box-shadow: 0 1px 2px rgba(60, 64, 67, 0.3), 0 1px 3px 1px rgba(60, 64, 67, 0.15);\n",
              "    fill: var(--button-hover-fill-color);\n",
              "  }\n",
              "\n",
              "  .colab-df-quickchart-complete:disabled,\n",
              "  .colab-df-quickchart-complete:disabled:hover {\n",
              "    background-color: var(--disabled-bg-color);\n",
              "    fill: var(--disabled-fill-color);\n",
              "    box-shadow: none;\n",
              "  }\n",
              "\n",
              "  .colab-df-spinner {\n",
              "    border: 2px solid var(--fill-color);\n",
              "    border-color: transparent;\n",
              "    border-bottom-color: var(--fill-color);\n",
              "    animation:\n",
              "      spin 1s steps(1) infinite;\n",
              "  }\n",
              "\n",
              "  @keyframes spin {\n",
              "    0% {\n",
              "      border-color: transparent;\n",
              "      border-bottom-color: var(--fill-color);\n",
              "      border-left-color: var(--fill-color);\n",
              "    }\n",
              "    20% {\n",
              "      border-color: transparent;\n",
              "      border-left-color: var(--fill-color);\n",
              "      border-top-color: var(--fill-color);\n",
              "    }\n",
              "    30% {\n",
              "      border-color: transparent;\n",
              "      border-left-color: var(--fill-color);\n",
              "      border-top-color: var(--fill-color);\n",
              "      border-right-color: var(--fill-color);\n",
              "    }\n",
              "    40% {\n",
              "      border-color: transparent;\n",
              "      border-right-color: var(--fill-color);\n",
              "      border-top-color: var(--fill-color);\n",
              "    }\n",
              "    60% {\n",
              "      border-color: transparent;\n",
              "      border-right-color: var(--fill-color);\n",
              "    }\n",
              "    80% {\n",
              "      border-color: transparent;\n",
              "      border-right-color: var(--fill-color);\n",
              "      border-bottom-color: var(--fill-color);\n",
              "    }\n",
              "    90% {\n",
              "      border-color: transparent;\n",
              "      border-bottom-color: var(--fill-color);\n",
              "    }\n",
              "  }\n",
              "</style>\n",
              "\n",
              "  <script>\n",
              "    async function quickchart(key) {\n",
              "      const quickchartButtonEl =\n",
              "        document.querySelector('#' + key + ' button');\n",
              "      quickchartButtonEl.disabled = true;  // To prevent multiple clicks.\n",
              "      quickchartButtonEl.classList.add('colab-df-spinner');\n",
              "      try {\n",
              "        const charts = await google.colab.kernel.invokeFunction(\n",
              "            'suggestCharts', [key], {});\n",
              "      } catch (error) {\n",
              "        console.error('Error during call to suggestCharts:', error);\n",
              "      }\n",
              "      quickchartButtonEl.classList.remove('colab-df-spinner');\n",
              "      quickchartButtonEl.classList.add('colab-df-quickchart-complete');\n",
              "    }\n",
              "    (() => {\n",
              "      let quickchartButtonEl =\n",
              "        document.querySelector('#df-d395bc2c-7259-4dca-9d13-9ddf523a6e3f button');\n",
              "      quickchartButtonEl.style.display =\n",
              "        google.colab.kernel.accessAllowed ? 'block' : 'none';\n",
              "    })();\n",
              "  </script>\n",
              "</div>\n",
              "    </div>\n",
              "  </div>\n"
            ]
          },
          "metadata": {},
          "execution_count": 66
        }
      ]
    },
    {
      "cell_type": "markdown",
      "source": [
        "## 9. skew()"
      ],
      "metadata": {
        "id": "lNp8bw1itZWv"
      }
    },
    {
      "cell_type": "code",
      "source": [
        "data.skew()"
      ],
      "metadata": {
        "colab": {
          "base_uri": "https://localhost:8080/"
        },
        "id": "HaQaVoo5rMd_",
        "outputId": "00353db7-155e-44f5-9e11-2090a1642f8e"
      },
      "execution_count": null,
      "outputs": [
        {
          "output_type": "stream",
          "name": "stderr",
          "text": [
            "<ipython-input-16-b3b431164adb>:1: FutureWarning: The default value of numeric_only in DataFrame.skew is deprecated. In a future version, it will default to False. In addition, specifying 'numeric_only=None' is deprecated. Select only valid columns or specify the value of numeric_only to silence this warning.\n",
            "  data.skew()\n"
          ]
        },
        {
          "output_type": "execute_result",
          "data": {
            "text/plain": [
              "Salary           26.010\n",
              "Salary in USD     0.648\n",
              "Year             -1.420\n",
              "dtype: float64"
            ]
          },
          "metadata": {},
          "execution_count": 16
        }
      ]
    },
    {
      "cell_type": "code",
      "source": [
        "n = len(data) # n = data.shape[0] # объем выборки\n",
        "skew_err = pow(((6*(n-1))/((n+1)*(n+3))), 1/3)\n",
        "skew_err"
      ],
      "metadata": {
        "colab": {
          "base_uri": "https://localhost:8080/"
        },
        "id": "ubrBzp9muCT_",
        "outputId": "c650ab5c-e34f-4d06-b93a-58b950ce2816"
      },
      "execution_count": null,
      "outputs": [
        {
          "output_type": "execute_result",
          "data": {
            "text/plain": [
              "0.12199063425519305"
            ]
          },
          "metadata": {},
          "execution_count": 35
        }
      ]
    },
    {
      "cell_type": "markdown",
      "source": [
        "**Вывод:**\\\n",
        "**Salary (Зарплата):**\\\n",
        " Коэффициент асимметрии равный 26.01 указывает на значительную асимметрию. Распределение данных по зарплатам сильно смещено вправо и имеет длинный правый хвост.\n",
        "\n",
        "**Salary in USD**: Коэффициент асимметрии равный 0.648 говорит о том, что распределение данных по зарплатам в долларах ближе к симметричному распределению, но находится за пределами стандартной ошибки, поэтому имеет некоторую асимметрию.\n",
        "\n",
        "**Year**: Коэффициент асимметрии равный -1.42 указывает на небольшую асимметрию в распределении года. Он отрицателен, что означает, что данные более смещены влево. Вероятно, в данных преобладают более ранние годы.\n"
      ],
      "metadata": {
        "id": "rRoz531Vuu2E"
      }
    },
    {
      "cell_type": "markdown",
      "source": [
        "## 10. kurtosis()"
      ],
      "metadata": {
        "id": "of0FUZqbvrJL"
      }
    },
    {
      "cell_type": "code",
      "source": [
        "data.kurtosis()"
      ],
      "metadata": {
        "colab": {
          "base_uri": "https://localhost:8080/"
        },
        "id": "1aMztvACvqlT",
        "outputId": "494839b8-6546-466f-a17b-cd9d22fda315"
      },
      "execution_count": null,
      "outputs": [
        {
          "output_type": "stream",
          "name": "stderr",
          "text": [
            "<ipython-input-17-9ff11a21a968>:1: FutureWarning: The default value of numeric_only in DataFrame.kurt is deprecated. In a future version, it will default to False. In addition, specifying 'numeric_only=None' is deprecated. Select only valid columns or specify the value of numeric_only to silence this warning.\n",
            "  data.kurtosis()\n"
          ]
        },
        {
          "output_type": "execute_result",
          "data": {
            "text/plain": [
              "Salary           945.479\n",
              "Salary in USD      0.567\n",
              "Year               1.722\n",
              "dtype: float64"
            ]
          },
          "metadata": {},
          "execution_count": 17
        }
      ]
    },
    {
      "cell_type": "code",
      "source": [
        "n = len(data) # объем выборки\n",
        "kurtosis_err = 5 * pow(((24*n*(n-2)*(n-3))/(pow((n+1),2)*(n+3)*(n+5))), 1/2)\n",
        "kurtosis_err"
      ],
      "metadata": {
        "colab": {
          "base_uri": "https://localhost:8080/"
        },
        "id": "zpEKJDcnwDb8",
        "outputId": "13b298b1-4449-450d-defa-6293e069ece2"
      },
      "execution_count": null,
      "outputs": [
        {
          "output_type": "execute_result",
          "data": {
            "text/plain": [
              "0.42543366321494314"
            ]
          },
          "metadata": {},
          "execution_count": 37
        }
      ]
    },
    {
      "cell_type": "markdown",
      "source": [
        "**Вывод:**\n",
        "\\\n",
        "\"Salary in USD\": Значение эксцесса равное 0.567 превышает стандартную ошибку эксцесса (0.42543). Распределение близко к нормальному распределению, но все равно может содержать некоторые выбросы или отклонения."
      ],
      "metadata": {
        "id": "9qJWSfYbvqIb"
      }
    },
    {
      "cell_type": "markdown",
      "source": [
        "## 11. corr(method='pearson')."
      ],
      "metadata": {
        "id": "kBT9sxOiyclP"
      }
    },
    {
      "cell_type": "code",
      "source": [
        "data.corr(method='pearson')"
      ],
      "metadata": {
        "colab": {
          "base_uri": "https://localhost:8080/"
        },
        "id": "g9bKesXPyiEP",
        "outputId": "3fa99dc1-4ad0-422d-d867-85a686dca947"
      },
      "execution_count": null,
      "outputs": [
        {
          "output_type": "stream",
          "name": "stderr",
          "text": [
            "<ipython-input-18-c50c7eb58c83>:1: FutureWarning: The default value of numeric_only in DataFrame.corr is deprecated. In a future version, it will default to False. Select only valid columns or specify the value of numeric_only to silence this warning.\n",
            "  data.corr(method='pearson')\n"
          ]
        },
        {
          "output_type": "execute_result",
          "data": {
            "text/plain": [
              "               Salary  Salary in USD   Year\n",
              "Salary          1.000         -0.026 -0.099\n",
              "Salary in USD  -0.026          1.000  0.232\n",
              "Year           -0.099          0.232  1.000"
            ],
            "text/html": [
              "\n",
              "  <div id=\"df-7f44128a-4c43-47d7-a254-0d12e58f1bc4\" class=\"colab-df-container\">\n",
              "    <div>\n",
              "<style scoped>\n",
              "    .dataframe tbody tr th:only-of-type {\n",
              "        vertical-align: middle;\n",
              "    }\n",
              "\n",
              "    .dataframe tbody tr th {\n",
              "        vertical-align: top;\n",
              "    }\n",
              "\n",
              "    .dataframe thead th {\n",
              "        text-align: right;\n",
              "    }\n",
              "</style>\n",
              "<table border=\"1\" class=\"dataframe\">\n",
              "  <thead>\n",
              "    <tr style=\"text-align: right;\">\n",
              "      <th></th>\n",
              "      <th>Salary</th>\n",
              "      <th>Salary in USD</th>\n",
              "      <th>Year</th>\n",
              "    </tr>\n",
              "  </thead>\n",
              "  <tbody>\n",
              "    <tr>\n",
              "      <th>Salary</th>\n",
              "      <td>1.000</td>\n",
              "      <td>-0.026</td>\n",
              "      <td>-0.099</td>\n",
              "    </tr>\n",
              "    <tr>\n",
              "      <th>Salary in USD</th>\n",
              "      <td>-0.026</td>\n",
              "      <td>1.000</td>\n",
              "      <td>0.232</td>\n",
              "    </tr>\n",
              "    <tr>\n",
              "      <th>Year</th>\n",
              "      <td>-0.099</td>\n",
              "      <td>0.232</td>\n",
              "      <td>1.000</td>\n",
              "    </tr>\n",
              "  </tbody>\n",
              "</table>\n",
              "</div>\n",
              "    <div class=\"colab-df-buttons\">\n",
              "\n",
              "  <div class=\"colab-df-container\">\n",
              "    <button class=\"colab-df-convert\" onclick=\"convertToInteractive('df-7f44128a-4c43-47d7-a254-0d12e58f1bc4')\"\n",
              "            title=\"Convert this dataframe to an interactive table.\"\n",
              "            style=\"display:none;\">\n",
              "\n",
              "  <svg xmlns=\"http://www.w3.org/2000/svg\" height=\"24px\" viewBox=\"0 -960 960 960\">\n",
              "    <path d=\"M120-120v-720h720v720H120Zm60-500h600v-160H180v160Zm220 220h160v-160H400v160Zm0 220h160v-160H400v160ZM180-400h160v-160H180v160Zm440 0h160v-160H620v160ZM180-180h160v-160H180v160Zm440 0h160v-160H620v160Z\"/>\n",
              "  </svg>\n",
              "    </button>\n",
              "\n",
              "  <style>\n",
              "    .colab-df-container {\n",
              "      display:flex;\n",
              "      gap: 12px;\n",
              "    }\n",
              "\n",
              "    .colab-df-convert {\n",
              "      background-color: #E8F0FE;\n",
              "      border: none;\n",
              "      border-radius: 50%;\n",
              "      cursor: pointer;\n",
              "      display: none;\n",
              "      fill: #1967D2;\n",
              "      height: 32px;\n",
              "      padding: 0 0 0 0;\n",
              "      width: 32px;\n",
              "    }\n",
              "\n",
              "    .colab-df-convert:hover {\n",
              "      background-color: #E2EBFA;\n",
              "      box-shadow: 0px 1px 2px rgba(60, 64, 67, 0.3), 0px 1px 3px 1px rgba(60, 64, 67, 0.15);\n",
              "      fill: #174EA6;\n",
              "    }\n",
              "\n",
              "    .colab-df-buttons div {\n",
              "      margin-bottom: 4px;\n",
              "    }\n",
              "\n",
              "    [theme=dark] .colab-df-convert {\n",
              "      background-color: #3B4455;\n",
              "      fill: #D2E3FC;\n",
              "    }\n",
              "\n",
              "    [theme=dark] .colab-df-convert:hover {\n",
              "      background-color: #434B5C;\n",
              "      box-shadow: 0px 1px 3px 1px rgba(0, 0, 0, 0.15);\n",
              "      filter: drop-shadow(0px 1px 2px rgba(0, 0, 0, 0.3));\n",
              "      fill: #FFFFFF;\n",
              "    }\n",
              "  </style>\n",
              "\n",
              "    <script>\n",
              "      const buttonEl =\n",
              "        document.querySelector('#df-7f44128a-4c43-47d7-a254-0d12e58f1bc4 button.colab-df-convert');\n",
              "      buttonEl.style.display =\n",
              "        google.colab.kernel.accessAllowed ? 'block' : 'none';\n",
              "\n",
              "      async function convertToInteractive(key) {\n",
              "        const element = document.querySelector('#df-7f44128a-4c43-47d7-a254-0d12e58f1bc4');\n",
              "        const dataTable =\n",
              "          await google.colab.kernel.invokeFunction('convertToInteractive',\n",
              "                                                    [key], {});\n",
              "        if (!dataTable) return;\n",
              "\n",
              "        const docLinkHtml = 'Like what you see? Visit the ' +\n",
              "          '<a target=\"_blank\" href=https://colab.research.google.com/notebooks/data_table.ipynb>data table notebook</a>'\n",
              "          + ' to learn more about interactive tables.';\n",
              "        element.innerHTML = '';\n",
              "        dataTable['output_type'] = 'display_data';\n",
              "        await google.colab.output.renderOutput(dataTable, element);\n",
              "        const docLink = document.createElement('div');\n",
              "        docLink.innerHTML = docLinkHtml;\n",
              "        element.appendChild(docLink);\n",
              "      }\n",
              "    </script>\n",
              "  </div>\n",
              "\n",
              "\n",
              "<div id=\"df-2d91c38d-2b43-4d72-aeaa-6e0154e49f79\">\n",
              "  <button class=\"colab-df-quickchart\" onclick=\"quickchart('df-2d91c38d-2b43-4d72-aeaa-6e0154e49f79')\"\n",
              "            title=\"Suggest charts.\"\n",
              "            style=\"display:none;\">\n",
              "\n",
              "<svg xmlns=\"http://www.w3.org/2000/svg\" height=\"24px\"viewBox=\"0 0 24 24\"\n",
              "     width=\"24px\">\n",
              "    <g>\n",
              "        <path d=\"M19 3H5c-1.1 0-2 .9-2 2v14c0 1.1.9 2 2 2h14c1.1 0 2-.9 2-2V5c0-1.1-.9-2-2-2zM9 17H7v-7h2v7zm4 0h-2V7h2v10zm4 0h-2v-4h2v4z\"/>\n",
              "    </g>\n",
              "</svg>\n",
              "  </button>\n",
              "\n",
              "<style>\n",
              "  .colab-df-quickchart {\n",
              "      --bg-color: #E8F0FE;\n",
              "      --fill-color: #1967D2;\n",
              "      --hover-bg-color: #E2EBFA;\n",
              "      --hover-fill-color: #174EA6;\n",
              "      --disabled-fill-color: #AAA;\n",
              "      --disabled-bg-color: #DDD;\n",
              "  }\n",
              "\n",
              "  [theme=dark] .colab-df-quickchart {\n",
              "      --bg-color: #3B4455;\n",
              "      --fill-color: #D2E3FC;\n",
              "      --hover-bg-color: #434B5C;\n",
              "      --hover-fill-color: #FFFFFF;\n",
              "      --disabled-bg-color: #3B4455;\n",
              "      --disabled-fill-color: #666;\n",
              "  }\n",
              "\n",
              "  .colab-df-quickchart {\n",
              "    background-color: var(--bg-color);\n",
              "    border: none;\n",
              "    border-radius: 50%;\n",
              "    cursor: pointer;\n",
              "    display: none;\n",
              "    fill: var(--fill-color);\n",
              "    height: 32px;\n",
              "    padding: 0;\n",
              "    width: 32px;\n",
              "  }\n",
              "\n",
              "  .colab-df-quickchart:hover {\n",
              "    background-color: var(--hover-bg-color);\n",
              "    box-shadow: 0 1px 2px rgba(60, 64, 67, 0.3), 0 1px 3px 1px rgba(60, 64, 67, 0.15);\n",
              "    fill: var(--button-hover-fill-color);\n",
              "  }\n",
              "\n",
              "  .colab-df-quickchart-complete:disabled,\n",
              "  .colab-df-quickchart-complete:disabled:hover {\n",
              "    background-color: var(--disabled-bg-color);\n",
              "    fill: var(--disabled-fill-color);\n",
              "    box-shadow: none;\n",
              "  }\n",
              "\n",
              "  .colab-df-spinner {\n",
              "    border: 2px solid var(--fill-color);\n",
              "    border-color: transparent;\n",
              "    border-bottom-color: var(--fill-color);\n",
              "    animation:\n",
              "      spin 1s steps(1) infinite;\n",
              "  }\n",
              "\n",
              "  @keyframes spin {\n",
              "    0% {\n",
              "      border-color: transparent;\n",
              "      border-bottom-color: var(--fill-color);\n",
              "      border-left-color: var(--fill-color);\n",
              "    }\n",
              "    20% {\n",
              "      border-color: transparent;\n",
              "      border-left-color: var(--fill-color);\n",
              "      border-top-color: var(--fill-color);\n",
              "    }\n",
              "    30% {\n",
              "      border-color: transparent;\n",
              "      border-left-color: var(--fill-color);\n",
              "      border-top-color: var(--fill-color);\n",
              "      border-right-color: var(--fill-color);\n",
              "    }\n",
              "    40% {\n",
              "      border-color: transparent;\n",
              "      border-right-color: var(--fill-color);\n",
              "      border-top-color: var(--fill-color);\n",
              "    }\n",
              "    60% {\n",
              "      border-color: transparent;\n",
              "      border-right-color: var(--fill-color);\n",
              "    }\n",
              "    80% {\n",
              "      border-color: transparent;\n",
              "      border-right-color: var(--fill-color);\n",
              "      border-bottom-color: var(--fill-color);\n",
              "    }\n",
              "    90% {\n",
              "      border-color: transparent;\n",
              "      border-bottom-color: var(--fill-color);\n",
              "    }\n",
              "  }\n",
              "</style>\n",
              "\n",
              "  <script>\n",
              "    async function quickchart(key) {\n",
              "      const quickchartButtonEl =\n",
              "        document.querySelector('#' + key + ' button');\n",
              "      quickchartButtonEl.disabled = true;  // To prevent multiple clicks.\n",
              "      quickchartButtonEl.classList.add('colab-df-spinner');\n",
              "      try {\n",
              "        const charts = await google.colab.kernel.invokeFunction(\n",
              "            'suggestCharts', [key], {});\n",
              "      } catch (error) {\n",
              "        console.error('Error during call to suggestCharts:', error);\n",
              "      }\n",
              "      quickchartButtonEl.classList.remove('colab-df-spinner');\n",
              "      quickchartButtonEl.classList.add('colab-df-quickchart-complete');\n",
              "    }\n",
              "    (() => {\n",
              "      let quickchartButtonEl =\n",
              "        document.querySelector('#df-2d91c38d-2b43-4d72-aeaa-6e0154e49f79 button');\n",
              "      quickchartButtonEl.style.display =\n",
              "        google.colab.kernel.accessAllowed ? 'block' : 'none';\n",
              "    })();\n",
              "  </script>\n",
              "</div>\n",
              "    </div>\n",
              "  </div>\n"
            ]
          },
          "metadata": {},
          "execution_count": 18
        }
      ]
    },
    {
      "cell_type": "markdown",
      "source": [
        "**Вывод:** \\\n",
        "Между \"Salary in USD\" и \"Year\" коэффициент корреляции составляет 0.232. Связь между этими двумя признаками слабая, но положительная. Это может говорить о том, что чем больше прошло времени (год), тем, скорее всего, будет немного выше зарплата в долларах США, но изменение не будет значительным (с течением времени зарплаты, выраженные в долларах США, немного растут)."
      ],
      "metadata": {
        "id": "i6WQUQn4tiWf"
      }
    },
    {
      "cell_type": "markdown",
      "source": [
        "## 12. hist(figsize=(8,8))\n"
      ],
      "metadata": {
        "id": "EW5VfqB6zDXv"
      }
    },
    {
      "cell_type": "code",
      "source": [
        "data.hist(figsize=(8,4))\n",
        "plt.show()"
      ],
      "metadata": {
        "colab": {
          "base_uri": "https://localhost:8080/"
        },
        "id": "zi3WdLZD0ioD",
        "outputId": "cbdfb8d6-aa15-471b-de10-0d2c630456f4"
      },
      "execution_count": null,
      "outputs": [
        {
          "output_type": "display_data",
          "data": {
            "text/plain": [
              "<Figure size 800x400 with 4 Axes>"
            ],
            "image/png": "[encoded data removed]"
          },
          "metadata": {}
        }
      ]
    },
    {
      "cell_type": "code",
      "source": [
        "# Предположим, что ваш датасет находится в переменной data, а вы хотите обрезать столбец \"Salary in USD\"\n",
        "column_name = \"Salary in USD\"\n",
        "\n",
        "# 25-й и 75-й перцентили\n",
        "Q1 = data[column_name].quantile(0.25)\n",
        "#print(Q1)\n",
        "Q3 = data[column_name].quantile(0.75)\n",
        "\n",
        "# интерквартильный диапазон (IQR)\n",
        "IQR = Q3 - Q1\n",
        "#print(\"Разница между верхним (75-й перцентиль) и нижним (25-й перцентиль) составляет \", IQR)\n",
        "\n",
        "# нижний и верхний пороги для обрезки данных\n",
        "lower_threshold = Q1 - 1.5 * IQR\n",
        "upper_threshold = Q3 + 1.5 * IQR\n",
        "\n",
        "# фильтр (значения, находящиеся внутри интервала)\n",
        "trimmed_data = data[(data[column_name] >= lower_threshold) & (data[column_name] <= upper_threshold)]\n",
        "\n",
        "trimmed_data[column_name].hist(figsize=(10,3))\n",
        "plt.show()"
      ],
      "metadata": {
        "colab": {
          "base_uri": "https://localhost:8080/"
        },
        "id": "BhzreLeH294_",
        "outputId": "ca9755fc-5ff7-4c32-bf5a-05db35636339"
      },
      "execution_count": null,
      "outputs": [
        {
          "output_type": "display_data",
          "data": {
            "text/plain": [
              "<Figure size 1000x300 with 1 Axes>"
            ],
            "image/png": "[encoded data removed]"
          },
          "metadata": {}
        }
      ]
    },
    {
      "cell_type": "markdown",
      "source": [
        "**Вывод:** \\\n",
        "На гистограмме видно, что распределение данных признака имеет легкую асимметрию. \\\n",
        "В данном случае, мода признака находится слева от центра гистограммы.\n"
      ],
      "metadata": {
        "id": "0J-rKcet0fAU"
      }
    },
    {
      "cell_type": "markdown",
      "source": [
        "## 13. Функция плотности для всех признаков\n"
      ],
      "metadata": {
        "id": "nl3HJZWl-HFT"
      }
    },
    {
      "cell_type": "code",
      "source": [
        "data.plot(kind='kde',\n",
        "          subplots=True, # несколько рисунков\n",
        "          layout=(3,3),\n",
        "          sharex=False, # отдельное описание x\n",
        "          sharey=False,\n",
        "          figsize=(15,15)\n",
        "          )\n",
        "plt.show()"
      ],
      "metadata": {
        "colab": {
          "base_uri": "https://localhost:8080/",
          "height": 433
        },
        "id": "r1Hjb533-KJu",
        "outputId": "8b92a776-26ec-49f3-fdfe-4bc6dc84d6a1"
      },
      "execution_count": null,
      "outputs": [
        {
          "output_type": "display_data",
          "data": {
            "text/plain": [
              "<Figure size 1500x1500 with 9 Axes>"
            ],
            "image/png": "[encoded data removed]"
          },
          "metadata": {}
        }
      ]
    },
    {
      "cell_type": "markdown",
      "source": [
        "**Вывод:** \\\n",
        "Плотность распределение \"Salary in USD\" имеет положительное значение ассиметрии"
      ],
      "metadata": {
        "id": "o7R_fxHW-Ktv"
      }
    },
    {
      "cell_type": "markdown",
      "source": [
        "## 14. Ящики с усами"
      ],
      "metadata": {
        "id": "N9LYUp2c-Rzi"
      }
    },
    {
      "cell_type": "code",
      "source": [
        "data.plot(kind='box', subplots=True,\n",
        "          layout=(3,3), sharex=False, sharey=False,\n",
        "          figsize=(15,15))\n",
        "plt.show()"
      ],
      "metadata": {
        "colab": {
          "base_uri": "https://localhost:8080/",
          "height": 415
        },
        "id": "VEJWKU_I-UyW",
        "outputId": "4867dbe3-9156-4536-e47b-56ebca6b8be4"
      },
      "execution_count": null,
      "outputs": [
        {
          "output_type": "display_data",
          "data": {
            "text/plain": [
              "<Figure size 1500x1500 with 9 Axes>"
            ],
            "image/png": "[encoded data removed]"
          },
          "metadata": {}
        }
      ]
    },
    {
      "cell_type": "code",
      "source": [
        "x = 'Salary in USD'\n",
        "fig = plotly.express.box(data, x)\n",
        "fig.update_layout(title=f'<b>Boxplot<br> <sup>{x}</sup></b>',\n",
        "    showlegend=False,\n",
        "    yaxis=dict(tickangle= -45),\n",
        "    height=300,\n",
        "    width=1500,\n",
        "    margin=dict(t=100, l=80),\n",
        "    template='plotly_white')\n"
      ],
      "metadata": {
        "colab": {
          "base_uri": "https://localhost:8080/",
          "height": 317
        },
        "id": "AlOBYNyBFt3W",
        "outputId": "f6a88655-28ee-4b74-c780-bd597f5855fb"
      },
      "execution_count": null,
      "outputs": [
        {
          "output_type": "display_data",
          "data": {
            "text/html": [
              "<html>\n",
              "<head><meta charset=\"utf-8\" /></head>\n",
              "<body>\n",
              "    <div>            <script src=\"https://cdnjs.cloudflare.com/ajax/libs/mathjax/2.7.5/MathJax.js?config=TeX-AMS-MML_SVG\"></script><script type=\"text/javascript\">if (window.MathJax && window.MathJax.Hub && window.MathJax.Hub.Config) {window.MathJax.Hub.Config({SVG: {font: \"STIX-Web\"}});}</script>                <script type=\"text/javascript\">window.PlotlyConfig = {MathJaxConfig: 'local'};</script>\n",
              "        <script charset=\"utf-8\" src=\"https://cdn.plot.ly/plotly-2.24.1.min.js\"></script>                <div id=\"8d7f5e7f-00ef-469b-923a-881afe5ce2b8\" class=\"plotly-graph-div\" style=\"height:300px; width:1500px;\"></div>            <script type=\"text/javascript\">                                    window.PLOTLYENV=window.PLOTLYENV || {};                                    if (document.getElementById(\"8d7f5e7f-00ef-469b-923a-881afe5ce2b8\")) {                    Plotly.newPlot(                        \"8d7f5e7f-00ef-469b-923a-881afe5ce2b8\",                        [{\"alignmentgroup\":\"True\",\"hovertemplate\":\"Salary in USD=%{x}\\u003cextra\\u003e\\u003c\\u002fextra\\u003e\",\"legendgroup\":\"\",\"marker\":{\"color\":\"#636efa\"},\"name\":\"\",\"notched\":false,\"offsetgroup\":\"\",\"orientation\":\"h\",\"showlegend\":false,\"x\":[210000,165000,185900,129300,140000,126000,170000,130000,104584,92280,208500,165000,77737,86374,169000,110600,185900,129300,225000,156400,309000,142000,204500,138900,323300,184700,247500,172200,204500,142200,24322,135000,110000,180514,108308,118800,75000,145000,130000,180514,108308,193600,119700,130800,87200,215000,150000,247500,172200,61520,49216,204500,142200,169000,110600,238000,173000,225000,156400,205785,123471,299500,245100,153600,106800,40000,71259,125000,90000,290000,226000,222200,136000,161000,151000,53120,38868,136994,101570,214500,150000,150000,120000,278300,205700,185900,167310,114000,100000,260000,162000,111000,225500,139400,177000,110000,120350,74400,194000,161000,32390,184950,119250,178500,136000,189000,159090,91000,82000,149076,82365,192000,164000,175000,125000,194595,158000,240500,123700,212800,111600,257400,193500,305000,245000,205485,156560,168000,78400,260000,175000,130002,71908,212000,132000,177000,110000,164000,248100,145900,148000,92000,248100,145900,155000,38000,218000,115000,104000,86000,235400,108320,95000,82000,152375,94000,115934,81666,79000,273400,182200,160000,112000,285000,154000,220000,170000,174500,113000,225000,125000,200000,180000,250000,125000,90000,275000,200000,258800,199200,177000,136000,80000,115000,75000,138860,122720,231500,118000,299500,249600,185000,79600,15680,120000,110000,100000,75000,297000,138000,135000,105000,267100,167200,202000,174350,126800,188500,117000,150931,143250,330000,204000,200000,160000,205600,105700,324000,159000,231000,157250,240000,157250,232000,108000,277300,213300,180000,135000,209000,135000,184250,167500,95000,85000,230000,175000,110736,92280,154440,68550,90000,60000,226600,140100,171050,124400,226600,140100,49216,41833,136000,104000,80000,52500,115000,253000,156400,300000,235000,223100,114700,172800,110000,95000,70000,120000,152375,94000,183000,125000,134000,120000,57007,44051,258750,172500,254000,200000,230000,196000,128000,81500,220000,150000,155000,109528,287500,207500,134200,103200,269500,166600,160000,93919,51962,180000,115000,186600,119800,75000,200000,280000,200000,383910,315850,235000,204000,198000,132000,141600,94400,135000,108000,209450,167560,185000,164000,122000,80000,52500,238000,149500,258000,186600,116500,220000,228000,61520,43064,175000,145000,195000,140000,180000,220000,190000,113366,118539,86128,167500,106500,146000,97400,278700,159300,323300,184700,40747,170000,120000,166364,116455,145000,125000,95000,76000,160000,131000,168000,250000,140000,145000,222000,166500,205600,105700,138000,67000,211200,176000,230000,135000,60000,200000,180000,18381,155000,139500,200000,120000,126500,78000,157750,104650,176000,133000,120000,70000,40000,158080,182000,150000,171250,113750,252000,129000,231000,200800,250800,167200,159100,120160,140000,110000,165000,149094,290000,247500,172200,175000,130000,85000,72250,162500,130000,23753,83000,63967,188600,111550,219300,143000,232200,133300,80000,204060,140358,198900,183310,43064,392000,224000,233000,199098,172000,107000,220000,150000,128000,81500,200000,208450,151600,208450,151600,240960,200800,120681,72409,250000,250000,170000,38290,215936,167500,106500,359170,310270,295490,178560,148800,331640,283780,167954,115830,150000,125000,331640,267720,185000,50000,331640,283780,189110,139000,199000,145000,199000,142000,230000,170000,283780,66000,52000,110400,68000,200000,316000,178560,148800,200000,166500,113220,365630,229000,131000,105000,185000,86700,192300,153800,67419,90000,131650,105320,126400,309400,159100,235400,160080,146190,119610,175000,228856,144540,210000,151800,150000,100000,126500,78000,48585,38868,126500,78000,105000,70000,300000,200000,96000,72000,323300,184700,205150,167850,130000,110000,278700,159300,222750,182250,104024,50745,185000,296400,148594,206000,140250,254500,130900,198000,124000,234485,112655,125000,105000,86128,51676,70179,64781,258000,190000,184184,167441,74087,32390,204500,90000,84000,202400,147200,90000,192000,142000,143000,129000,191000,146000,85000,70000,147648,98432,212800,144800,250000,16000,27000,72000,172900,144100,230000,160000,135000,101500,83700,253430,202800,104300,283000,184000,220000,185000,260000,246500,133500,174000,134000,330000,230000,254000,218540,123040,73824,167000,109000,208000,193000,47899,115000,216000,184000,145000,284000,227000,205000,160000,191400,127600,230000,139600,85700,38915,95000,70000,258000,171000,87000,73000,20000,300000,110736,55368,232960,151840,163152,108768,370000,245000,285000,193900,240000,163200,240000,163200,345000,234700,100000,40000,241000,210000,90000,59382,90000,84000,221300,147500,210000,160000,192000,151000,169000,204500,142200,250000,210000,170000,189750,131100,370000,72000,60000,94000,81900,210000,159090,118000,94400,90000,190000,125000,130002,71908,81838,60000,200000,170000,160000,255000,116990,82920,121000,78000,159000,105000,155000,102000,374000,197500,240000,187000,20000,190000,195000,119000,80000,73824,61520,266450,177700,245000,185000,55720,50700,56000,200000,196000,135000,115000,302000,189000,65000,55000,220000,170000,150000,93000,190000,46565,216000,184000,100000,128750,79350,73824,67672,174000,134000,155000,125000,194400,132192,273400,182200,165000,142500,213654,142436,124230,68637,204000,161500,185900,129300,100000,148750,95000,287700,148000,227240,197600,221000,185000,210000,178500,180000,150000,146100,112400,86128,79976,285000,205000,90000,146000,237400,158200,192000,164000,150000,141000,267000,205000,147100,90700,72000,67672,141000,177177,240000,142000,180000,105000,80000,268000,180000,144628,115702,144000,106400,81800,93500,208200,151200,270000,220000,194500,115500,140000,100000,225000,199000,50000,40000,98432,55368,399880,100416,41027,155000,100000,65000,280100,168100,120000,149040,113900,165000,145000,274450,199600,83500,52500,140000,76500,306000,204000,136000,104000,81500,280000,76508,250000,180000,70000,157000,140700,109600,278000,173000,305000,155000,120000,24000,165400,127300,259000,138750,192000,178000,218000,85000,132000,71500,215050,113100,130000,85000,250000,200000,123000,168400,136505,100895,275300,183500,168400,105200,240000,130000,120000,93000,177000,190000,237400,132870,105000,317070,170730,170000,125000,158700,123906,166000,128000,80976,66940,333500,180500,242921,170045,76284,257400,210600,65000,50000,293000,260000,192000,170000,125000,99000,100000,233000,166000,185100,127600,105000,160000,55000,241000,163000,120000,118000,311000,162540,51676,43064,258750,225000,145000,190000,165000,153600,106800,182850,113000,95000,104584,92280,126000,86400,232760,169280,162500,130000,240350,174800,154000,116000,153600,107500,94100,72400,178000,152000,233200,210000,160000,145000,206000,146100,112400,110000,70000,150120,120096,253000,168000,178600,142880,255000,169000,155000,100000,151410,144200,151410,115360,193170,116480,246080,203016,135344,110736,329500,269600,250500,159500,115000,198800,105200,94035,57920,113600,60000,256000,116000,245000,210000,283200,188800,36000,32834,205640,142600,193200,156400,196000,121000,72000,48000,132300,244000,197000,328000,211000,237000,201450,229000,206000,231000,183750,165400,175000,125000,152900,117700,285800,154600,289120,192400,179998,48644,35000,230000,258000,196000,121000,219000,141000,206000,300000,260000,147000,110000,70000,284310,153090,261500,134500,83200,204500,142200,145000,106000,275300,183500,147648,123040,140000,115000,136600,109280,84000,60000,73824,61520,70000,60000,281000,196000,69500,46400,281000,181000,285000,210000,69525,61800,160000,40000,125000,130000,110000,225000,168000,130001,71907,144000,80000,205000,150000,189400,131685,204500,142200,172000,90000,60000,77791,55410,57000,120000,168400,90700,240000,157250,277500,236500,172800,110000,41809,60000,100000,323905,150000,100000,62000,55000,155000,140000,36000,297300,198200,144000,77000,87500,62500,110736,55368,265000,217000,177300,136300,83000,208450,170550,72000,60000,130000,165000,145000,336400,201900,189750,131100,270000,95000,117300,69000,182000,144000,244000,200000,260000,225000,102500,186600,116500,80000,60000,222000,138000,207300,149200,292000,164500,292200,163800,126000,120000,280000,210000,170000,150000,200000,225000,175000,189750,131100,123400,82200,49216,43064,225000,50000,161800,121400,285000,193900,240000,196000,214000,170000,155000,98000,199000,105066,110736,86128,145000,289800,214000,142000,87500,165000,280830,173175,275300,183500,85000,92280,49216,34482,75038,64781,71475,61541,245000,140000,231250,138750,155000,242000,195000,155000,125000,160000,140000,183924,125760,430640,86374,30000,25500,175000,120000,219000,141000,147100,90700,213660,130760,147100,150000,275000,174000,143200,90000,72000,253200,90700,342810,184590,105380,64500,30000,20984,204620,110680,270703,221484,212750,262000,218500,199098,203300,123600,172500,110500,238000,176000,237000,201450,193500,139000,65058,150000,70179,97171,185900,129300,163196,145885,202800,104300,179170,94300,152500,116450,247300,133800,203000,133000,220000,56536,289800,214000,179820,143860,214200,141600,342300,176100,85000,65000,138784,83270,75000,70000,318300,212200,230000,143200,105000,20673,46755,43064,168400,105200,55368,43064,67672,55368,15000,86128,58444,85000,300000,250000,186000,230000,200000,53984,205000,215000,170000,224000,176000,17025,67635,74883,100000,80000,250000,162500,200000,100000,115000,203500,152000,239000,122900,191765,134236,190000,112000,88256,105500,293000,185000,148500,152900,117100,173000,113000,175000,110000,130000,110000,205000,149500,127075,219535,146115,199000,162000,221000,153000,187000,128000,136000,100000,179000,109000,198800,105200,112000,115000,86000,139000,275000,50000,280700,150450,51861,93918,51962,175000,135000,257000,147000,222000,203000,133200,221000,147000,156000,304000,48585,110000,198340,104055,240000,183600,130000,80000,160000,120000,289076,202353,155000,180000,200000,68000,60000,90000,155000,125000,181000,252000,180000,155000,191765,134236,64200,56100,135000,171250,113750,100500,115000,95000,182500,121500,203100,114500,92700,61800,167500,106500,146000,75000,59888,286000,207000,223250,178600,353200,249300,230000,220000,297300,198200,210000,151800,317070,170730,21593,108000,60000,134000,124000,124500,175000,148700,125600,160000,120000,185000,120250,183000,170000,125000,135000,417937,143865,115092,130000,90000,173000,132000,208049,128500,167500,106500,149600,102000,100000,190000,106800,97171,80976,128000,151000,140000,220000,43187,160000,145000,154000,143000,79976,190000,120000,110736,265000,235000,122638,73546,60400,172309,60462,83500,52500,201036,134024,165000,62000,58000,172000,115000,125000,90000,139500,109400,145000,239748,159832,186300,102500,149040,113900,172600,107900,180180,106020,376080,213120,206500,121600,170000,90000,95000,275000,120000,175000,206000,130000,138000,92000,65000,48000,130000,87000,145000,147100,115100,73900,168400,105200,58444,130000,205000,141288,94192,184000,143000,160000,147000,74883,17025,70000,80000,18241,210914,116704,185700,165000,193000,136850,139500,109400,276000,59382,48585,75577,48585,198094,102492,138666,102492,130000,150000,260000,110000,170000,163800,126000,106250,167500,106500,250000,138000,130000,100000,124163,104500,70000,90000,70000,185000,125000,127000,210550,153300,200000,161500,119500,105000,85000,215000,146300,215936,72000,60000,153400,122700,123900,340000,150000,250000,64781,185900,121700,50000,100000,310000,239000,150000,100000,149076,82365,49216,85500,97750,201000,122000,116990,82920,200000,125000,155000,140000,205920,171600,121500,154000,116000,79976,44356,180000,129192,260000,30000,34320,75577,106000,122000,93800,150000,90000,220000,72338,64781,15809,175000,40000,29301,152380,121904,168400,105200,128280,106900,192000,107968,86374,275000,174000,170500,73857,55044,162288,129058,65000,124740,65488,72200,64980,179975,86466,175000,120000,120000,205920,171600,130000,168000,38868,167580,87980,202000,104000,230000,148000,269000,158000,197000,106000,150000,100000,290000,192000,172800,300240,200160,175000,169000,100000,370000,116888,110000,80000,55000,48000,137500,30000,186000,153088,190000,160000,183310,66000,148500,126277,228000,120000,180000,90000,272000,170000,259000,110736,73824,18160,19910,247500,172200,107968,75577,288000,73824,61520,215050,198000,114000,209300,182200,85000,49216,120000,60000,147100,90700,227000,108000,160000,56143,51824,60000,50000,226700,133300,153799,52500,162500,165000,124000,63000,253750,169200,213580,163625,375000,102569,16417,210000,231250,138750,284310,153090,125000,110736,86128,225900,156400,385000,241871,133832,192500,36000,123040,98432,216100,140800,147648,53984,110000,67672,63980,284000,236000,248100,145900,155850,102544,151410,115360,59382,125948,100000,185000,120250,26992,180000,85000,70000,100000,155000,140000,220000,150000,204500,138900,23000,110000,182750,314100,195800,180000,144000,160000,100000,199000,112000,130000,160000,135000,350000,262500,276000,158677,103200,61200,155000,66970,63701,139000,174500,113000,87000,107250,300000,119000,60805,30000,220000,195000,168400,200000,153000,94000,124234,74540,109000,84053,50000,141290,74178,107500,84000,125000,110000,200000,135000,48000,120000,150000,200000,80000,17511,257000,77737,38868,140000,53984,41027,183310,102500,122000,94000,24613,15897,145000,128000,182000,77737,38868,300000,135000,105500,110000,153400,122700,145000,87000,50000,234100,203500,223800,172100,232200,167200,197000,106000,180000,145000,225000,200000,114000,291500,196200,150900,95000,80000,116000,72000,207000,167000,135000,105000,96100,140000,100000,120000,140000,115000,297300,198200,219000,110000,126100,72000,240500,137500,187500,165000,73824,25216,165750,225000,165750,110367,67979,275000,175000,175308,100706,235000,135000,310000,289076,202353,70179,37788,120000,100000,54094,18314,231250,138750,199000,100000,150000,120000,150000,100000,133000,272550,187500,64000,235000,185000,143100,113000,142000,180560,115440,110000,76284,63980,59059,46755,110000,236000,130000,125000,175000,155000,153600,106800,150000,140000,122000,94500,170000,130000,145000,128000,145000,100000,120000,115000,150000,150000,100000,150000,127500,126500,51000,260000,175000,40000,40000,250000,63000,210000,160000,272550,198200,94560,52533,220000,146000,248400,183600,150000,40000,56723,120000,95000,160000,135000,24165,216000,144000,85000,65000,149000,119000,120000,110000,246000,201000,190000,155000,235000,185000,190000,160000,100000,130000,115000,92350,67723,105000,70000,204500,142200,192000,164000,185900,129300,75000,175000,120000,167500,106500,75000,60000,184000,142000,145000,100000,31795,44365,200000,145000,92350,73880,192000,164000,310000,239000,120000,95000,145000,135000,78000,73546,36773,160000,35610,125000,95000,47280,37824,115934,81666,175000,249500,149850,122500,100000,249500,149850,55000,48000,249500,149850,58837,190000,127000,104000,210000,150000,210000,182750,161500,102640,66100,210000,150000,198800,122600,80000,136000,104000,150000,100000,159000,130000,215000,150000,187000,153000,255000,185000,430967,55410,50432,39925,169000,110600,60938,140000,120000,50000,134000,124000,166700,124234,74540,65000,16904,200000,220000,146000,68293,110000,70000,190000,135000,128000,81500,173000,110000,120000,190000,194000,129400,201000,89200,165000,125000,230000,196000,130000,90000,150000,100000,230000,150000,130000,180000,120000,192500,140000,152500,65000,55000,178750,160000,63040,165000,135000,170000,125000,105000,70000,130000,95000,203500,152000,197430,134760,197000,99000,162000,110446,79178,70186,51716,149040,113900,95000,115000,171000,50000,185900,129300,230000,154600,75000,213000,152000,70000,227200,168000,64090,60938,243000,183000,130000,90000,165000,124000,178000,132000,300000,116000,96000,92350,70186,105000,70000,105236,189750,140250,130000,160000,109000,250000,150000,206000,135000,115573,73546,42026,191200,66192,230000,154600,80000,135000,110000,155000,140000,205000,179500,134000,145000,235000,175000,27317,90000,165000,135000,168400,105200,86193,49253,200000,198800,122600,100000,105066,104663,73880,125000,110000,148000,107000,100000,65000,63040,36773,299500,245100,168000,161000,118000,205000,247500,172200,68293,177000,131000,102000,65000,61566,43096,135000,80000,231250,138750,193750,116250,231250,138750,193750,116250,208000,127000,300000,196000,45555,205000,185000,247500,172200,110000,17684,375000,225000,156400,104663,80036,140700,93800,350000,135000,104697,33000,34672,119000,154560,123648,170000,145000,247500,172200,177500,134000,192564,144854,179305,142127,315000,225000,243900,156600,79000,89306,182500,128500,77300,45600,210000,136000,140000,247500,172200,184100,85000,78000,161000,205000,160000,61566,49253,245000,180000,198440,144000,240000,198440,144000,57872,64000,39925,187200,116100,275000,166000,159699,138938,76000,103432,92350,80000,52500,236000,182000,135000,240000,125404,195000,123000,92250,180000,100000,97000,90000,180000,260000,180000,210000,157000,80000,52500,128000,81500,105000,70000,122500,171000,117000,202800,104300,36773,30000,78000,48000,78000,42000,345600,230400,78000,48000,175950,130050,205600,105700,236600,84000,54000,80000,200000,73742,165000,33246,75050,108000,38000,85000,110820,153600,106800,50000,123400,88100,120000,55000,150000,120000,139000,139600,85700,185000,50000,200000,148500,98200,115000,225000,66000,134000,98000,105000,62000,57000,161311,144200,115360,83171,38154,73546,42026,180000,160000,108000,200000,150000,125976,188700,160395,191475,141525,75648,156868,200000,69344,90000,126080,84053,108000,85000,165000,132000,130000,45050,42028,135000,178800,132100,20000,140000,110000,85000,250000,63000,187200,116100,229998,154545,215000,159000,50000,183000,99750,68400,236900,159200,243225,179775,191475,141525,218000,145300,195400,131300,105000,207000,153000,99000,200000,135000,195700,130500,130000,84000,100000,60000,80036,67723,141300,102100,150000,102200,22892,144000,113000,31520,195400,131300,195400,131300,80000,60000,63040,50000,190000,140000,180000,165000,108000,20000,179400,154000,193900,129300,222640,182160,100000,122500,100000,297500,260000,15000,193000,93000,73000,136994,101570,57786,136000,112000,172000,164000,45390,97500,212800,142800,73546,50000,151800,130240,165000,140250,75000,84053,73546,98506,86193,84053,73546,102663,80041,104611,82280,115000,31520,81000,66000,46000,80000,200000,180000,200000,204100,136100,250000,63000,118208,110820,19073,95000,75000,113000,170000,113000,140000,50000,53368,29944,160000,119300,145000,146200,124270,225000,160000,54634,185800,137400,245000,180000,203500,152000,186000,148800,95386,128058,82000,110000,173000,186000,148800,158000,134000,200000,150000,216200,144100,115573,89306,85000,206000,175100,189650,164996,154000,126000,200000,150000,117000,99450,200000,135000,193900,129300,55410,86193,61566,175000,188100,139860,248700,167100,50432,141300,102100,50000,84053,61566,250000,63000,189500,140100,177600,131300,24000,202900,115000,193900,129300,140000,216200,144100,216000,144000,150000,53416,50000,250000,84053,131752,48000,260500,175100,55000,130000,77119,52008,30523,206699,99100,200000,54000,130000,100000,80000,100000,221300,148700,30000,28368,91118,61566,60938,249260,185400,80036,128875,93700,100000,136260,109280,92000,135446,104663,129000,86000,100000,25000,65257,200000,180000,153000,150075,110925,22800,22809,15000,133766,83000,186000,148800,112900,90320,240000,160000,300000,200000,65666,200000,116976,92350,120000,145000,105400,49268,215300,158200,209100,84053,164000,132000,123000,52533,115222,165400,132320,208775,147800,136994,101570,76309,35093,183600,100800,49253,36940,42026,31520,42026,31520,140400,63040,47280,260000,43096,63040,47280,55410,51064,60000,82900,63900,160000,112300,241000,159000,80000,58000,136000,108800,242000,61566,36940,49253,165220,120160,124190,181940,220110,160080,120000,126500,106260,155000,120600,102100,84900,136620,99360,110820,98506,43096,130000,110000,170000,161342,137141,167000,73880,211500,138600,192400,90700,130000,61300,160000,113000,95550,167000,115500,243900,156600,136600,128875,93700,224000,167875,175000,135000,205300,176000,200100,70500,54000,205300,140400,205300,184700,175100,140250,116150,99050,85000,75000,214000,192600,266400,213120,141300,102100,206699,99100,110500,61566,43096,60000,230000,150260,109280,67000,52000,129000,69000,25000,126500,106260,135000,50000,172386,86193,220000,200000,120000,65000,324000,216000,185100,104890,76814,117104,192037,120000,17805,30523,55685,52533,17805,75000,157000,69133,65000,68293,109000,67597,20000,102839,200000,51081,83864,40000,31520,59888,54742,89306,83171,153000,100000,76814,33609,75000,20000,30469,69999,55475,61989,152500,120000,135000,405000,150000,240000,135000,80000,380000,120402,177000,65141,48000,20000,220000,77364,63711,150000,90000,100000,100000,100000,144000,155499,24000,38400,100000,82500,49646,40570,120000,84053,20000,125000,120000,110037,21013,50000,200000,60000,200000,100000,100000,82744,59303,62649,82528,170000,150000,55000,250000,80000,70000,130026,63831,68428,85000,230000,125000,120000,450000,46759,74130,127221,144000,75774,150000,103000,153000,90000,90000,60000,50000,270000,54238,47282,153667,28476,110000,82528,250000,59102,80000,138000,140000,79197,170000,80000,45760,100000,53192,235000,150000,79833,225000,76833,50180,88654,103160,113476,94564,30428,150000,115000,187442,51519,106000,112872,36259,15966,95746,70000,76958,89294,29751,276000,188000,160000,105000,174000,93000,28399,60757,90000,70139,33511,170000,96282,36643,72212,91000,99703,165000,80000,103691,21637,42000,115000,63810,260000,110000,180000,200000,109024,200000,256000,110000,79833,72500,185000,69741,100000,112000,150000,20171,55000,58000,100000,77684,85000,76833,105000,72000,65013,28016,111775,93150,160000,25532,66265,16904,63831,190000,141846,16228,71786,35735,135000,24823,54094,24342,147000,96113,174000,135000,21844,125000,51321,40481,69741,50000,39916,87000,26005,90734,22611,81000,40038,90000,61467,195000,37825,85000,416000,225000,56256,33808,116914,46597,41689,114047,88654,56000,28609,88654,47899,98000,66022,56738,24823,120000,20000,325000,200000,45896,160000,50000,40189,165000,42197,185000,62726,21669,110000,140000,120000,87738,61896,76833,74000,152000,18000,60000,130000,18907,59102,173762,148261,38776,46809,18053,91237,62726,115000,235000,19609,75000,62000,73000,45391,190200,118000,138350,130800,45618,168000,119059,423000,28369,165000,412000,151000,105000,100000,94665],\"x0\":\" \",\"xaxis\":\"x\",\"y0\":\" \",\"yaxis\":\"y\",\"type\":\"box\"}],                        {\"template\":{\"data\":{\"barpolar\":[{\"marker\":{\"line\":{\"color\":\"white\",\"width\":0.5},\"pattern\":{\"fillmode\":\"overlay\",\"size\":10,\"solidity\":0.2}},\"type\":\"barpolar\"}],\"bar\":[{\"error_x\":{\"color\":\"#2a3f5f\"},\"error_y\":{\"color\":\"#2a3f5f\"},\"marker\":{\"line\":{\"color\":\"white\",\"width\":0.5},\"pattern\":{\"fillmode\":\"overlay\",\"size\":10,\"solidity\":0.2}},\"type\":\"bar\"}],\"carpet\":[{\"aaxis\":{\"endlinecolor\":\"#2a3f5f\",\"gridcolor\":\"#C8D4E3\",\"linecolor\":\"#C8D4E3\",\"minorgridcolor\":\"#C8D4E3\",\"startlinecolor\":\"#2a3f5f\"},\"baxis\":{\"endlinecolor\":\"#2a3f5f\",\"gridcolor\":\"#C8D4E3\",\"linecolor\":\"#C8D4E3\",\"minorgridcolor\":\"#C8D4E3\",\"startlinecolor\":\"#2a3f5f\"},\"type\":\"carpet\"}],\"choropleth\":[{\"colorbar\":{\"outlinewidth\":0,\"ticks\":\"\"},\"type\":\"choropleth\"}],\"contourcarpet\":[{\"colorbar\":{\"outlinewidth\":0,\"ticks\":\"\"},\"type\":\"contourcarpet\"}],\"contour\":[{\"colorbar\":{\"outlinewidth\":0,\"ticks\":\"\"},\"colorscale\":[[0.0,\"#0d0887\"],[0.1111111111111111,\"#46039f\"],[0.2222222222222222,\"#7201a8\"],[0.3333333333333333,\"#9c179e\"],[0.4444444444444444,\"#bd3786\"],[0.5555555555555556,\"#d8576b\"],[0.6666666666666666,\"#ed7953\"],[0.7777777777777778,\"#fb9f3a\"],[0.8888888888888888,\"#fdca26\"],[1.0,\"#f0f921\"]],\"type\":\"contour\"}],\"heatmapgl\":[{\"colorbar\":{\"outlinewidth\":0,\"ticks\":\"\"},\"colorscale\":[[0.0,\"#0d0887\"],[0.1111111111111111,\"#46039f\"],[0.2222222222222222,\"#7201a8\"],[0.3333333333333333,\"#9c179e\"],[0.4444444444444444,\"#bd3786\"],[0.5555555555555556,\"#d8576b\"],[0.6666666666666666,\"#ed7953\"],[0.7777777777777778,\"#fb9f3a\"],[0.8888888888888888,\"#fdca26\"],[1.0,\"#f0f921\"]],\"type\":\"heatmapgl\"}],\"heatmap\":[{\"colorbar\":{\"outlinewidth\":0,\"ticks\":\"\"},\"colorscale\":[[0.0,\"#0d0887\"],[0.1111111111111111,\"#46039f\"],[0.2222222222222222,\"#7201a8\"],[0.3333333333333333,\"#9c179e\"],[0.4444444444444444,\"#bd3786\"],[0.5555555555555556,\"#d8576b\"],[0.6666666666666666,\"#ed7953\"],[0.7777777777777778,\"#fb9f3a\"],[0.8888888888888888,\"#fdca26\"],[1.0,\"#f0f921\"]],\"type\":\"heatmap\"}],\"histogram2dcontour\":[{\"colorbar\":{\"outlinewidth\":0,\"ticks\":\"\"},\"colorscale\":[[0.0,\"#0d0887\"],[0.1111111111111111,\"#46039f\"],[0.2222222222222222,\"#7201a8\"],[0.3333333333333333,\"#9c179e\"],[0.4444444444444444,\"#bd3786\"],[0.5555555555555556,\"#d8576b\"],[0.6666666666666666,\"#ed7953\"],[0.7777777777777778,\"#fb9f3a\"],[0.8888888888888888,\"#fdca26\"],[1.0,\"#f0f921\"]],\"type\":\"histogram2dcontour\"}],\"histogram2d\":[{\"colorbar\":{\"outlinewidth\":0,\"ticks\":\"\"},\"colorscale\":[[0.0,\"#0d0887\"],[0.1111111111111111,\"#46039f\"],[0.2222222222222222,\"#7201a8\"],[0.3333333333333333,\"#9c179e\"],[0.4444444444444444,\"#bd3786\"],[0.5555555555555556,\"#d8576b\"],[0.6666666666666666,\"#ed7953\"],[0.7777777777777778,\"#fb9f3a\"],[0.8888888888888888,\"#fdca26\"],[1.0,\"#f0f921\"]],\"type\":\"histogram2d\"}],\"histogram\":[{\"marker\":{\"pattern\":{\"fillmode\":\"overlay\",\"size\":10,\"solidity\":0.2}},\"type\":\"histogram\"}],\"mesh3d\":[{\"colorbar\":{\"outlinewidth\":0,\"ticks\":\"\"},\"type\":\"mesh3d\"}],\"parcoords\":[{\"line\":{\"colorbar\":{\"outlinewidth\":0,\"ticks\":\"\"}},\"type\":\"parcoords\"}],\"pie\":[{\"automargin\":true,\"type\":\"pie\"}],\"scatter3d\":[{\"line\":{\"colorbar\":{\"outlinewidth\":0,\"ticks\":\"\"}},\"marker\":{\"colorbar\":{\"outlinewidth\":0,\"ticks\":\"\"}},\"type\":\"scatter3d\"}],\"scattercarpet\":[{\"marker\":{\"colorbar\":{\"outlinewidth\":0,\"ticks\":\"\"}},\"type\":\"scattercarpet\"}],\"scattergeo\":[{\"marker\":{\"colorbar\":{\"outlinewidth\":0,\"ticks\":\"\"}},\"type\":\"scattergeo\"}],\"scattergl\":[{\"marker\":{\"colorbar\":{\"outlinewidth\":0,\"ticks\":\"\"}},\"type\":\"scattergl\"}],\"scattermapbox\":[{\"marker\":{\"colorbar\":{\"outlinewidth\":0,\"ticks\":\"\"}},\"type\":\"scattermapbox\"}],\"scatterpolargl\":[{\"marker\":{\"colorbar\":{\"outlinewidth\":0,\"ticks\":\"\"}},\"type\":\"scatterpolargl\"}],\"scatterpolar\":[{\"marker\":{\"colorbar\":{\"outlinewidth\":0,\"ticks\":\"\"}},\"type\":\"scatterpolar\"}],\"scatter\":[{\"fillpattern\":{\"fillmode\":\"overlay\",\"size\":10,\"solidity\":0.2},\"type\":\"scatter\"}],\"scatterternary\":[{\"marker\":{\"colorbar\":{\"outlinewidth\":0,\"ticks\":\"\"}},\"type\":\"scatterternary\"}],\"surface\":[{\"colorbar\":{\"outlinewidth\":0,\"ticks\":\"\"},\"colorscale\":[[0.0,\"#0d0887\"],[0.1111111111111111,\"#46039f\"],[0.2222222222222222,\"#7201a8\"],[0.3333333333333333,\"#9c179e\"],[0.4444444444444444,\"#bd3786\"],[0.5555555555555556,\"#d8576b\"],[0.6666666666666666,\"#ed7953\"],[0.7777777777777778,\"#fb9f3a\"],[0.8888888888888888,\"#fdca26\"],[1.0,\"#f0f921\"]],\"type\":\"surface\"}],\"table\":[{\"cells\":{\"fill\":{\"color\":\"#EBF0F8\"},\"line\":{\"color\":\"white\"}},\"header\":{\"fill\":{\"color\":\"#C8D4E3\"},\"line\":{\"color\":\"white\"}},\"type\":\"table\"}]},\"layout\":{\"annotationdefaults\":{\"arrowcolor\":\"#2a3f5f\",\"arrowhead\":0,\"arrowwidth\":1},\"autotypenumbers\":\"strict\",\"coloraxis\":{\"colorbar\":{\"outlinewidth\":0,\"ticks\":\"\"}},\"colorscale\":{\"diverging\":[[0,\"#8e0152\"],[0.1,\"#c51b7d\"],[0.2,\"#de77ae\"],[0.3,\"#f1b6da\"],[0.4,\"#fde0ef\"],[0.5,\"#f7f7f7\"],[0.6,\"#e6f5d0\"],[0.7,\"#b8e186\"],[0.8,\"#7fbc41\"],[0.9,\"#4d9221\"],[1,\"#276419\"]],\"sequential\":[[0.0,\"#0d0887\"],[0.1111111111111111,\"#46039f\"],[0.2222222222222222,\"#7201a8\"],[0.3333333333333333,\"#9c179e\"],[0.4444444444444444,\"#bd3786\"],[0.5555555555555556,\"#d8576b\"],[0.6666666666666666,\"#ed7953\"],[0.7777777777777778,\"#fb9f3a\"],[0.8888888888888888,\"#fdca26\"],[1.0,\"#f0f921\"]],\"sequentialminus\":[[0.0,\"#0d0887\"],[0.1111111111111111,\"#46039f\"],[0.2222222222222222,\"#7201a8\"],[0.3333333333333333,\"#9c179e\"],[0.4444444444444444,\"#bd3786\"],[0.5555555555555556,\"#d8576b\"],[0.6666666666666666,\"#ed7953\"],[0.7777777777777778,\"#fb9f3a\"],[0.8888888888888888,\"#fdca26\"],[1.0,\"#f0f921\"]]},\"colorway\":[\"#636efa\",\"#EF553B\",\"#00cc96\",\"#ab63fa\",\"#FFA15A\",\"#19d3f3\",\"#FF6692\",\"#B6E880\",\"#FF97FF\",\"#FECB52\"],\"font\":{\"color\":\"#2a3f5f\"},\"geo\":{\"bgcolor\":\"white\",\"lakecolor\":\"white\",\"landcolor\":\"white\",\"showlakes\":true,\"showland\":true,\"subunitcolor\":\"#C8D4E3\"},\"hoverlabel\":{\"align\":\"left\"},\"hovermode\":\"closest\",\"mapbox\":{\"style\":\"light\"},\"paper_bgcolor\":\"white\",\"plot_bgcolor\":\"white\",\"polar\":{\"angularaxis\":{\"gridcolor\":\"#EBF0F8\",\"linecolor\":\"#EBF0F8\",\"ticks\":\"\"},\"bgcolor\":\"white\",\"radialaxis\":{\"gridcolor\":\"#EBF0F8\",\"linecolor\":\"#EBF0F8\",\"ticks\":\"\"}},\"scene\":{\"xaxis\":{\"backgroundcolor\":\"white\",\"gridcolor\":\"#DFE8F3\",\"gridwidth\":2,\"linecolor\":\"#EBF0F8\",\"showbackground\":true,\"ticks\":\"\",\"zerolinecolor\":\"#EBF0F8\"},\"yaxis\":{\"backgroundcolor\":\"white\",\"gridcolor\":\"#DFE8F3\",\"gridwidth\":2,\"linecolor\":\"#EBF0F8\",\"showbackground\":true,\"ticks\":\"\",\"zerolinecolor\":\"#EBF0F8\"},\"zaxis\":{\"backgroundcolor\":\"white\",\"gridcolor\":\"#DFE8F3\",\"gridwidth\":2,\"linecolor\":\"#EBF0F8\",\"showbackground\":true,\"ticks\":\"\",\"zerolinecolor\":\"#EBF0F8\"}},\"shapedefaults\":{\"line\":{\"color\":\"#2a3f5f\"}},\"ternary\":{\"aaxis\":{\"gridcolor\":\"#DFE8F3\",\"linecolor\":\"#A2B1C6\",\"ticks\":\"\"},\"baxis\":{\"gridcolor\":\"#DFE8F3\",\"linecolor\":\"#A2B1C6\",\"ticks\":\"\"},\"bgcolor\":\"white\",\"caxis\":{\"gridcolor\":\"#DFE8F3\",\"linecolor\":\"#A2B1C6\",\"ticks\":\"\"}},\"title\":{\"x\":0.05},\"xaxis\":{\"automargin\":true,\"gridcolor\":\"#EBF0F8\",\"linecolor\":\"#EBF0F8\",\"ticks\":\"\",\"title\":{\"standoff\":15},\"zerolinecolor\":\"#EBF0F8\",\"zerolinewidth\":2},\"yaxis\":{\"automargin\":true,\"gridcolor\":\"#EBF0F8\",\"linecolor\":\"#EBF0F8\",\"ticks\":\"\",\"title\":{\"standoff\":15},\"zerolinecolor\":\"#EBF0F8\",\"zerolinewidth\":2}}},\"xaxis\":{\"anchor\":\"y\",\"domain\":[0.0,1.0],\"title\":{\"text\":\"Salary in USD\"}},\"yaxis\":{\"anchor\":\"x\",\"domain\":[0.0,1.0],\"tickangle\":-45},\"legend\":{\"tracegroupgap\":0},\"margin\":{\"t\":100,\"l\":80},\"boxmode\":\"group\",\"title\":{\"text\":\"\\u003cb\\u003eBoxplot\\u003cbr\\u003e \\u003csup\\u003eSalary in USD\\u003c\\u002fsup\\u003e\\u003c\\u002fb\\u003e\"},\"showlegend\":false,\"height\":300,\"width\":1500},                        {\"responsive\": true}                    ).then(function(){\n",
              "                            \n",
              "var gd = document.getElementById('8d7f5e7f-00ef-469b-923a-881afe5ce2b8');\n",
              "var x = new MutationObserver(function (mutations, observer) {{\n",
              "        var display = window.getComputedStyle(gd).display;\n",
              "        if (!display || display === 'none') {{\n",
              "            console.log([gd, 'removed!']);\n",
              "            Plotly.purge(gd);\n",
              "            observer.disconnect();\n",
              "        }}\n",
              "}});\n",
              "\n",
              "// Listen for the removal of the full notebook cells\n",
              "var notebookContainer = gd.closest('#notebook-container');\n",
              "if (notebookContainer) {{\n",
              "    x.observe(notebookContainer, {childList: true});\n",
              "}}\n",
              "\n",
              "// Listen for the clearing of the current output cell\n",
              "var outputEl = gd.closest('.output');\n",
              "if (outputEl) {{\n",
              "    x.observe(outputEl, {childList: true});\n",
              "}}\n",
              "\n",
              "                        })                };                            </script>        </div>\n",
              "</body>\n",
              "</html>"
            ]
          },
          "metadata": {}
        }
      ]
    },
    {
      "cell_type": "markdown",
      "source": [
        "**Вывод**:\n",
        "  \n",
        "Медианная зарплата (горизонтальная линия в середине ящика) находится на уровне 136,000 долларов США. Верхний квартиль (Q3) составляет 185,000 долларов США, а нижний квартиль (Q1) находится около 90,000 долларов США. На графике есть несколько выбросов, то есть значений, которые значительно отличаются от основной массы данных. \\\n",
        "Усы (вертикальные линии, выходящие из ящика) от 15,000 долларов США до больше 400,000.\n"
      ],
      "metadata": {
        "id": "iE-JJQCSGo1n"
      }
    },
    {
      "cell_type": "code",
      "source": [
        "x = 'Salary in USD'\n",
        "y = 'Experience Level'\n",
        "fig = plotly.express.box(data, x, y)\n",
        "\n",
        "fig.update_layout(title=f'<b>Boxplot<br> <sup> {y} by {x}</sup></b>',\n",
        "    showlegend=False,\n",
        "    yaxis=dict(tickangle= -45),\n",
        "    height=600,\n",
        "    width=1000,\n",
        "    margin=dict(t=100, l=80),\n",
        "    template='plotly_white')\n",
        "\n",
        "fig.show()"
      ],
      "metadata": {
        "colab": {
          "base_uri": "https://localhost:8080/",
          "height": 617
        },
        "id": "wf_iSNJlDckb",
        "outputId": "0d79974e-0ac1-4cca-b6fa-cacf3265c4ec"
      },
      "execution_count": null,
      "outputs": [
        {
          "output_type": "display_data",
          "data": {
            "text/html": [
              "<html>\n",
              "<head><meta charset=\"utf-8\" /></head>\n",
              "<body>\n",
              "    <div>            <script src=\"https://cdnjs.cloudflare.com/ajax/libs/mathjax/2.7.5/MathJax.js?config=TeX-AMS-MML_SVG\"></script><script type=\"text/javascript\">if (window.MathJax && window.MathJax.Hub && window.MathJax.Hub.Config) {window.MathJax.Hub.Config({SVG: {font: \"STIX-Web\"}});}</script>                <script type=\"text/javascript\">window.PlotlyConfig = {MathJaxConfig: 'local'};</script>\n",
              "        <script charset=\"utf-8\" src=\"https://cdn.plot.ly/plotly-2.24.1.min.js\"></script>                <div id=\"6045a562-4612-4be2-8e16-bcd758600dfc\" class=\"plotly-graph-div\" style=\"height:600px; width:1000px;\"></div>            <script type=\"text/javascript\">                                    window.PLOTLYENV=window.PLOTLYENV || {};                                    if (document.getElementById(\"6045a562-4612-4be2-8e16-bcd758600dfc\")) {                    Plotly.newPlot(                        \"6045a562-4612-4be2-8e16-bcd758600dfc\",                        [{\"alignmentgroup\":\"True\",\"hovertemplate\":\"Salary in USD=%{x}\\u003cbr\\u003eExperience Level=%{y}\\u003cextra\\u003e\\u003c\\u002fextra\\u003e\",\"legendgroup\":\"\",\"marker\":{\"color\":\"#636efa\"},\"name\":\"\",\"notched\":false,\"offsetgroup\":\"\",\"orientation\":\"h\",\"showlegend\":false,\"x\":[210000,165000,185900,129300,140000,126000,170000,130000,104584,92280,208500,165000,77737,86374,169000,110600,185900,129300,225000,156400,309000,142000,204500,138900,323300,184700,247500,172200,204500,142200,24322,135000,110000,180514,108308,118800,75000,145000,130000,180514,108308,193600,119700,130800,87200,215000,150000,247500,172200,61520,49216,204500,142200,169000,110600,238000,173000,225000,156400,205785,123471,299500,245100,153600,106800,40000,71259,125000,90000,290000,226000,222200,136000,161000,151000,53120,38868,136994,101570,214500,150000,150000,120000,278300,205700,185900,167310,114000,100000,260000,162000,111000,225500,139400,177000,110000,120350,74400,194000,161000,32390,184950,119250,178500,136000,189000,159090,91000,82000,149076,82365,192000,164000,175000,125000,194595,158000,240500,123700,212800,111600,257400,193500,305000,245000,205485,156560,168000,78400,260000,175000,130002,71908,212000,132000,177000,110000,164000,248100,145900,148000,92000,248100,145900,155000,38000,218000,115000,104000,86000,235400,108320,95000,82000,152375,94000,115934,81666,79000,273400,182200,160000,112000,285000,154000,220000,170000,174500,113000,225000,125000,200000,180000,250000,125000,90000,275000,200000,258800,199200,177000,136000,80000,115000,75000,138860,122720,231500,118000,299500,249600,185000,79600,15680,120000,110000,100000,75000,297000,138000,135000,105000,267100,167200,202000,174350,126800,188500,117000,150931,143250,330000,204000,200000,160000,205600,105700,324000,159000,231000,157250,240000,157250,232000,108000,277300,213300,180000,135000,209000,135000,184250,167500,95000,85000,230000,175000,110736,92280,154440,68550,90000,60000,226600,140100,171050,124400,226600,140100,49216,41833,136000,104000,80000,52500,115000,253000,156400,300000,235000,223100,114700,172800,110000,95000,70000,120000,152375,94000,183000,125000,134000,120000,57007,44051,258750,172500,254000,200000,230000,196000,128000,81500,220000,150000,155000,109528,287500,207500,134200,103200,269500,166600,160000,93919,51962,180000,115000,186600,119800,75000,200000,280000,200000,383910,315850,235000,204000,198000,132000,141600,94400,135000,108000,209450,167560,185000,164000,122000,80000,52500,238000,149500,258000,186600,116500,220000,228000,61520,43064,175000,145000,195000,140000,180000,220000,190000,113366,118539,86128,167500,106500,146000,97400,278700,159300,323300,184700,40747,170000,120000,166364,116455,145000,125000,95000,76000,160000,131000,168000,250000,140000,145000,222000,166500,205600,105700,138000,67000,211200,176000,230000,135000,60000,200000,180000,18381,155000,139500,200000,120000,126500,78000,157750,104650,176000,133000,120000,70000,40000,158080,182000,150000,171250,113750,252000,129000,231000,200800,250800,167200,159100,120160,140000,110000,165000,149094,290000,247500,172200,175000,130000,85000,72250,162500,130000,23753,83000,63967,188600,111550,219300,143000,232200,133300,80000,204060,140358,198900,183310,43064,392000,224000,233000,199098,172000,107000,220000,150000,128000,81500,200000,208450,151600,208450,151600,240960,200800,120681,72409,250000,250000,170000,38290,215936,167500,106500,359170,310270,295490,178560,148800,331640,283780,167954,115830,150000,125000,331640,267720,185000,50000,331640,283780,189110,139000,199000,145000,199000,142000,230000,170000,283780,66000,52000,110400,68000,200000,316000,178560,148800,200000,166500,113220,365630,229000,131000,105000,185000,86700,192300,153800,67419,90000,131650,105320,126400,309400,159100,235400,160080,146190,119610,175000,228856,144540,210000,151800,150000,100000,126500,78000,48585,38868,126500,78000,105000,70000,300000,200000,96000,72000,323300,184700,205150,167850,130000,110000,278700,159300,222750,182250,104024,50745,185000,296400,148594,206000,140250,254500,130900,198000,124000,234485,112655,125000,105000,86128,51676,70179,64781,258000,190000,184184,167441,74087,32390,204500,90000,84000,202400,147200,90000,192000,142000,143000,129000,191000,146000,85000,70000,147648,98432,212800,144800,250000,16000,27000,72000,172900,144100,230000,160000,135000,101500,83700,253430,202800,104300,283000,184000,220000,185000,260000,246500,133500,174000,134000,330000,230000,254000,218540,123040,73824,167000,109000,208000,193000,47899,115000,216000,184000,145000,284000,227000,205000,160000,191400,127600,230000,139600,85700,38915,95000,70000,258000,171000,87000,73000,20000,300000,110736,55368,232960,151840,163152,108768,370000,245000,285000,193900,240000,163200,240000,163200,345000,234700,100000,40000,241000,210000,90000,59382,90000,84000,221300,147500,210000,160000,192000,151000,169000,204500,142200,250000,210000,170000,189750,131100,370000,72000,60000,94000,81900,210000,159090,118000,94400,90000,190000,125000,130002,71908,81838,60000,200000,170000,160000,255000,116990,82920,121000,78000,159000,105000,155000,102000,374000,197500,240000,187000,20000,190000,195000,119000,80000,73824,61520,266450,177700,245000,185000,55720,50700,56000,200000,196000,135000,115000,302000,189000,65000,55000,220000,170000,150000,93000,190000,46565,216000,184000,100000,128750,79350,73824,67672,174000,134000,155000,125000,194400,132192,273400,182200,165000,142500,213654,142436,124230,68637,204000,161500,185900,129300,100000,148750,95000,287700,148000,227240,197600,221000,185000,210000,178500,180000,150000,146100,112400,86128,79976,285000,205000,90000,146000,237400,158200,192000,164000,150000,141000,267000,205000,147100,90700,72000,67672,141000,177177,240000,142000,180000,105000,80000,268000,180000,144628,115702,144000,106400,81800,93500,208200,151200,270000,220000,194500,115500,140000,100000,225000,199000,50000,40000,98432,55368,399880,100416,41027,155000,100000,65000,280100,168100,120000,149040,113900,165000,145000,274450,199600,83500,52500,140000,76500,306000,204000,136000,104000,81500,280000,76508,250000,180000,70000,157000,140700,109600,278000,173000,305000,155000,120000,24000,165400,127300,259000,138750,192000,178000,218000,85000,132000,71500,215050,113100,130000,85000,250000,200000,123000,168400,136505,100895,275300,183500,168400,105200,240000,130000,120000,93000,177000,190000,237400,132870,105000,317070,170730,170000,125000,158700,123906,166000,128000,80976,66940,333500,180500,242921,170045,76284,257400,210600,65000,50000,293000,260000,192000,170000,125000,99000,100000,233000,166000,185100,127600,105000,160000,55000,241000,163000,120000,118000,311000,162540,51676,43064,258750,225000,145000,190000,165000,153600,106800,182850,113000,95000,104584,92280,126000,86400,232760,169280,162500,130000,240350,174800,154000,116000,153600,107500,94100,72400,178000,152000,233200,210000,160000,145000,206000,146100,112400,110000,70000,150120,120096,253000,168000,178600,142880,255000,169000,155000,100000,151410,144200,151410,115360,193170,116480,246080,203016,135344,110736,329500,269600,250500,159500,115000,198800,105200,94035,57920,113600,60000,256000,116000,245000,210000,283200,188800,36000,32834,205640,142600,193200,156400,196000,121000,72000,48000,132300,244000,197000,328000,211000,237000,201450,229000,206000,231000,183750,165400,175000,125000,152900,117700,285800,154600,289120,192400,179998,48644,35000,230000,258000,196000,121000,219000,141000,206000,300000,260000,147000,110000,70000,284310,153090,261500,134500,83200,204500,142200,145000,106000,275300,183500,147648,123040,140000,115000,136600,109280,84000,60000,73824,61520,70000,60000,281000,196000,69500,46400,281000,181000,285000,210000,69525,61800,160000,40000,125000,130000,110000,225000,168000,130001,71907,144000,80000,205000,150000,189400,131685,204500,142200,172000,90000,60000,77791,55410,57000,120000,168400,90700,240000,157250,277500,236500,172800,110000,41809,60000,100000,323905,150000,100000,62000,55000,155000,140000,36000,297300,198200,144000,77000,87500,62500,110736,55368,265000,217000,177300,136300,83000,208450,170550,72000,60000,130000,165000,145000,336400,201900,189750,131100,270000,95000,117300,69000,182000,144000,244000,200000,260000,225000,102500,186600,116500,80000,60000,222000,138000,207300,149200,292000,164500,292200,163800,126000,120000,280000,210000,170000,150000,200000,225000,175000,189750,131100,123400,82200,49216,43064,225000,50000,161800,121400,285000,193900,240000,196000,214000,170000,155000,98000,199000,105066,110736,86128,145000,289800,214000,142000,87500,165000,280830,173175,275300,183500,85000,92280,49216,34482,75038,64781,71475,61541,245000,140000,231250,138750,155000,242000,195000,155000,125000,160000,140000,183924,125760,430640,86374,30000,25500,175000,120000,219000,141000,147100,90700,213660,130760,147100,150000,275000,174000,143200,90000,72000,253200,90700,342810,184590,105380,64500,30000,20984,204620,110680,270703,221484,212750,262000,218500,199098,203300,123600,172500,110500,238000,176000,237000,201450,193500,139000,65058,150000,70179,97171,185900,129300,163196,145885,202800,104300,179170,94300,152500,116450,247300,133800,203000,133000,220000,56536,289800,214000,179820,143860,214200,141600,342300,176100,85000,65000,138784,83270,75000,70000,318300,212200,230000,143200,105000,20673,46755,43064,168400,105200,55368,43064,67672,55368,15000,86128,58444,85000,300000,250000,186000,230000,200000,53984,205000,215000,170000,224000,176000,17025,67635,74883,100000,80000,250000,162500,200000,100000,115000,203500,152000,239000,122900,191765,134236,190000,112000,88256,105500,293000,185000,148500,152900,117100,173000,113000,175000,110000,130000,110000,205000,149500,127075,219535,146115,199000,162000,221000,153000,187000,128000,136000,100000,179000,109000,198800,105200,112000,115000,86000,139000,275000,50000,280700,150450,51861,93918,51962,175000,135000,257000,147000,222000,203000,133200,221000,147000,156000,304000,48585,110000,198340,104055,240000,183600,130000,80000,160000,120000,289076,202353,155000,180000,200000,68000,60000,90000,155000,125000,181000,252000,180000,155000,191765,134236,64200,56100,135000,171250,113750,100500,115000,95000,182500,121500,203100,114500,92700,61800,167500,106500,146000,75000,59888,286000,207000,223250,178600,353200,249300,230000,220000,297300,198200,210000,151800,317070,170730,21593,108000,60000,134000,124000,124500,175000,148700,125600,160000,120000,185000,120250,183000,170000,125000,135000,417937,143865,115092,130000,90000,173000,132000,208049,128500,167500,106500,149600,102000,100000,190000,106800,97171,80976,128000,151000,140000,220000,43187,160000,145000,154000,143000,79976,190000,120000,110736,265000,235000,122638,73546,60400,172309,60462,83500,52500,201036,134024,165000,62000,58000,172000,115000,125000,90000,139500,109400,145000,239748,159832,186300,102500,149040,113900,172600,107900,180180,106020,376080,213120,206500,121600,170000,90000,95000,275000,120000,175000,206000,130000,138000,92000,65000,48000,130000,87000,145000,147100,115100,73900,168400,105200,58444,130000,205000,141288,94192,184000,143000,160000,147000,74883,17025,70000,80000,18241,210914,116704,185700,165000,193000,136850,139500,109400,276000,59382,48585,75577,48585,198094,102492,138666,102492,130000,150000,260000,110000,170000,163800,126000,106250,167500,106500,250000,138000,130000,100000,124163,104500,70000,90000,70000,185000,125000,127000,210550,153300,200000,161500,119500,105000,85000,215000,146300,215936,72000,60000,153400,122700,123900,340000,150000,250000,64781,185900,121700,50000,100000,310000,239000,150000,100000,149076,82365,49216,85500,97750,201000,122000,116990,82920,200000,125000,155000,140000,205920,171600,121500,154000,116000,79976,44356,180000,129192,260000,30000,34320,75577,106000,122000,93800,150000,90000,220000,72338,64781,15809,175000,40000,29301,152380,121904,168400,105200,128280,106900,192000,107968,86374,275000,174000,170500,73857,55044,162288,129058,65000,124740,65488,72200,64980,179975,86466,175000,120000,120000,205920,171600,130000,168000,38868,167580,87980,202000,104000,230000,148000,269000,158000,197000,106000,150000,100000,290000,192000,172800,300240,200160,175000,169000,100000,370000,116888,110000,80000,55000,48000,137500,30000,186000,153088,190000,160000,183310,66000,148500,126277,228000,120000,180000,90000,272000,170000,259000,110736,73824,18160,19910,247500,172200,107968,75577,288000,73824,61520,215050,198000,114000,209300,182200,85000,49216,120000,60000,147100,90700,227000,108000,160000,56143,51824,60000,50000,226700,133300,153799,52500,162500,165000,124000,63000,253750,169200,213580,163625,375000,102569,16417,210000,231250,138750,284310,153090,125000,110736,86128,225900,156400,385000,241871,133832,192500,36000,123040,98432,216100,140800,147648,53984,110000,67672,63980,284000,236000,248100,145900,155850,102544,151410,115360,59382,125948,100000,185000,120250,26992,180000,85000,70000,100000,155000,140000,220000,150000,204500,138900,23000,110000,182750,314100,195800,180000,144000,160000,100000,199000,112000,130000,160000,135000,350000,262500,276000,158677,103200,61200,155000,66970,63701,139000,174500,113000,87000,107250,300000,119000,60805,30000,220000,195000,168400,200000,153000,94000,124234,74540,109000,84053,50000,141290,74178,107500,84000,125000,110000,200000,135000,48000,120000,150000,200000,80000,17511,257000,77737,38868,140000,53984,41027,183310,102500,122000,94000,24613,15897,145000,128000,182000,77737,38868,300000,135000,105500,110000,153400,122700,145000,87000,50000,234100,203500,223800,172100,232200,167200,197000,106000,180000,145000,225000,200000,114000,291500,196200,150900,95000,80000,116000,72000,207000,167000,135000,105000,96100,140000,100000,120000,140000,115000,297300,198200,219000,110000,126100,72000,240500,137500,187500,165000,73824,25216,165750,225000,165750,110367,67979,275000,175000,175308,100706,235000,135000,310000,289076,202353,70179,37788,120000,100000,54094,18314,231250,138750,199000,100000,150000,120000,150000,100000,133000,272550,187500,64000,235000,185000,143100,113000,142000,180560,115440,110000,76284,63980,59059,46755,110000,236000,130000,125000,175000,155000,153600,106800,150000,140000,122000,94500,170000,130000,145000,128000,145000,100000,120000,115000,150000,150000,100000,150000,127500,126500,51000,260000,175000,40000,40000,250000,63000,210000,160000,272550,198200,94560,52533,220000,146000,248400,183600,150000,40000,56723,120000,95000,160000,135000,24165,216000,144000,85000,65000,149000,119000,120000,110000,246000,201000,190000,155000,235000,185000,190000,160000,100000,130000,115000,92350,67723,105000,70000,204500,142200,192000,164000,185900,129300,75000,175000,120000,167500,106500,75000,60000,184000,142000,145000,100000,31795,44365,200000,145000,92350,73880,192000,164000,310000,239000,120000,95000,145000,135000,78000,73546,36773,160000,35610,125000,95000,47280,37824,115934,81666,175000,249500,149850,122500,100000,249500,149850,55000,48000,249500,149850,58837,190000,127000,104000,210000,150000,210000,182750,161500,102640,66100,210000,150000,198800,122600,80000,136000,104000,150000,100000,159000,130000,215000,150000,187000,153000,255000,185000,430967,55410,50432,39925,169000,110600,60938,140000,120000,50000,134000,124000,166700,124234,74540,65000,16904,200000,220000,146000,68293,110000,70000,190000,135000,128000,81500,173000,110000,120000,190000,194000,129400,201000,89200,165000,125000,230000,196000,130000,90000,150000,100000,230000,150000,130000,180000,120000,192500,140000,152500,65000,55000,178750,160000,63040,165000,135000,170000,125000,105000,70000,130000,95000,203500,152000,197430,134760,197000,99000,162000,110446,79178,70186,51716,149040,113900,95000,115000,171000,50000,185900,129300,230000,154600,75000,213000,152000,70000,227200,168000,64090,60938,243000,183000,130000,90000,165000,124000,178000,132000,300000,116000,96000,92350,70186,105000,70000,105236,189750,140250,130000,160000,109000,250000,150000,206000,135000,115573,73546,42026,191200,66192,230000,154600,80000,135000,110000,155000,140000,205000,179500,134000,145000,235000,175000,27317,90000,165000,135000,168400,105200,86193,49253,200000,198800,122600,100000,105066,104663,73880,125000,110000,148000,107000,100000,65000,63040,36773,299500,245100,168000,161000,118000,205000,247500,172200,68293,177000,131000,102000,65000,61566,43096,135000,80000,231250,138750,193750,116250,231250,138750,193750,116250,208000,127000,300000,196000,45555,205000,185000,247500,172200,110000,17684,375000,225000,156400,104663,80036,140700,93800,350000,135000,104697,33000,34672,119000,154560,123648,170000,145000,247500,172200,177500,134000,192564,144854,179305,142127,315000,225000,243900,156600,79000,89306,182500,128500,77300,45600,210000,136000,140000,247500,172200,184100,85000,78000,161000,205000,160000,61566,49253,245000,180000,198440,144000,240000,198440,144000,57872,64000,39925,187200,116100,275000,166000,159699,138938,76000,103432,92350,80000,52500,236000,182000,135000,240000,125404,195000,123000,92250,180000,100000,97000,90000,180000,260000,180000,210000,157000,80000,52500,128000,81500,105000,70000,122500,171000,117000,202800,104300,36773,30000,78000,48000,78000,42000,345600,230400,78000,48000,175950,130050,205600,105700,236600,84000,54000,80000,200000,73742,165000,33246,75050,108000,38000,85000,110820,153600,106800,50000,123400,88100,120000,55000,150000,120000,139000,139600,85700,185000,50000,200000,148500,98200,115000,225000,66000,134000,98000,105000,62000,57000,161311,144200,115360,83171,38154,73546,42026,180000,160000,108000,200000,150000,125976,188700,160395,191475,141525,75648,156868,200000,69344,90000,126080,84053,108000,85000,165000,132000,130000,45050,42028,135000,178800,132100,20000,140000,110000,85000,250000,63000,187200,116100,229998,154545,215000,159000,50000,183000,99750,68400,236900,159200,243225,179775,191475,141525,218000,145300,195400,131300,105000,207000,153000,99000,200000,135000,195700,130500,130000,84000,100000,60000,80036,67723,141300,102100,150000,102200,22892,144000,113000,31520,195400,131300,195400,131300,80000,60000,63040,50000,190000,140000,180000,165000,108000,20000,179400,154000,193900,129300,222640,182160,100000,122500,100000,297500,260000,15000,193000,93000,73000,136994,101570,57786,136000,112000,172000,164000,45390,97500,212800,142800,73546,50000,151800,130240,165000,140250,75000,84053,73546,98506,86193,84053,73546,102663,80041,104611,82280,115000,31520,81000,66000,46000,80000,200000,180000,200000,204100,136100,250000,63000,118208,110820,19073,95000,75000,113000,170000,113000,140000,50000,53368,29944,160000,119300,145000,146200,124270,225000,160000,54634,185800,137400,245000,180000,203500,152000,186000,148800,95386,128058,82000,110000,173000,186000,148800,158000,134000,200000,150000,216200,144100,115573,89306,85000,206000,175100,189650,164996,154000,126000,200000,150000,117000,99450,200000,135000,193900,129300,55410,86193,61566,175000,188100,139860,248700,167100,50432,141300,102100,50000,84053,61566,250000,63000,189500,140100,177600,131300,24000,202900,115000,193900,129300,140000,216200,144100,216000,144000,150000,53416,50000,250000,84053,131752,48000,260500,175100,55000,130000,77119,52008,30523,206699,99100,200000,54000,130000,100000,80000,100000,221300,148700,30000,28368,91118,61566,60938,249260,185400,80036,128875,93700,100000,136260,109280,92000,135446,104663,129000,86000,100000,25000,65257,200000,180000,153000,150075,110925,22800,22809,15000,133766,83000,186000,148800,112900,90320,240000,160000,300000,200000,65666,200000,116976,92350,120000,145000,105400,49268,215300,158200,209100,84053,164000,132000,123000,52533,115222,165400,132320,208775,147800,136994,101570,76309,35093,183600,100800,49253,36940,42026,31520,42026,31520,140400,63040,47280,260000,43096,63040,47280,55410,51064,60000,82900,63900,160000,112300,241000,159000,80000,58000,136000,108800,242000,61566,36940,49253,165220,120160,124190,181940,220110,160080,120000,126500,106260,155000,120600,102100,84900,136620,99360,110820,98506,43096,130000,110000,170000,161342,137141,167000,73880,211500,138600,192400,90700,130000,61300,160000,113000,95550,167000,115500,243900,156600,136600,128875,93700,224000,167875,175000,135000,205300,176000,200100,70500,54000,205300,140400,205300,184700,175100,140250,116150,99050,85000,75000,214000,192600,266400,213120,141300,102100,206699,99100,110500,61566,43096,60000,230000,150260,109280,67000,52000,129000,69000,25000,126500,106260,135000,50000,172386,86193,220000,200000,120000,65000,324000,216000,185100,104890,76814,117104,192037,120000,17805,30523,55685,52533,17805,75000,157000,69133,65000,68293,109000,67597,20000,102839,200000,51081,83864,40000,31520,59888,54742,89306,83171,153000,100000,76814,33609,75000,20000,30469,69999,55475,61989,152500,120000,135000,405000,150000,240000,135000,80000,380000,120402,177000,65141,48000,20000,220000,77364,63711,150000,90000,100000,100000,100000,144000,155499,24000,38400,100000,82500,49646,40570,120000,84053,20000,125000,120000,110037,21013,50000,200000,60000,200000,100000,100000,82744,59303,62649,82528,170000,150000,55000,250000,80000,70000,130026,63831,68428,85000,230000,125000,120000,450000,46759,74130,127221,144000,75774,150000,103000,153000,90000,90000,60000,50000,270000,54238,47282,153667,28476,110000,82528,250000,59102,80000,138000,140000,79197,170000,80000,45760,100000,53192,235000,150000,79833,225000,76833,50180,88654,103160,113476,94564,30428,150000,115000,187442,51519,106000,112872,36259,15966,95746,70000,76958,89294,29751,276000,188000,160000,105000,174000,93000,28399,60757,90000,70139,33511,170000,96282,36643,72212,91000,99703,165000,80000,103691,21637,42000,115000,63810,260000,110000,180000,200000,109024,200000,256000,110000,79833,72500,185000,69741,100000,112000,150000,20171,55000,58000,100000,77684,85000,76833,105000,72000,65013,28016,111775,93150,160000,25532,66265,16904,63831,190000,141846,16228,71786,35735,135000,24823,54094,24342,147000,96113,174000,135000,21844,125000,51321,40481,69741,50000,39916,87000,26005,90734,22611,81000,40038,90000,61467,195000,37825,85000,416000,225000,56256,33808,116914,46597,41689,114047,88654,56000,28609,88654,47899,98000,66022,56738,24823,120000,20000,325000,200000,45896,160000,50000,40189,165000,42197,185000,62726,21669,110000,140000,120000,87738,61896,76833,74000,152000,18000,60000,130000,18907,59102,173762,148261,38776,46809,18053,91237,62726,115000,235000,19609,75000,62000,73000,45391,190200,118000,138350,130800,45618,168000,119059,423000,28369,165000,412000,151000,105000,100000,94665],\"x0\":\" \",\"xaxis\":\"x\",\"y\":[\"Senior\",\"Senior\",\"Senior\",\"Senior\",\"Senior\",\"Senior\",\"Senior\",\"Senior\",\"Mid\",\"Mid\",\"Senior\",\"Senior\",\"Senior\",\"Senior\",\"Senior\",\"Senior\",\"Senior\",\"Senior\",\"Senior\",\"Senior\",\"Senior\",\"Senior\",\"Senior\",\"Senior\",\"Senior\",\"Senior\",\"Senior\",\"Senior\",\"Senior\",\"Senior\",\"Mid\",\"Senior\",\"Senior\",\"Senior\",\"Senior\",\"Senior\",\"Senior\",\"Senior\",\"Senior\",\"Senior\",\"Senior\",\"Senior\",\"Senior\",\"Senior\",\"Senior\",\"Senior\",\"Senior\",\"Executive\",\"Executive\",\"Mid\",\"Mid\",\"Senior\",\"Senior\",\"Senior\",\"Senior\",\"Senior\",\"Senior\",\"Senior\",\"Senior\",\"Executive\",\"Executive\",\"Senior\",\"Senior\",\"Senior\",\"Senior\",\"Entry\",\"Senior\",\"Mid\",\"Mid\",\"Senior\",\"Senior\",\"Senior\",\"Senior\",\"Senior\",\"Senior\",\"Senior\",\"Senior\",\"Senior\",\"Senior\",\"Senior\",\"Senior\",\"Senior\",\"Senior\",\"Senior\",\"Senior\",\"Senior\",\"Senior\",\"Mid\",\"Mid\",\"Senior\",\"Senior\",\"Senior\",\"Senior\",\"Senior\",\"Mid\",\"Mid\",\"Senior\",\"Senior\",\"Senior\",\"Senior\",\"Entry\",\"Senior\",\"Senior\",\"Senior\",\"Senior\",\"Senior\",\"Senior\",\"Mid\",\"Mid\",\"Senior\",\"Senior\",\"Senior\",\"Senior\",\"Senior\",\"Senior\",\"Senior\",\"Senior\",\"Senior\",\"Senior\",\"Senior\",\"Senior\",\"Mid\",\"Mid\",\"Senior\",\"Senior\",\"Senior\",\"Senior\",\"Senior\",\"Senior\",\"Senior\",\"Senior\",\"Executive\",\"Executive\",\"Senior\",\"Senior\",\"Mid\",\"Mid\",\"Senior\",\"Senior\",\"Senior\",\"Senior\",\"Senior\",\"Senior\",\"Senior\",\"Senior\",\"Senior\",\"Senior\",\"Senior\",\"Senior\",\"Senior\",\"Senior\",\"Senior\",\"Senior\",\"Senior\",\"Senior\",\"Senior\",\"Senior\",\"Senior\",\"Mid\",\"Senior\",\"Senior\",\"Mid\",\"Mid\",\"Senior\",\"Senior\",\"Senior\",\"Senior\",\"Executive\",\"Executive\",\"Senior\",\"Senior\",\"Mid\",\"Mid\",\"Mid\",\"Mid\",\"Mid\",\"Mid\",\"Mid\",\"Senior\",\"Senior\",\"Senior\",\"Senior\",\"Mid\",\"Senior\",\"Senior\",\"Senior\",\"Senior\",\"Senior\",\"Senior\",\"Executive\",\"Executive\",\"Senior\",\"Senior\",\"Mid\",\"Mid\",\"Mid\",\"Mid\",\"Mid\",\"Senior\",\"Senior\",\"Mid\",\"Mid\",\"Senior\",\"Senior\",\"Senior\",\"Senior\",\"Senior\",\"Senior\",\"Senior\",\"Senior\",\"Senior\",\"Senior\",\"Senior\",\"Senior\",\"Senior\",\"Senior\",\"Senior\",\"Senior\",\"Senior\",\"Senior\",\"Senior\",\"Senior\",\"Senior\",\"Senior\",\"Senior\",\"Senior\",\"Senior\",\"Senior\",\"Senior\",\"Senior\",\"Senior\",\"Senior\",\"Senior\",\"Senior\",\"Senior\",\"Mid\",\"Mid\",\"Mid\",\"Mid\",\"Senior\",\"Senior\",\"Entry\",\"Entry\",\"Senior\",\"Senior\",\"Senior\",\"Senior\",\"Senior\",\"Senior\",\"Entry\",\"Entry\",\"Senior\",\"Senior\",\"Senior\",\"Senior\",\"Senior\",\"Senior\",\"Senior\",\"Senior\",\"Senior\",\"Senior\",\"Senior\",\"Senior\",\"Senior\",\"Senior\",\"Senior\",\"Senior\",\"Mid\",\"Mid\",\"Senior\",\"Senior\",\"Senior\",\"Senior\",\"Senior\",\"Senior\",\"Senior\",\"Senior\",\"Senior\",\"Senior\",\"Senior\",\"Senior\",\"Mid\",\"Mid\",\"Executive\",\"Executive\",\"Senior\",\"Senior\",\"Mid\",\"Mid\",\"Senior\",\"Senior\",\"Senior\",\"Senior\",\"Senior\",\"Senior\",\"Senior\",\"Senior\",\"Senior\",\"Senior\",\"Senior\",\"Senior\",\"Senior\",\"Senior\",\"Senior\",\"Senior\",\"Senior\",\"Senior\",\"Senior\",\"Mid\",\"Mid\",\"Mid\",\"Mid\",\"Mid\",\"Mid\",\"Senior\",\"Senior\",\"Senior\",\"Senior\",\"Senior\",\"Entry\",\"Entry\",\"Senior\",\"Senior\",\"Senior\",\"Senior\",\"Senior\",\"Senior\",\"Senior\",\"Mid\",\"Mid\",\"Senior\",\"Senior\",\"Senior\",\"Senior\",\"Senior\",\"Mid\",\"Mid\",\"Senior\",\"Senior\",\"Mid\",\"Senior\",\"Senior\",\"Senior\",\"Senior\",\"Senior\",\"Senior\",\"Senior\",\"Senior\",\"Entry\",\"Senior\",\"Senior\",\"Senior\",\"Senior\",\"Senior\",\"Senior\",\"Mid\",\"Mid\",\"Senior\",\"Senior\",\"Senior\",\"Senior\",\"Senior\",\"Senior\",\"Senior\",\"Senior\",\"Senior\",\"Senior\",\"Senior\",\"Senior\",\"Senior\",\"Senior\",\"Senior\",\"Senior\",\"Mid\",\"Senior\",\"Senior\",\"Senior\",\"Senior\",\"Senior\",\"Entry\",\"Entry\",\"Executive\",\"Executive\",\"Senior\",\"Senior\",\"Senior\",\"Senior\",\"Mid\",\"Mid\",\"Mid\",\"Mid\",\"Senior\",\"Senior\",\"Senior\",\"Senior\",\"Senior\",\"Senior\",\"Senior\",\"Senior\",\"Entry\",\"Entry\",\"Senior\",\"Senior\",\"Senior\",\"Senior\",\"Mid\",\"Mid\",\"Executive\",\"Senior\",\"Senior\",\"Senior\",\"Senior\",\"Senior\",\"Senior\",\"Executive\",\"Executive\",\"Entry\",\"Senior\",\"Senior\",\"Senior\",\"Senior\",\"Senior\",\"Senior\",\"Senior\",\"Senior\",\"Senior\",\"Senior\",\"Senior\",\"Mid\",\"Mid\",\"Entry\",\"Senior\",\"Senior\",\"Senior\",\"Senior\",\"Senior\",\"Senior\",\"Senior\",\"Senior\",\"Mid\",\"Mid\",\"Senior\",\"Senior\",\"Senior\",\"Senior\",\"Senior\",\"Senior\",\"Senior\",\"Mid\",\"Mid\",\"Senior\",\"Senior\",\"Senior\",\"Senior\",\"Executive\",\"Mid\",\"Mid\",\"Senior\",\"Senior\",\"Senior\",\"Senior\",\"Senior\",\"Senior\",\"Senior\",\"Executive\",\"Executive\",\"Senior\",\"Senior\",\"Senior\",\"Senior\",\"Senior\",\"Senior\",\"Senior\",\"Senior\",\"Senior\",\"Senior\",\"Senior\",\"Senior\",\"Senior\",\"Senior\",\"Senior\",\"Senior\",\"Senior\",\"Senior\",\"Senior\",\"Senior\",\"Senior\",\"Senior\",\"Senior\",\"Senior\",\"Senior\",\"Senior\",\"Senior\",\"Senior\",\"Senior\",\"Senior\",\"Senior\",\"Senior\",\"Senior\",\"Senior\",\"Senior\",\"Senior\",\"Mid\",\"Senior\",\"Mid\",\"Mid\",\"Senior\",\"Senior\",\"Senior\",\"Senior\",\"Senior\",\"Senior\",\"Senior\",\"Mid\",\"Executive\",\"Executive\",\"Senior\",\"Senior\",\"Mid\",\"Mid\",\"Senior\",\"Senior\",\"Senior\",\"Senior\",\"Senior\",\"Senior\",\"Senior\",\"Senior\",\"Mid\",\"Mid\",\"Senior\",\"Senior\",\"Senior\",\"Senior\",\"Senior\",\"Senior\",\"Senior\",\"Senior\",\"Senior\",\"Senior\",\"Senior\",\"Senior\",\"Entry\",\"Mid\",\"Senior\",\"Senior\",\"Senior\",\"Senior\",\"Senior\",\"Senior\",\"Senior\",\"Senior\",\"Senior\",\"Senior\",\"Senior\",\"Entry\",\"Entry\",\"Mid\",\"Mid\",\"Mid\",\"Mid\",\"Senior\",\"Senior\",\"Senior\",\"Senior\",\"Entry\",\"Entry\",\"Executive\",\"Entry\",\"Entry\",\"Senior\",\"Senior\",\"Senior\",\"Senior\",\"Senior\",\"Senior\",\"Senior\",\"Senior\",\"Senior\",\"Senior\",\"Senior\",\"Senior\",\"Senior\",\"Senior\",\"Senior\",\"Mid\",\"Entry\",\"Mid\",\"Executive\",\"Senior\",\"Senior\",\"Senior\",\"Senior\",\"Senior\",\"Senior\",\"Senior\",\"Senior\",\"Senior\",\"Senior\",\"Senior\",\"Senior\",\"Executive\",\"Executive\",\"Senior\",\"Senior\",\"Senior\",\"Senior\",\"Senior\",\"Executive\",\"Executive\",\"Senior\",\"Senior\",\"Mid\",\"Mid\",\"Mid\",\"Mid\",\"Senior\",\"Senior\",\"Entry\",\"Senior\",\"Senior\",\"Senior\",\"Senior\",\"Senior\",\"Senior\",\"Senior\",\"Senior\",\"Senior\",\"Senior\",\"Senior\",\"Senior\",\"Senior\",\"Mid\",\"Mid\",\"Mid\",\"Mid\",\"Mid\",\"Senior\",\"Senior\",\"Entry\",\"Executive\",\"Mid\",\"Mid\",\"Senior\",\"Senior\",\"Senior\",\"Senior\",\"Senior\",\"Senior\",\"Senior\",\"Senior\",\"Senior\",\"Senior\",\"Senior\",\"Senior\",\"Senior\",\"Senior\",\"Senior\",\"Entry\",\"Senior\",\"Senior\",\"Mid\",\"Mid\",\"Senior\",\"Senior\",\"Senior\",\"Senior\",\"Senior\",\"Senior\",\"Senior\",\"Senior\",\"Senior\",\"Senior\",\"Senior\",\"Senior\",\"Senior\",\"Senior\",\"Senior\",\"Senior\",\"Senior\",\"Mid\",\"Mid\",\"Senior\",\"Senior\",\"Senior\",\"Senior\",\"Senior\",\"Senior\",\"Mid\",\"Mid\",\"Mid\",\"Entry\",\"Entry\",\"Mid\",\"Entry\",\"Senior\",\"Senior\",\"Senior\",\"Senior\",\"Senior\",\"Senior\",\"Senior\",\"Senior\",\"Senior\",\"Senior\",\"Mid\",\"Mid\",\"Senior\",\"Senior\",\"Senior\",\"Senior\",\"Mid\",\"Senior\",\"Senior\",\"Senior\",\"Senior\",\"Mid\",\"Mid\",\"Senior\",\"Senior\",\"Senior\",\"Senior\",\"Senior\",\"Senior\",\"Mid\",\"Senior\",\"Senior\",\"Mid\",\"Mid\",\"Senior\",\"Senior\",\"Mid\",\"Mid\",\"Senior\",\"Senior\",\"Senior\",\"Senior\",\"Senior\",\"Senior\",\"Senior\",\"Senior\",\"Mid\",\"Mid\",\"Mid\",\"Mid\",\"Mid\",\"Senior\",\"Senior\",\"Mid\",\"Mid\",\"Senior\",\"Senior\",\"Senior\",\"Senior\",\"Mid\",\"Mid\",\"Senior\",\"Senior\",\"Senior\",\"Senior\",\"Mid\",\"Mid\",\"Senior\",\"Senior\",\"Mid\",\"Senior\",\"Senior\",\"Senior\",\"Senior\",\"Senior\",\"Senior\",\"Senior\",\"Senior\",\"Senior\",\"Senior\",\"Mid\",\"Mid\",\"Mid\",\"Mid\",\"Mid\",\"Mid\",\"Senior\",\"Senior\",\"Entry\",\"Senior\",\"Mid\",\"Mid\",\"Senior\",\"Senior\",\"Senior\",\"Senior\",\"Senior\",\"Senior\",\"Senior\",\"Senior\",\"Senior\",\"Senior\",\"Senior\",\"Entry\",\"Senior\",\"Senior\",\"Mid\",\"Mid\",\"Entry\",\"Senior\",\"Senior\",\"Mid\",\"Mid\",\"Senior\",\"Senior\",\"Senior\",\"Senior\",\"Senior\",\"Senior\",\"Senior\",\"Senior\",\"Executive\",\"Executive\",\"Senior\",\"Senior\",\"Senior\",\"Senior\",\"Entry\",\"Entry\",\"Mid\",\"Mid\",\"Senior\",\"Executive\",\"Entry\",\"Senior\",\"Senior\",\"Senior\",\"Senior\",\"Senior\",\"Senior\",\"Senior\",\"Senior\",\"Senior\",\"Senior\",\"Senior\",\"Senior\",\"Mid\",\"Mid\",\"Senior\",\"Senior\",\"Senior\",\"Senior\",\"Senior\",\"Senior\",\"Senior\",\"Mid\",\"Senior\",\"Executive\",\"Executive\",\"Mid\",\"Senior\",\"Senior\",\"Senior\",\"Senior\",\"Senior\",\"Senior\",\"Senior\",\"Senior\",\"Entry\",\"Senior\",\"Senior\",\"Senior\",\"Senior\",\"Senior\",\"Senior\",\"Senior\",\"Senior\",\"Senior\",\"Senior\",\"Senior\",\"Senior\",\"Mid\",\"Mid\",\"Executive\",\"Executive\",\"Senior\",\"Senior\",\"Senior\",\"Senior\",\"Senior\",\"Senior\",\"Senior\",\"Senior\",\"Mid\",\"Mid\",\"Mid\",\"Mid\",\"Senior\",\"Senior\",\"Senior\",\"Senior\",\"Senior\",\"Senior\",\"Senior\",\"Mid\",\"Mid\",\"Senior\",\"Senior\",\"Senior\",\"Senior\",\"Mid\",\"Mid\",\"Executive\",\"Executive\",\"Senior\",\"Senior\",\"Mid\",\"Executive\",\"Executive\",\"Mid\",\"Mid\",\"Senior\",\"Executive\",\"Executive\",\"Mid\",\"Mid\",\"Entry\",\"Senior\",\"Senior\",\"Senior\",\"Senior\",\"Senior\",\"Mid\",\"Executive\",\"Executive\",\"Senior\",\"Senior\",\"Mid\",\"Senior\",\"Senior\",\"Senior\",\"Mid\",\"Mid\",\"Executive\",\"Executive\",\"Executive\",\"Senior\",\"Senior\",\"Senior\",\"Senior\",\"Senior\",\"Senior\",\"Mid\",\"Senior\",\"Senior\",\"Mid\",\"Mid\",\"Senior\",\"Senior\",\"Mid\",\"Mid\",\"Senior\",\"Senior\",\"Senior\",\"Senior\",\"Senior\",\"Senior\",\"Mid\",\"Mid\",\"Senior\",\"Senior\",\"Senior\",\"Senior\",\"Senior\",\"Senior\",\"Senior\",\"Senior\",\"Senior\",\"Mid\",\"Mid\",\"Senior\",\"Senior\",\"Senior\",\"Senior\",\"Senior\",\"Senior\",\"Senior\",\"Senior\",\"Mid\",\"Mid\",\"Mid\",\"Mid\",\"Entry\",\"Entry\",\"Mid\",\"Mid\",\"Executive\",\"Executive\",\"Executive\",\"Executive\",\"Executive\",\"Executive\",\"Senior\",\"Senior\",\"Entry\",\"Senior\",\"Senior\",\"Entry\",\"Entry\",\"Senior\",\"Senior\",\"Senior\",\"Senior\",\"Senior\",\"Senior\",\"Senior\",\"Senior\",\"Mid\",\"Mid\",\"Senior\",\"Senior\",\"Senior\",\"Senior\",\"Senior\",\"Senior\",\"Senior\",\"Senior\",\"Senior\",\"Senior\",\"Senior\",\"Senior\",\"Senior\",\"Senior\",\"Senior\",\"Senior\",\"Senior\",\"Senior\",\"Senior\",\"Senior\",\"Mid\",\"Mid\",\"Senior\",\"Senior\",\"Senior\",\"Senior\",\"Senior\",\"Senior\",\"Mid\",\"Entry\",\"Mid\",\"Senior\",\"Mid\",\"Senior\",\"Senior\",\"Senior\",\"Senior\",\"Senior\",\"Mid\",\"Mid\",\"Senior\",\"Mid\",\"Mid\",\"Senior\",\"Senior\",\"Senior\",\"Senior\",\"Entry\",\"Senior\",\"Senior\",\"Senior\",\"Senior\",\"Senior\",\"Senior\",\"Mid\",\"Mid\",\"Mid\",\"Mid\",\"Senior\",\"Senior\",\"Senior\",\"Senior\",\"Mid\",\"Mid\",\"Mid\",\"Senior\",\"Senior\",\"Senior\",\"Entry\",\"Entry\",\"Senior\",\"Senior\",\"Senior\",\"Senior\",\"Entry\",\"Entry\",\"Senior\",\"Entry\",\"Senior\",\"Senior\",\"Senior\",\"Senior\",\"Senior\",\"Entry\",\"Entry\",\"Senior\",\"Senior\",\"Senior\",\"Senior\",\"Senior\",\"Senior\",\"Executive\",\"Executive\",\"Senior\",\"Senior\",\"Entry\",\"Entry\",\"Mid\",\"Senior\",\"Mid\",\"Senior\",\"Senior\",\"Senior\",\"Senior\",\"Senior\",\"Senior\",\"Senior\",\"Senior\",\"Entry\",\"Mid\",\"Entry\",\"Senior\",\"Entry\",\"Entry\",\"Senior\",\"Senior\",\"Mid\",\"Mid\",\"Mid\",\"Senior\",\"Senior\",\"Senior\",\"Senior\",\"Mid\",\"Mid\",\"Mid\",\"Mid\",\"Senior\",\"Senior\",\"Senior\",\"Senior\",\"Senior\",\"Senior\",\"Senior\",\"Senior\",\"Senior\",\"Senior\",\"Entry\",\"Entry\",\"Executive\",\"Executive\",\"Mid\",\"Mid\",\"Mid\",\"Mid\",\"Mid\",\"Mid\",\"Senior\",\"Senior\",\"Mid\",\"Mid\",\"Mid\",\"Senior\",\"Mid\",\"Mid\",\"Mid\",\"Senior\",\"Senior\",\"Senior\",\"Senior\",\"Senior\",\"Senior\",\"Senior\",\"Senior\",\"Senior\",\"Senior\",\"Senior\",\"Mid\",\"Senior\",\"Senior\",\"Mid\",\"Mid\",\"Mid\",\"Executive\",\"Executive\",\"Senior\",\"Senior\",\"Senior\",\"Senior\",\"Entry\",\"Entry\",\"Executive\",\"Senior\",\"Senior\",\"Senior\",\"Senior\",\"Senior\",\"Senior\",\"Senior\",\"Senior\",\"Senior\",\"Senior\",\"Senior\",\"Senior\",\"Mid\",\"Mid\",\"Mid\",\"Executive\",\"Senior\",\"Senior\",\"Senior\",\"Senior\",\"Senior\",\"Senior\",\"Senior\",\"Senior\",\"Senior\",\"Mid\",\"Mid\",\"Mid\",\"Mid\",\"Senior\",\"Senior\",\"Senior\",\"Senior\",\"Senior\",\"Senior\",\"Senior\",\"Senior\",\"Mid\",\"Mid\",\"Mid\",\"Entry\",\"Entry\",\"Mid\",\"Mid\",\"Senior\",\"Senior\",\"Mid\",\"Senior\",\"Mid\",\"Mid\",\"Senior\",\"Senior\",\"Senior\",\"Senior\",\"Senior\",\"Senior\",\"Entry\",\"Entry\",\"Senior\",\"Mid\",\"Senior\",\"Senior\",\"Senior\",\"Senior\",\"Senior\",\"Senior\",\"Senior\",\"Senior\",\"Senior\",\"Mid\",\"Mid\",\"Entry\",\"Mid\",\"Entry\",\"Entry\",\"Senior\",\"Senior\",\"Senior\",\"Senior\",\"Senior\",\"Senior\",\"Senior\",\"Senior\",\"Senior\",\"Senior\",\"Senior\",\"Senior\",\"Senior\",\"Senior\",\"Senior\",\"Senior\",\"Mid\",\"Senior\",\"Mid\",\"Mid\",\"Senior\",\"Senior\",\"Entry\",\"Entry\",\"Senior\",\"Senior\",\"Senior\",\"Senior\",\"Senior\",\"Senior\",\"Senior\",\"Senior\",\"Senior\",\"Senior\",\"Entry\",\"Entry\",\"Senior\",\"Senior\",\"Senior\",\"Senior\",\"Senior\",\"Senior\",\"Senior\",\"Senior\",\"Entry\",\"Entry\",\"Senior\",\"Senior\",\"Entry\",\"Entry\",\"Senior\",\"Senior\",\"Senior\",\"Senior\",\"Mid\",\"Mid\",\"Mid\",\"Mid\",\"Senior\",\"Senior\",\"Senior\",\"Senior\",\"Mid\",\"Mid\",\"Executive\",\"Mid\",\"Mid\",\"Entry\",\"Mid\",\"Mid\",\"Senior\",\"Mid\",\"Mid\",\"Senior\",\"Executive\",\"Senior\",\"Senior\",\"Senior\",\"Senior\",\"Entry\",\"Senior\",\"Mid\",\"Senior\",\"Senior\",\"Senior\",\"Senior\",\"Mid\",\"Senior\",\"Executive\",\"Senior\",\"Senior\",\"Senior\",\"Senior\",\"Senior\",\"Senior\",\"Senior\",\"Senior\",\"Senior\",\"Senior\",\"Senior\",\"Senior\",\"Senior\",\"Senior\",\"Senior\",\"Senior\",\"Senior\",\"Executive\",\"Executive\",\"Senior\",\"Senior\",\"Senior\",\"Senior\",\"Senior\",\"Senior\",\"Senior\",\"Senior\",\"Senior\",\"Executive\",\"Executive\",\"Senior\",\"Senior\",\"Senior\",\"Senior\",\"Senior\",\"Senior\",\"Senior\",\"Senior\",\"Senior\",\"Senior\",\"Senior\",\"Senior\",\"Senior\",\"Senior\",\"Mid\",\"Mid\",\"Entry\",\"Mid\",\"Mid\",\"Senior\",\"Senior\",\"Senior\",\"Senior\",\"Senior\",\"Senior\",\"Senior\",\"Senior\",\"Senior\",\"Senior\",\"Senior\",\"Mid\",\"Senior\",\"Mid\",\"Mid\",\"Senior\",\"Senior\",\"Mid\",\"Mid\",\"Senior\",\"Senior\",\"Senior\",\"Senior\",\"Senior\",\"Mid\",\"Executive\",\"Mid\",\"Entry\",\"Mid\",\"Entry\",\"Entry\",\"Senior\",\"Senior\",\"Executive\",\"Executive\",\"Senior\",\"Senior\",\"Entry\",\"Entry\",\"Mid\",\"Senior\",\"Senior\",\"Senior\",\"Senior\",\"Senior\",\"Mid\",\"Mid\",\"Senior\",\"Senior\",\"Entry\",\"Entry\",\"Mid\",\"Mid\",\"Mid\",\"Mid\",\"Entry\",\"Executive\",\"Executive\",\"Senior\",\"Senior\",\"Executive\",\"Executive\",\"Mid\",\"Mid\",\"Senior\",\"Senior\",\"Mid\",\"Mid\",\"Senior\",\"Senior\",\"Entry\",\"Senior\",\"Senior\",\"Mid\",\"Mid\",\"Senior\",\"Senior\",\"Senior\",\"Senior\",\"Entry\",\"Entry\",\"Senior\",\"Senior\",\"Senior\",\"Senior\",\"Senior\",\"Mid\",\"Senior\",\"Mid\",\"Mid\",\"Mid\",\"Mid\",\"Senior\",\"Senior\",\"Senior\",\"Senior\",\"Senior\",\"Senior\",\"Mid\",\"Mid\",\"Executive\",\"Senior\",\"Senior\",\"Mid\",\"Mid\",\"Mid\",\"Mid\",\"Mid\",\"Senior\",\"Entry\",\"Senior\",\"Senior\",\"Mid\",\"Mid\",\"Mid\",\"Entry\",\"Entry\",\"Mid\",\"Executive\",\"Executive\",\"Entry\",\"Mid\",\"Mid\",\"Senior\",\"Mid\",\"Mid\",\"Mid\",\"Senior\",\"Senior\",\"Senior\",\"Entry\",\"Entry\",\"Senior\",\"Senior\",\"Entry\",\"Entry\",\"Senior\",\"Senior\",\"Mid\",\"Senior\",\"Senior\",\"Senior\",\"Senior\",\"Senior\",\"Senior\",\"Senior\",\"Senior\",\"Senior\",\"Senior\",\"Senior\",\"Senior\",\"Senior\",\"Senior\",\"Senior\",\"Senior\",\"Entry\",\"Senior\",\"Senior\",\"Senior\",\"Mid\",\"Mid\",\"Senior\",\"Senior\",\"Senior\",\"Senior\",\"Senior\",\"Senior\",\"Mid\",\"Senior\",\"Entry\",\"Entry\",\"Senior\",\"Senior\",\"Mid\",\"Mid\",\"Senior\",\"Senior\",\"Senior\",\"Senior\",\"Senior\",\"Mid\",\"Mid\",\"Mid\",\"Mid\",\"Entry\",\"Entry\",\"Mid\",\"Executive\",\"Executive\",\"Mid\",\"Mid\",\"Senior\",\"Senior\",\"Senior\",\"Senior\",\"Senior\",\"Mid\",\"Mid\",\"Mid\",\"Mid\",\"Senior\",\"Senior\",\"Senior\",\"Senior\",\"Senior\",\"Mid\",\"Senior\",\"Senior\",\"Senior\",\"Senior\",\"Senior\",\"Mid\",\"Executive\",\"Executive\",\"Senior\",\"Senior\",\"Mid\",\"Mid\",\"Senior\",\"Mid\",\"Mid\",\"Mid\",\"Mid\",\"Mid\",\"Mid\",\"Senior\",\"Senior\",\"Senior\",\"Mid\",\"Senior\",\"Senior\",\"Senior\",\"Senior\",\"Senior\",\"Senior\",\"Entry\",\"Mid\",\"Mid\",\"Senior\",\"Senior\",\"Senior\",\"Mid\",\"Mid\",\"Mid\",\"Mid\",\"Senior\",\"Senior\",\"Senior\",\"Entry\",\"Executive\",\"Executive\",\"Entry\",\"Entry\",\"Senior\",\"Senior\",\"Mid\",\"Senior\",\"Mid\",\"Senior\",\"Senior\",\"Mid\",\"Mid\",\"Mid\",\"Mid\",\"Senior\",\"Senior\",\"Mid\",\"Mid\",\"Senior\",\"Mid\",\"Mid\",\"Mid\",\"Mid\",\"Senior\",\"Mid\",\"Senior\",\"Entry\",\"Entry\",\"Senior\",\"Executive\",\"Senior\",\"Senior\",\"Senior\",\"Senior\",\"Entry\",\"Senior\",\"Entry\",\"Senior\",\"Mid\",\"Mid\",\"Senior\",\"Senior\",\"Senior\",\"Senior\",\"Senior\",\"Senior\",\"Senior\",\"Senior\",\"Senior\",\"Senior\",\"Senior\",\"Senior\",\"Senior\",\"Senior\",\"Senior\",\"Executive\",\"Executive\",\"Senior\",\"Senior\",\"Senior\",\"Senior\",\"Senior\",\"Senior\",\"Senior\",\"Senior\",\"Senior\",\"Senior\",\"Senior\",\"Senior\",\"Mid\",\"Entry\",\"Mid\",\"Senior\",\"Senior\",\"Senior\",\"Senior\",\"Senior\",\"Senior\",\"Senior\",\"Senior\",\"Senior\",\"Senior\",\"Mid\",\"Mid\",\"Senior\",\"Senior\",\"Senior\",\"Senior\",\"Senior\",\"Senior\",\"Senior\",\"Senior\",\"Senior\",\"Mid\",\"Senior\",\"Senior\",\"Entry\",\"Entry\",\"Senior\",\"Mid\",\"Senior\",\"Senior\",\"Mid\",\"Mid\",\"Mid\",\"Senior\",\"Mid\",\"Mid\",\"Senior\",\"Senior\",\"Senior\",\"Senior\",\"Senior\",\"Senior\",\"Senior\",\"Mid\",\"Mid\",\"Entry\",\"Entry\",\"Senior\",\"Senior\",\"Senior\",\"Senior\",\"Senior\",\"Mid\",\"Mid\",\"Senior\",\"Senior\",\"Senior\",\"Senior\",\"Senior\",\"Entry\",\"Mid\",\"Entry\",\"Entry\",\"Senior\",\"Senior\",\"Senior\",\"Senior\",\"Senior\",\"Senior\",\"Senior\",\"Entry\",\"Entry\",\"Senior\",\"Senior\",\"Senior\",\"Senior\",\"Senior\",\"Mid\",\"Mid\",\"Senior\",\"Senior\",\"Senior\",\"Senior\",\"Senior\",\"Senior\",\"Senior\",\"Mid\",\"Executive\",\"Senior\",\"Senior\",\"Senior\",\"Senior\",\"Mid\",\"Mid\",\"Mid\",\"Senior\",\"Senior\",\"Senior\",\"Senior\",\"Senior\",\"Senior\",\"Mid\",\"Mid\",\"Mid\",\"Senior\",\"Senior\",\"Mid\",\"Senior\",\"Entry\",\"Mid\",\"Mid\",\"Executive\",\"Executive\",\"Senior\",\"Senior\",\"Senior\",\"Senior\",\"Mid\",\"Mid\",\"Mid\",\"Senior\",\"Senior\",\"Senior\",\"Senior\",\"Entry\",\"Entry\",\"Mid\",\"Mid\",\"Senior\",\"Executive\",\"Executive\",\"Senior\",\"Senior\",\"Senior\",\"Senior\",\"Mid\",\"Mid\",\"Senior\",\"Executive\",\"Executive\",\"Senior\",\"Senior\",\"Entry\",\"Entry\",\"Senior\",\"Senior\",\"Entry\",\"Entry\",\"Entry\",\"Senior\",\"Senior\",\"Senior\",\"Senior\",\"Mid\",\"Mid\",\"Mid\",\"Entry\",\"Senior\",\"Senior\",\"Senior\",\"Senior\",\"Senior\",\"Senior\",\"Senior\",\"Senior\",\"Mid\",\"Entry\",\"Mid\",\"Mid\",\"Senior\",\"Senior\",\"Senior\",\"Senior\",\"Entry\",\"Entry\",\"Mid\",\"Senior\",\"Mid\",\"Senior\",\"Senior\",\"Senior\",\"Senior\",\"Senior\",\"Senior\",\"Senior\",\"Senior\",\"Entry\",\"Entry\",\"Mid\",\"Senior\",\"Mid\",\"Mid\",\"Senior\",\"Senior\",\"Senior\",\"Senior\",\"Mid\",\"Senior\",\"Mid\",\"Senior\",\"Senior\",\"Senior\",\"Mid\",\"Mid\",\"Senior\",\"Senior\",\"Senior\",\"Senior\",\"Senior\",\"Executive\",\"Mid\",\"Mid\",\"Mid\",\"Senior\",\"Senior\",\"Mid\",\"Mid\",\"Entry\",\"Senior\",\"Senior\",\"Senior\",\"Senior\",\"Senior\",\"Senior\",\"Senior\",\"Senior\",\"Senior\",\"Senior\",\"Senior\",\"Senior\",\"Senior\",\"Senior\",\"Executive\",\"Executive\",\"Mid\",\"Mid\",\"Mid\",\"Mid\",\"Senior\",\"Senior\",\"Senior\",\"Mid\",\"Senior\",\"Senior\",\"Senior\",\"Senior\",\"Senior\",\"Senior\",\"Senior\",\"Senior\",\"Mid\",\"Senior\",\"Senior\",\"Senior\",\"Senior\",\"Senior\",\"Mid\",\"Mid\",\"Mid\",\"Entry\",\"Senior\",\"Senior\",\"Senior\",\"Mid\",\"Mid\",\"Senior\",\"Senior\",\"Senior\",\"Senior\",\"Senior\",\"Senior\",\"Senior\",\"Senior\",\"Senior\",\"Senior\",\"Senior\",\"Mid\",\"Mid\",\"Senior\",\"Mid\",\"Senior\",\"Senior\",\"Senior\",\"Entry\",\"Entry\",\"Entry\",\"Senior\",\"Senior\",\"Senior\",\"Senior\",\"Senior\",\"Senior\",\"Senior\",\"Senior\",\"Senior\",\"Senior\",\"Senior\",\"Senior\",\"Senior\",\"Senior\",\"Mid\",\"Mid\",\"Mid\",\"Mid\",\"Senior\",\"Senior\",\"Entry\",\"Senior\",\"Senior\",\"Senior\",\"Senior\",\"Senior\",\"Senior\",\"Senior\",\"Senior\",\"Senior\",\"Senior\",\"Senior\",\"Senior\",\"Senior\",\"Senior\",\"Senior\",\"Senior\",\"Senior\",\"Senior\",\"Mid\",\"Mid\",\"Mid\",\"Mid\",\"Senior\",\"Senior\",\"Mid\",\"Mid\",\"Entry\",\"Entry\",\"Senior\",\"Senior\",\"Senior\",\"Senior\",\"Senior\",\"Senior\",\"Mid\",\"Mid\",\"Senior\",\"Senior\",\"Senior\",\"Senior\",\"Mid\",\"Entry\",\"Senior\",\"Mid\",\"Mid\",\"Entry\",\"Entry\",\"Entry\",\"Senior\",\"Senior\",\"Entry\",\"Entry\",\"Senior\",\"Senior\",\"Senior\",\"Mid\",\"Senior\",\"Senior\",\"Senior\",\"Senior\",\"Senior\",\"Senior\",\"Senior\",\"Senior\",\"Entry\",\"Mid\",\"Mid\",\"Mid\",\"Mid\",\"Mid\",\"Mid\",\"Senior\",\"Senior\",\"Senior\",\"Senior\",\"Senior\",\"Senior\",\"Senior\",\"Senior\",\"Senior\",\"Senior\",\"Senior\",\"Mid\",\"Mid\",\"Senior\",\"Senior\",\"Mid\",\"Mid\",\"Mid\",\"Mid\",\"Executive\",\"Executive\",\"Mid\",\"Mid\",\"Senior\",\"Senior\",\"Executive\",\"Executive\",\"Senior\",\"Senior\",\"Senior\",\"Senior\",\"Senior\",\"Senior\",\"Senior\",\"Mid\",\"Mid\",\"Senior\",\"Senior\",\"Senior\",\"Senior\",\"Senior\",\"Senior\",\"Senior\",\"Senior\",\"Senior\",\"Mid\",\"Mid\",\"Senior\",\"Senior\",\"Entry\",\"Entry\",\"Senior\",\"Senior\",\"Mid\",\"Senior\",\"Senior\",\"Senior\",\"Senior\",\"Senior\",\"Senior\",\"Senior\",\"Senior\",\"Mid\",\"Mid\",\"Senior\",\"Senior\",\"Senior\",\"Senior\",\"Mid\",\"Senior\",\"Senior\",\"Senior\",\"Senior\",\"Executive\",\"Executive\",\"Senior\",\"Senior\",\"Mid\",\"Mid\",\"Senior\",\"Senior\",\"Mid\",\"Mid\",\"Senior\",\"Senior\",\"Senior\",\"Senior\",\"Entry\",\"Senior\",\"Senior\",\"Entry\",\"Mid\",\"Mid\",\"Senior\",\"Entry\",\"Entry\",\"Mid\",\"Mid\",\"Entry\",\"Senior\",\"Senior\",\"Senior\",\"Senior\",\"Senior\",\"Senior\",\"Senior\",\"Senior\",\"Senior\",\"Senior\",\"Senior\",\"Senior\",\"Senior\",\"Senior\",\"Senior\",\"Senior\",\"Senior\",\"Senior\",\"Senior\",\"Senior\",\"Senior\",\"Mid\",\"Mid\",\"Mid\",\"Mid\",\"Mid\",\"Mid\",\"Mid\",\"Mid\",\"Mid\",\"Senior\",\"Senior\",\"Senior\",\"Senior\",\"Senior\",\"Senior\",\"Senior\",\"Mid\",\"Mid\",\"Mid\",\"Senior\",\"Senior\",\"Senior\",\"Senior\",\"Senior\",\"Senior\",\"Senior\",\"Senior\",\"Senior\",\"Senior\",\"Senior\",\"Senior\",\"Senior\",\"Mid\",\"Mid\",\"Mid\",\"Mid\",\"Senior\",\"Senior\",\"Mid\",\"Senior\",\"Senior\",\"Entry\",\"Senior\",\"Senior\",\"Senior\",\"Senior\",\"Mid\",\"Senior\",\"Senior\",\"Senior\",\"Senior\",\"Senior\",\"Mid\",\"Mid\",\"Senior\",\"Senior\",\"Mid\",\"Mid\",\"Mid\",\"Mid\",\"Senior\",\"Senior\",\"Senior\",\"Senior\",\"Senior\",\"Senior\",\"Senior\",\"Senior\",\"Senior\",\"Mid\",\"Entry\",\"Entry\",\"Senior\",\"Mid\",\"Mid\",\"Senior\",\"Senior\",\"Mid\",\"Senior\",\"Senior\",\"Senior\",\"Senior\",\"Senior\",\"Entry\",\"Senior\",\"Senior\",\"Mid\",\"Senior\",\"Senior\",\"Mid\",\"Mid\",\"Senior\",\"Senior\",\"Senior\",\"Senior\",\"Senior\",\"Senior\",\"Entry\",\"Mid\",\"Mid\",\"Mid\",\"Senior\",\"Senior\",\"Mid\",\"Mid\",\"Senior\",\"Senior\",\"Senior\",\"Entry\",\"Mid\",\"Mid\",\"Mid\",\"Senior\",\"Senior\",\"Senior\",\"Senior\",\"Mid\",\"Mid\",\"Senior\",\"Senior\",\"Senior\",\"Senior\",\"Senior\",\"Mid\",\"Mid\",\"Senior\",\"Senior\",\"Senior\",\"Senior\",\"Senior\",\"Senior\",\"Senior\",\"Mid\",\"Senior\",\"Senior\",\"Mid\",\"Entry\",\"Senior\",\"Senior\",\"Senior\",\"Senior\",\"Senior\",\"Senior\",\"Senior\",\"Senior\",\"Senior\",\"Senior\",\"Senior\",\"Senior\",\"Mid\",\"Senior\",\"Senior\",\"Senior\",\"Senior\",\"Senior\",\"Entry\",\"Senior\",\"Senior\",\"Senior\",\"Mid\",\"Mid\",\"Senior\",\"Senior\",\"Senior\",\"Senior\",\"Mid\",\"Entry\",\"Entry\",\"Senior\",\"Senior\",\"Senior\",\"Mid\",\"Mid\",\"Senior\",\"Senior\",\"Senior\",\"Senior\",\"Senior\",\"Senior\",\"Senior\",\"Senior\",\"Senior\",\"Senior\",\"Senior\",\"Senior\",\"Mid\",\"Mid\",\"Senior\",\"Senior\",\"Entry\",\"Entry\",\"Senior\",\"Senior\",\"Senior\",\"Senior\",\"Senior\",\"Senior\",\"Mid\",\"Mid\",\"Senior\",\"Executive\",\"Executive\",\"Entry\",\"Entry\",\"Senior\",\"Senior\",\"Senior\",\"Senior\",\"Senior\",\"Senior\",\"Senior\",\"Mid\",\"Entry\",\"Entry\",\"Senior\",\"Senior\",\"Senior\",\"Senior\",\"Senior\",\"Senior\",\"Entry\",\"Senior\",\"Senior\",\"Senior\",\"Senior\",\"Senior\",\"Senior\",\"Senior\",\"Mid\",\"Entry\",\"Senior\",\"Senior\",\"Senior\",\"Mid\",\"Mid\",\"Senior\",\"Senior\",\"Senior\",\"Senior\",\"Senior\",\"Executive\",\"Executive\",\"Mid\",\"Mid\",\"Senior\",\"Senior\",\"Senior\",\"Senior\",\"Senior\",\"Senior\",\"Senior\",\"Senior\",\"Senior\",\"Senior\",\"Mid\",\"Mid\",\"Mid\",\"Mid\",\"Mid\",\"Senior\",\"Senior\",\"Mid\",\"Mid\",\"Senior\",\"Senior\",\"Senior\",\"Senior\",\"Senior\",\"Mid\",\"Mid\",\"Entry\",\"Senior\",\"Entry\",\"Senior\",\"Entry\",\"Mid\",\"Entry\",\"Senior\",\"Mid\",\"Mid\",\"Senior\",\"Senior\",\"Senior\",\"Senior\",\"Senior\",\"Senior\",\"Senior\",\"Senior\",\"Senior\",\"Senior\",\"Senior\",\"Senior\",\"Senior\",\"Senior\",\"Senior\",\"Mid\",\"Mid\",\"Senior\",\"Senior\",\"Senior\",\"Mid\",\"Mid\",\"Mid\",\"Mid\",\"Entry\",\"Senior\",\"Mid\",\"Mid\",\"Mid\",\"Senior\",\"Senior\",\"Senior\",\"Senior\",\"Senior\",\"Mid\",\"Senior\",\"Senior\",\"Executive\",\"Senior\",\"Senior\",\"Senior\",\"Senior\",\"Mid\",\"Senior\",\"Senior\",\"Senior\",\"Senior\",\"Mid\",\"Mid\",\"Mid\",\"Mid\",\"Senior\",\"Senior\",\"Senior\",\"Mid\",\"Entry\",\"Mid\",\"Senior\",\"Senior\",\"Entry\",\"Senior\",\"Senior\",\"Senior\",\"Senior\",\"Senior\",\"Executive\",\"Executive\",\"Senior\",\"Senior\",\"Senior\",\"Senior\",\"Entry\",\"Senior\",\"Senior\",\"Senior\",\"Senior\",\"Senior\",\"Senior\",\"Senior\",\"Senior\",\"Senior\",\"Senior\",\"Senior\",\"Senior\",\"Senior\",\"Entry\",\"Senior\",\"Senior\",\"Senior\",\"Senior\",\"Senior\",\"Senior\",\"Senior\",\"Senior\",\"Senior\",\"Mid\",\"Mid\",\"Mid\",\"Mid\",\"Senior\",\"Senior\",\"Mid\",\"Mid\",\"Entry\",\"Senior\",\"Senior\",\"Entry\",\"Senior\",\"Senior\",\"Senior\",\"Senior\",\"Senior\",\"Mid\",\"Senior\",\"Entry\",\"Senior\",\"Senior\",\"Senior\",\"Senior\",\"Senior\",\"Entry\",\"Senior\",\"Senior\",\"Senior\",\"Senior\",\"Executive\",\"Executive\",\"Mid\",\"Senior\",\"Senior\",\"Executive\",\"Executive\",\"Entry\",\"Senior\",\"Entry\",\"Entry\",\"Senior\",\"Senior\",\"Senior\",\"Mid\",\"Mid\",\"Senior\",\"Senior\",\"Entry\",\"Mid\",\"Senior\",\"Senior\",\"Mid\",\"Entry\",\"Senior\",\"Senior\",\"Senior\",\"Senior\",\"Mid\",\"Mid\",\"Mid\",\"Mid\",\"Mid\",\"Mid\",\"Mid\",\"Senior\",\"Senior\",\"Senior\",\"Senior\",\"Senior\",\"Entry\",\"Senior\",\"Senior\",\"Entry\",\"Entry\",\"Executive\",\"Executive\",\"Executive\",\"Senior\",\"Senior\",\"Senior\",\"Senior\",\"Mid\",\"Mid\",\"Entry\",\"Senior\",\"Mid\",\"Mid\",\"Senior\",\"Mid\",\"Mid\",\"Senior\",\"Mid\",\"Senior\",\"Senior\",\"Senior\",\"Mid\",\"Senior\",\"Senior\",\"Mid\",\"Mid\",\"Mid\",\"Senior\",\"Senior\",\"Senior\",\"Senior\",\"Senior\",\"Senior\",\"Senior\",\"Senior\",\"Senior\",\"Mid\",\"Entry\",\"Entry\",\"Mid\",\"Senior\",\"Senior\",\"Mid\",\"Mid\",\"Executive\",\"Executive\",\"Senior\",\"Senior\",\"Mid\",\"Mid\",\"Senior\",\"Senior\",\"Senior\",\"Senior\",\"Senior\",\"Senior\",\"Senior\",\"Senior\",\"Senior\",\"Senior\",\"Senior\",\"Senior\",\"Senior\",\"Senior\",\"Senior\",\"Entry\",\"Senior\",\"Senior\",\"Senior\",\"Senior\",\"Senior\",\"Senior\",\"Senior\",\"Mid\",\"Senior\",\"Senior\",\"Entry\",\"Entry\",\"Mid\",\"Senior\",\"Senior\",\"Senior\",\"Senior\",\"Senior\",\"Senior\",\"Mid\",\"Senior\",\"Entry\",\"Mid\",\"Mid\",\"Senior\",\"Mid\",\"Mid\",\"Senior\",\"Senior\",\"Entry\",\"Mid\",\"Entry\",\"Senior\",\"Executive\",\"Mid\",\"Senior\",\"Executive\",\"Executive\",\"Entry\",\"Mid\",\"Senior\",\"Entry\",\"Mid\",\"Senior\",\"Senior\",\"Mid\",\"Mid\",\"Entry\",\"Senior\",\"Senior\",\"Senior\",\"Senior\",\"Senior\",\"Entry\",\"Entry\",\"Mid\",\"Mid\",\"Mid\",\"Senior\",\"Senior\",\"Mid\",\"Senior\",\"Senior\",\"Senior\",\"Senior\",\"Senior\",\"Senior\",\"Mid\",\"Mid\",\"Entry\",\"Entry\",\"Senior\",\"Mid\",\"Mid\",\"Mid\",\"Entry\",\"Mid\",\"Senior\",\"Senior\",\"Mid\",\"Entry\",\"Entry\",\"Senior\",\"Entry\",\"Senior\",\"Senior\",\"Senior\",\"Senior\",\"Senior\",\"Senior\",\"Senior\",\"Senior\",\"Mid\",\"Mid\",\"Mid\",\"Mid\",\"Mid\",\"Senior\",\"Senior\",\"Entry\",\"Senior\",\"Senior\",\"Senior\",\"Mid\",\"Senior\",\"Senior\",\"Senior\",\"Mid\",\"Executive\",\"Senior\",\"Senior\",\"Senior\",\"Senior\",\"Senior\",\"Senior\",\"Executive\",\"Entry\",\"Senior\",\"Senior\",\"Mid\",\"Mid\",\"Mid\",\"Mid\",\"Mid\",\"Mid\",\"Senior\",\"Mid\",\"Mid\",\"Senior\",\"Mid\",\"Mid\",\"Mid\",\"Mid\",\"Mid\",\"Senior\",\"Mid\",\"Mid\",\"Mid\",\"Mid\",\"Mid\",\"Mid\",\"Senior\",\"Mid\",\"Senior\",\"Senior\",\"Executive\",\"Mid\",\"Mid\",\"Mid\",\"Senior\",\"Senior\",\"Senior\",\"Senior\",\"Senior\",\"Senior\",\"Senior\",\"Mid\",\"Mid\",\"Senior\",\"Senior\",\"Senior\",\"Senior\",\"Senior\",\"Senior\",\"Senior\",\"Senior\",\"Entry\",\"Executive\",\"Executive\",\"Senior\",\"Senior\",\"Senior\",\"Senior\",\"Senior\",\"Senior\",\"Senior\",\"Senior\",\"Senior\",\"Senior\",\"Senior\",\"Senior\",\"Senior\",\"Senior\",\"Mid\",\"Mid\",\"Senior\",\"Senior\",\"Senior\",\"Senior\",\"Senior\",\"Executive\",\"Executive\",\"Executive\",\"Executive\",\"Senior\",\"Senior\",\"Senior\",\"Senior\",\"Senior\",\"Senior\",\"Senior\",\"Senior\",\"Senior\",\"Senior\",\"Senior\",\"Senior\",\"Senior\",\"Mid\",\"Mid\",\"Senior\",\"Senior\",\"Senior\",\"Senior\",\"Mid\",\"Mid\",\"Mid\",\"Mid\",\"Senior\",\"Mid\",\"Mid\",\"Senior\",\"Senior\",\"Senior\",\"Senior\",\"Entry\",\"Entry\",\"Senior\",\"Senior\",\"Senior\",\"Senior\",\"Senior\",\"Mid\",\"Mid\",\"Mid\",\"Mid\",\"Senior\",\"Mid\",\"Senior\",\"Senior\",\"Executive\",\"Executive\",\"Senior\",\"Senior\",\"Mid\",\"Senior\",\"Executive\",\"Mid\",\"Mid\",\"Mid\",\"Mid\",\"Mid\",\"Entry\",\"Mid\",\"Mid\",\"Mid\",\"Entry\",\"Senior\",\"Mid\",\"Mid\",\"Mid\",\"Senior\",\"Senior\",\"Entry\",\"Mid\",\"Entry\",\"Mid\",\"Senior\",\"Entry\",\"Senior\",\"Entry\",\"Mid\",\"Senior\",\"Senior\",\"Mid\",\"Mid\",\"Mid\",\"Entry\",\"Mid\",\"Entry\",\"Mid\",\"Senior\",\"Entry\",\"Mid\",\"Senior\",\"Senior\",\"Senior\",\"Mid\",\"Entry\",\"Senior\",\"Mid\",\"Senior\",\"Mid\",\"Mid\",\"Entry\",\"Senior\",\"Mid\",\"Mid\",\"Entry\",\"Mid\",\"Mid\",\"Entry\",\"Entry\",\"Senior\",\"Senior\",\"Senior\",\"Mid\",\"Entry\",\"Mid\",\"Entry\",\"Senior\",\"Entry\",\"Senior\",\"Entry\",\"Entry\",\"Senior\",\"Entry\",\"Entry\",\"Entry\",\"Senior\",\"Mid\",\"Mid\",\"Entry\",\"Mid\",\"Senior\",\"Mid\",\"Mid\",\"Mid\",\"Mid\",\"Mid\",\"Entry\",\"Executive\",\"Entry\",\"Entry\",\"Executive\",\"Entry\",\"Senior\",\"Executive\",\"Executive\",\"Entry\",\"Senior\",\"Mid\",\"Mid\",\"Mid\",\"Senior\",\"Senior\",\"Mid\",\"Mid\",\"Mid\",\"Senior\",\"Mid\",\"Entry\",\"Entry\",\"Mid\",\"Mid\",\"Mid\",\"Mid\",\"Executive\",\"Mid\",\"Mid\",\"Entry\",\"Entry\",\"Entry\",\"Senior\",\"Entry\",\"Mid\",\"Senior\",\"Senior\",\"Entry\",\"Mid\",\"Mid\",\"Senior\",\"Executive\",\"Executive\",\"Executive\",\"Entry\",\"Entry\",\"Mid\",\"Senior\",\"Senior\",\"Senior\",\"Senior\",\"Entry\",\"Senior\",\"Senior\",\"Mid\",\"Mid\",\"Mid\",\"Mid\",\"Mid\",\"Entry\",\"Mid\",\"Entry\",\"Mid\",\"Mid\",\"Entry\",\"Senior\",\"Senior\",\"Senior\",\"Mid\",\"Senior\",\"Mid\",\"Entry\",\"Senior\",\"Entry\",\"Mid\",\"Senior\",\"Senior\",\"Senior\",\"Entry\",\"Mid\",\"Entry\",\"Senior\",\"Senior\",\"Mid\",\"Senior\",\"Entry\",\"Entry\",\"Mid\",\"Mid\",\"Senior\",\"Mid\",\"Mid\",\"Senior\",\"Senior\",\"Senior\",\"Senior\",\"Mid\",\"Mid\",\"Entry\",\"Senior\",\"Mid\",\"Entry\",\"Mid\",\"Senior\",\"Senior\",\"Senior\",\"Entry\",\"Entry\",\"Senior\",\"Entry\",\"Entry\",\"Senior\",\"Entry\",\"Entry\",\"Mid\",\"Mid\",\"Mid\",\"Senior\",\"Mid\",\"Senior\",\"Mid\",\"Senior\",\"Senior\",\"Executive\",\"Entry\",\"Senior\",\"Mid\",\"Senior\",\"Entry\",\"Senior\",\"Senior\",\"Mid\",\"Senior\",\"Senior\",\"Mid\",\"Entry\",\"Senior\",\"Entry\",\"Mid\",\"Executive\",\"Senior\",\"Entry\",\"Mid\",\"Mid\",\"Mid\",\"Mid\",\"Entry\",\"Mid\",\"Entry\",\"Mid\",\"Senior\",\"Mid\",\"Mid\",\"Executive\",\"Senior\",\"Mid\",\"Mid\",\"Mid\",\"Mid\",\"Entry\",\"Senior\",\"Mid\",\"Mid\",\"Entry\",\"Mid\",\"Senior\",\"Mid\",\"Mid\",\"Mid\",\"Mid\",\"Senior\",\"Mid\",\"Executive\",\"Senior\",\"Entry\",\"Mid\",\"Senior\",\"Mid\",\"Senior\",\"Mid\",\"Senior\",\"Entry\",\"Entry\",\"Mid\",\"Senior\",\"Senior\",\"Senior\",\"Senior\",\"Senior\",\"Mid\",\"Senior\",\"Mid\",\"Senior\",\"Mid\",\"Senior\",\"Entry\",\"Senior\",\"Senior\",\"Mid\",\"Mid\",\"Entry\",\"Senior\",\"Mid\",\"Mid\",\"Senior\",\"Mid\",\"Mid\",\"Mid\",\"Mid\",\"Mid\",\"Senior\",\"Mid\",\"Mid\",\"Mid\",\"Senior\",\"Senior\",\"Mid\",\"Mid\",\"Mid\",\"Senior\",\"Senior\",\"Mid\",\"Entry\",\"Entry\",\"Senior\"],\"y0\":\" \",\"yaxis\":\"y\",\"type\":\"box\"}],                        {\"template\":{\"data\":{\"barpolar\":[{\"marker\":{\"line\":{\"color\":\"white\",\"width\":0.5},\"pattern\":{\"fillmode\":\"overlay\",\"size\":10,\"solidity\":0.2}},\"type\":\"barpolar\"}],\"bar\":[{\"error_x\":{\"color\":\"#2a3f5f\"},\"error_y\":{\"color\":\"#2a3f5f\"},\"marker\":{\"line\":{\"color\":\"white\",\"width\":0.5},\"pattern\":{\"fillmode\":\"overlay\",\"size\":10,\"solidity\":0.2}},\"type\":\"bar\"}],\"carpet\":[{\"aaxis\":{\"endlinecolor\":\"#2a3f5f\",\"gridcolor\":\"#C8D4E3\",\"linecolor\":\"#C8D4E3\",\"minorgridcolor\":\"#C8D4E3\",\"startlinecolor\":\"#2a3f5f\"},\"baxis\":{\"endlinecolor\":\"#2a3f5f\",\"gridcolor\":\"#C8D4E3\",\"linecolor\":\"#C8D4E3\",\"minorgridcolor\":\"#C8D4E3\",\"startlinecolor\":\"#2a3f5f\"},\"type\":\"carpet\"}],\"choropleth\":[{\"colorbar\":{\"outlinewidth\":0,\"ticks\":\"\"},\"type\":\"choropleth\"}],\"contourcarpet\":[{\"colorbar\":{\"outlinewidth\":0,\"ticks\":\"\"},\"type\":\"contourcarpet\"}],\"contour\":[{\"colorbar\":{\"outlinewidth\":0,\"ticks\":\"\"},\"colorscale\":[[0.0,\"#0d0887\"],[0.1111111111111111,\"#46039f\"],[0.2222222222222222,\"#7201a8\"],[0.3333333333333333,\"#9c179e\"],[0.4444444444444444,\"#bd3786\"],[0.5555555555555556,\"#d8576b\"],[0.6666666666666666,\"#ed7953\"],[0.7777777777777778,\"#fb9f3a\"],[0.8888888888888888,\"#fdca26\"],[1.0,\"#f0f921\"]],\"type\":\"contour\"}],\"heatmapgl\":[{\"colorbar\":{\"outlinewidth\":0,\"ticks\":\"\"},\"colorscale\":[[0.0,\"#0d0887\"],[0.1111111111111111,\"#46039f\"],[0.2222222222222222,\"#7201a8\"],[0.3333333333333333,\"#9c179e\"],[0.4444444444444444,\"#bd3786\"],[0.5555555555555556,\"#d8576b\"],[0.6666666666666666,\"#ed7953\"],[0.7777777777777778,\"#fb9f3a\"],[0.8888888888888888,\"#fdca26\"],[1.0,\"#f0f921\"]],\"type\":\"heatmapgl\"}],\"heatmap\":[{\"colorbar\":{\"outlinewidth\":0,\"ticks\":\"\"},\"colorscale\":[[0.0,\"#0d0887\"],[0.1111111111111111,\"#46039f\"],[0.2222222222222222,\"#7201a8\"],[0.3333333333333333,\"#9c179e\"],[0.4444444444444444,\"#bd3786\"],[0.5555555555555556,\"#d8576b\"],[0.6666666666666666,\"#ed7953\"],[0.7777777777777778,\"#fb9f3a\"],[0.8888888888888888,\"#fdca26\"],[1.0,\"#f0f921\"]],\"type\":\"heatmap\"}],\"histogram2dcontour\":[{\"colorbar\":{\"outlinewidth\":0,\"ticks\":\"\"},\"colorscale\":[[0.0,\"#0d0887\"],[0.1111111111111111,\"#46039f\"],[0.2222222222222222,\"#7201a8\"],[0.3333333333333333,\"#9c179e\"],[0.4444444444444444,\"#bd3786\"],[0.5555555555555556,\"#d8576b\"],[0.6666666666666666,\"#ed7953\"],[0.7777777777777778,\"#fb9f3a\"],[0.8888888888888888,\"#fdca26\"],[1.0,\"#f0f921\"]],\"type\":\"histogram2dcontour\"}],\"histogram2d\":[{\"colorbar\":{\"outlinewidth\":0,\"ticks\":\"\"},\"colorscale\":[[0.0,\"#0d0887\"],[0.1111111111111111,\"#46039f\"],[0.2222222222222222,\"#7201a8\"],[0.3333333333333333,\"#9c179e\"],[0.4444444444444444,\"#bd3786\"],[0.5555555555555556,\"#d8576b\"],[0.6666666666666666,\"#ed7953\"],[0.7777777777777778,\"#fb9f3a\"],[0.8888888888888888,\"#fdca26\"],[1.0,\"#f0f921\"]],\"type\":\"histogram2d\"}],\"histogram\":[{\"marker\":{\"pattern\":{\"fillmode\":\"overlay\",\"size\":10,\"solidity\":0.2}},\"type\":\"histogram\"}],\"mesh3d\":[{\"colorbar\":{\"outlinewidth\":0,\"ticks\":\"\"},\"type\":\"mesh3d\"}],\"parcoords\":[{\"line\":{\"colorbar\":{\"outlinewidth\":0,\"ticks\":\"\"}},\"type\":\"parcoords\"}],\"pie\":[{\"automargin\":true,\"type\":\"pie\"}],\"scatter3d\":[{\"line\":{\"colorbar\":{\"outlinewidth\":0,\"ticks\":\"\"}},\"marker\":{\"colorbar\":{\"outlinewidth\":0,\"ticks\":\"\"}},\"type\":\"scatter3d\"}],\"scattercarpet\":[{\"marker\":{\"colorbar\":{\"outlinewidth\":0,\"ticks\":\"\"}},\"type\":\"scattercarpet\"}],\"scattergeo\":[{\"marker\":{\"colorbar\":{\"outlinewidth\":0,\"ticks\":\"\"}},\"type\":\"scattergeo\"}],\"scattergl\":[{\"marker\":{\"colorbar\":{\"outlinewidth\":0,\"ticks\":\"\"}},\"type\":\"scattergl\"}],\"scattermapbox\":[{\"marker\":{\"colorbar\":{\"outlinewidth\":0,\"ticks\":\"\"}},\"type\":\"scattermapbox\"}],\"scatterpolargl\":[{\"marker\":{\"colorbar\":{\"outlinewidth\":0,\"ticks\":\"\"}},\"type\":\"scatterpolargl\"}],\"scatterpolar\":[{\"marker\":{\"colorbar\":{\"outlinewidth\":0,\"ticks\":\"\"}},\"type\":\"scatterpolar\"}],\"scatter\":[{\"fillpattern\":{\"fillmode\":\"overlay\",\"size\":10,\"solidity\":0.2},\"type\":\"scatter\"}],\"scatterternary\":[{\"marker\":{\"colorbar\":{\"outlinewidth\":0,\"ticks\":\"\"}},\"type\":\"scatterternary\"}],\"surface\":[{\"colorbar\":{\"outlinewidth\":0,\"ticks\":\"\"},\"colorscale\":[[0.0,\"#0d0887\"],[0.1111111111111111,\"#46039f\"],[0.2222222222222222,\"#7201a8\"],[0.3333333333333333,\"#9c179e\"],[0.4444444444444444,\"#bd3786\"],[0.5555555555555556,\"#d8576b\"],[0.6666666666666666,\"#ed7953\"],[0.7777777777777778,\"#fb9f3a\"],[0.8888888888888888,\"#fdca26\"],[1.0,\"#f0f921\"]],\"type\":\"surface\"}],\"table\":[{\"cells\":{\"fill\":{\"color\":\"#EBF0F8\"},\"line\":{\"color\":\"white\"}},\"header\":{\"fill\":{\"color\":\"#C8D4E3\"},\"line\":{\"color\":\"white\"}},\"type\":\"table\"}]},\"layout\":{\"annotationdefaults\":{\"arrowcolor\":\"#2a3f5f\",\"arrowhead\":0,\"arrowwidth\":1},\"autotypenumbers\":\"strict\",\"coloraxis\":{\"colorbar\":{\"outlinewidth\":0,\"ticks\":\"\"}},\"colorscale\":{\"diverging\":[[0,\"#8e0152\"],[0.1,\"#c51b7d\"],[0.2,\"#de77ae\"],[0.3,\"#f1b6da\"],[0.4,\"#fde0ef\"],[0.5,\"#f7f7f7\"],[0.6,\"#e6f5d0\"],[0.7,\"#b8e186\"],[0.8,\"#7fbc41\"],[0.9,\"#4d9221\"],[1,\"#276419\"]],\"sequential\":[[0.0,\"#0d0887\"],[0.1111111111111111,\"#46039f\"],[0.2222222222222222,\"#7201a8\"],[0.3333333333333333,\"#9c179e\"],[0.4444444444444444,\"#bd3786\"],[0.5555555555555556,\"#d8576b\"],[0.6666666666666666,\"#ed7953\"],[0.7777777777777778,\"#fb9f3a\"],[0.8888888888888888,\"#fdca26\"],[1.0,\"#f0f921\"]],\"sequentialminus\":[[0.0,\"#0d0887\"],[0.1111111111111111,\"#46039f\"],[0.2222222222222222,\"#7201a8\"],[0.3333333333333333,\"#9c179e\"],[0.4444444444444444,\"#bd3786\"],[0.5555555555555556,\"#d8576b\"],[0.6666666666666666,\"#ed7953\"],[0.7777777777777778,\"#fb9f3a\"],[0.8888888888888888,\"#fdca26\"],[1.0,\"#f0f921\"]]},\"colorway\":[\"#636efa\",\"#EF553B\",\"#00cc96\",\"#ab63fa\",\"#FFA15A\",\"#19d3f3\",\"#FF6692\",\"#B6E880\",\"#FF97FF\",\"#FECB52\"],\"font\":{\"color\":\"#2a3f5f\"},\"geo\":{\"bgcolor\":\"white\",\"lakecolor\":\"white\",\"landcolor\":\"white\",\"showlakes\":true,\"showland\":true,\"subunitcolor\":\"#C8D4E3\"},\"hoverlabel\":{\"align\":\"left\"},\"hovermode\":\"closest\",\"mapbox\":{\"style\":\"light\"},\"paper_bgcolor\":\"white\",\"plot_bgcolor\":\"white\",\"polar\":{\"angularaxis\":{\"gridcolor\":\"#EBF0F8\",\"linecolor\":\"#EBF0F8\",\"ticks\":\"\"},\"bgcolor\":\"white\",\"radialaxis\":{\"gridcolor\":\"#EBF0F8\",\"linecolor\":\"#EBF0F8\",\"ticks\":\"\"}},\"scene\":{\"xaxis\":{\"backgroundcolor\":\"white\",\"gridcolor\":\"#DFE8F3\",\"gridwidth\":2,\"linecolor\":\"#EBF0F8\",\"showbackground\":true,\"ticks\":\"\",\"zerolinecolor\":\"#EBF0F8\"},\"yaxis\":{\"backgroundcolor\":\"white\",\"gridcolor\":\"#DFE8F3\",\"gridwidth\":2,\"linecolor\":\"#EBF0F8\",\"showbackground\":true,\"ticks\":\"\",\"zerolinecolor\":\"#EBF0F8\"},\"zaxis\":{\"backgroundcolor\":\"white\",\"gridcolor\":\"#DFE8F3\",\"gridwidth\":2,\"linecolor\":\"#EBF0F8\",\"showbackground\":true,\"ticks\":\"\",\"zerolinecolor\":\"#EBF0F8\"}},\"shapedefaults\":{\"line\":{\"color\":\"#2a3f5f\"}},\"ternary\":{\"aaxis\":{\"gridcolor\":\"#DFE8F3\",\"linecolor\":\"#A2B1C6\",\"ticks\":\"\"},\"baxis\":{\"gridcolor\":\"#DFE8F3\",\"linecolor\":\"#A2B1C6\",\"ticks\":\"\"},\"bgcolor\":\"white\",\"caxis\":{\"gridcolor\":\"#DFE8F3\",\"linecolor\":\"#A2B1C6\",\"ticks\":\"\"}},\"title\":{\"x\":0.05},\"xaxis\":{\"automargin\":true,\"gridcolor\":\"#EBF0F8\",\"linecolor\":\"#EBF0F8\",\"ticks\":\"\",\"title\":{\"standoff\":15},\"zerolinecolor\":\"#EBF0F8\",\"zerolinewidth\":2},\"yaxis\":{\"automargin\":true,\"gridcolor\":\"#EBF0F8\",\"linecolor\":\"#EBF0F8\",\"ticks\":\"\",\"title\":{\"standoff\":15},\"zerolinecolor\":\"#EBF0F8\",\"zerolinewidth\":2}}},\"xaxis\":{\"anchor\":\"y\",\"domain\":[0.0,1.0],\"title\":{\"text\":\"Salary in USD\"}},\"yaxis\":{\"anchor\":\"x\",\"domain\":[0.0,1.0],\"title\":{\"text\":\"Experience Level\"},\"tickangle\":-45},\"legend\":{\"tracegroupgap\":0},\"margin\":{\"t\":100,\"l\":80},\"boxmode\":\"group\",\"title\":{\"text\":\"\\u003cb\\u003eBoxplot\\u003cbr\\u003e \\u003csup\\u003e Experience Level by Salary in USD\\u003c\\u002fsup\\u003e\\u003c\\u002fb\\u003e\"},\"showlegend\":false,\"height\":600,\"width\":1000},                        {\"responsive\": true}                    ).then(function(){\n",
              "                            \n",
              "var gd = document.getElementById('6045a562-4612-4be2-8e16-bcd758600dfc');\n",
              "var x = new MutationObserver(function (mutations, observer) {{\n",
              "        var display = window.getComputedStyle(gd).display;\n",
              "        if (!display || display === 'none') {{\n",
              "            console.log([gd, 'removed!']);\n",
              "            Plotly.purge(gd);\n",
              "            observer.disconnect();\n",
              "        }}\n",
              "}});\n",
              "\n",
              "// Listen for the removal of the full notebook cells\n",
              "var notebookContainer = gd.closest('#notebook-container');\n",
              "if (notebookContainer) {{\n",
              "    x.observe(notebookContainer, {childList: true});\n",
              "}}\n",
              "\n",
              "// Listen for the clearing of the current output cell\n",
              "var outputEl = gd.closest('.output');\n",
              "if (outputEl) {{\n",
              "    x.observe(outputEl, {childList: true});\n",
              "}}\n",
              "\n",
              "                        })                };                            </script>        </div>\n",
              "</body>\n",
              "</html>"
            ]
          },
          "metadata": {}
        }
      ]
    },
    {
      "cell_type": "markdown",
      "source": [
        "## 15. Коррелограмма в виде тепловой карты"
      ],
      "metadata": {
        "id": "mXvn3qSH-V-q"
      }
    },
    {
      "cell_type": "code",
      "source": [
        "fig = plt.figure(figsize=(5,5))\n",
        "sns.heatmap(data.corr(), annot = True)\n",
        "plt.show()"
      ],
      "metadata": {
        "colab": {
          "base_uri": "https://localhost:8080/",
          "height": 506
        },
        "id": "ibYEScAk-XhL",
        "outputId": "3d300dfe-32a7-4981-87bc-e224f4a87029"
      },
      "execution_count": null,
      "outputs": [
        {
          "output_type": "stream",
          "name": "stderr",
          "text": [
            "<ipython-input-86-35bf3a1296af>:2: FutureWarning: The default value of numeric_only in DataFrame.corr is deprecated. In a future version, it will default to False. Select only valid columns or specify the value of numeric_only to silence this warning.\n",
            "  sns.heatmap(data.corr(), annot = True)\n"
          ]
        },
        {
          "output_type": "display_data",
          "data": {
            "text/plain": [
              "<Figure size 500x500 with 2 Axes>"
            ],
            "image/png": "[encoded data removed]"
          },
          "metadata": {}
        }
      ]
    },
    {
      "cell_type": "markdown",
      "source": [
        "**Вывод:** \\\n",
        "* Незначительная пложительная корреляция между зарплатой и годом (с течением времени зарплаты увеличиваются)\n",
        "\n",
        "\n",
        "\n"
      ],
      "metadata": {
        "id": "1TRwLg2T-X76"
      }
    },
    {
      "cell_type": "markdown",
      "source": [
        "## 16. Диаграмма рассеяния"
      ],
      "metadata": {
        "id": "MB2r3yZP-Ysi"
      }
    },
    {
      "cell_type": "code",
      "source": [
        "scatter_matrix(data, figsize=(8,8))\n",
        "plt.show()"
      ],
      "metadata": {
        "colab": {
          "base_uri": "https://localhost:8080/",
          "height": 724
        },
        "id": "NWuEbPF9-aU2",
        "outputId": "60cde095-af86-475d-e819-9ca83e405d97"
      },
      "execution_count": null,
      "outputs": [
        {
          "output_type": "display_data",
          "data": {
            "text/plain": [
              "<Figure size 800x800 with 9 Axes>"
            ],
            "image/png": "[encoded data removed]"
          },
          "metadata": {}
        }
      ]
    }
  ]
}