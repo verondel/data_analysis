{
  "nbformat": 4,
  "nbformat_minor": 0,
  "metadata": {
    "colab": {
      "provenance": [],
      "toc_visible": true,
      "authorship_tag": "ABX9TyMluKlb7n0XzXBM0TZTt+2d",
      "include_colab_link": true
    },
    "kernelspec": {
      "name": "python3",
      "display_name": "Python 3"
    },
    "language_info": {
      "name": "python"
    }
  },
  "cells": [
    {
      "cell_type": "markdown",
      "metadata": {
        "id": "view-in-github",
        "colab_type": "text"
      },
      "source": [
        "<a href=\"https://colab.research.google.com/github/verondel/data_analysis/blob/main/hw_8.ipynb\" target=\"_parent\"><img src=\"https://colab.research.google.com/assets/colab-badge.svg\" alt=\"Open In Colab\"/></a>"
      ]
    },
    {
      "cell_type": "markdown",
      "source": [
        "# Задание 8. Нелинейные модели для классификации. Выбор лучшей модели для классификации. Построение программного конвеера"
      ],
      "metadata": {
        "id": "StDHO7n9ppbE"
      }
    },
    {
      "cell_type": "code",
      "source": [
        "import os\n",
        "import numpy as np\n",
        "import pandas as pd\n",
        "from sklearn.preprocessing import LabelEncoder\n",
        "from sklearn.model_selection import KFold\n",
        "\n",
        "from sklearn.neighbors import KNeighborsClassifier\n",
        "from sklearn.model_selection import cross_val_score\n",
        "from sklearn.metrics import make_scorer, f1_score\n",
        "\n",
        "from sklearn.linear_model import LogisticRegression\n",
        "from sklearn.svm import SVC\n",
        "from sklearn.discriminant_analysis import LinearDiscriminantAnalysis\n",
        "from sklearn.neighbors import KNeighborsClassifier\n",
        "from sklearn.naive_bayes import GaussianNB\n",
        "from sklearn.tree import DecisionTreeClassifier\n",
        "import matplotlib.pyplot as plt"
      ],
      "metadata": {
        "id": "by9Tdu-MNT2k"
      },
      "execution_count": null,
      "outputs": []
    },
    {
      "cell_type": "markdown",
      "source": [
        "## 1-3"
      ],
      "metadata": {
        "id": "ptf8hJ8MD1LR"
      }
    },
    {
      "cell_type": "code",
      "source": [
        "from google.colab import drive\n",
        "drive.mount('/content/drive')"
      ],
      "metadata": {
        "colab": {
          "base_uri": "https://localhost:8080/"
        },
        "id": "SrOZlWh-6bk8",
        "outputId": "cf0df100-607a-4a1a-d563-199881292331"
      },
      "execution_count": null,
      "outputs": [
        {
          "output_type": "stream",
          "name": "stdout",
          "text": [
            "Mounted at /content/drive\n"
          ]
        }
      ]
    },
    {
      "cell_type": "code",
      "source": [
        "os.chdir(\"/content/drive/MyDrive/sem5_python/data/my\")"
      ],
      "metadata": {
        "id": "Tv_CnfL7D2bh"
      },
      "execution_count": null,
      "outputs": []
    },
    {
      "cell_type": "code",
      "source": [
        "df = pd.read_csv('ObesityDataSet.csv')"
      ],
      "metadata": {
        "id": "SwQJpHukEMXs"
      },
      "execution_count": null,
      "outputs": []
    },
    {
      "cell_type": "markdown",
      "source": [
        "[сслыка на датасет](https://www.kaggle.com/code/khsamaha/obesity-eda-xgboost-py)\n",
        "\n",
        "1. `Gender`: Пол (женский, мужской).\n",
        "2. `Age`: Возраст.\n",
        "3. `Height`: Рост.\n",
        "4. `Weight`: Вес.\n",
        "5. `family_history_with_overweight`: Семейная история ожирения (да, нет).\n",
        "6. `FAVC`: Частое употребление калорийной пищи (да, нет).\n",
        "7. `FCVC`: Частота употребления овощей (шкала от 1 до 3).\n",
        "8. `NCP`: Количество основных приемов пищи (шкала от 1 до 4).\n",
        "9. `CAEC`: Употребление пищи между основными приемами (никогда, иногда, часто, всегда).\n",
        "10. `SMOKE`: Курение (да, нет).\n",
        "11. `CH2O`: Употребление воды (шкала от 1 до 3).\n",
        "12. `SCC`: Контроль калорийного содержания (да, нет).\n",
        "13. `FAF`: Частота физической активности (шкала от 0 до 3).\n",
        "14. `TUE`: Время, проведенное перед экранами (шкала от 0 до 2).\n",
        "15. `CALC`: Употребление алкоголя (никогда, иногда, часто, всегда).\n",
        "16. `MTRANS`: Средство передвижения (Автомобиль, Мотоцикл, Велосипед, Пешком, Общественный транспорт).\n",
        "17. `NObeyesdad`: Уровень ожирения (несколько категорий)."
      ],
      "metadata": {
        "id": "8LcJxt2p3DLM"
      }
    },
    {
      "cell_type": "code",
      "source": [
        "df.head()"
      ],
      "metadata": {
        "id": "YauDa6atJRet",
        "colab": {
          "base_uri": "https://localhost:8080/",
          "height": 206
        },
        "outputId": "1a3faf79-65dc-45f3-bd13-5a8557b40edb"
      },
      "execution_count": null,
      "outputs": [
        {
          "output_type": "execute_result",
          "data": {
            "text/plain": [
              "   Gender   Age  Height  Weight family_history_with_overweight FAVC  FCVC  \\\n",
              "0  Female  21.0    1.62    64.0                            yes   no   2.0   \n",
              "1  Female  21.0    1.52    56.0                            yes   no   3.0   \n",
              "2    Male  23.0    1.80    77.0                            yes   no   2.0   \n",
              "3    Male  27.0    1.80    87.0                             no   no   3.0   \n",
              "4    Male  22.0    1.78    89.8                             no   no   2.0   \n",
              "\n",
              "   NCP       CAEC SMOKE  CH2O  SCC  FAF  TUE        CALC  \\\n",
              "0  3.0  Sometimes    no   2.0   no  0.0  1.0          no   \n",
              "1  3.0  Sometimes   yes   3.0  yes  3.0  0.0   Sometimes   \n",
              "2  3.0  Sometimes    no   2.0   no  2.0  1.0  Frequently   \n",
              "3  3.0  Sometimes    no   2.0   no  2.0  0.0  Frequently   \n",
              "4  1.0  Sometimes    no   2.0   no  0.0  0.0   Sometimes   \n",
              "\n",
              "                  MTRANS           NObeyesdad  \n",
              "0  Public_Transportation        Normal_Weight  \n",
              "1  Public_Transportation        Normal_Weight  \n",
              "2  Public_Transportation        Normal_Weight  \n",
              "3                Walking   Overweight_Level_I  \n",
              "4  Public_Transportation  Overweight_Level_II  "
            ],
            "text/html": [
              "\n",
              "  <div id=\"df-c991b8e9-1cce-45ca-a0a0-1cbd1fcc4980\" class=\"colab-df-container\">\n",
              "    <div>\n",
              "<style scoped>\n",
              "    .dataframe tbody tr th:only-of-type {\n",
              "        vertical-align: middle;\n",
              "    }\n",
              "\n",
              "    .dataframe tbody tr th {\n",
              "        vertical-align: top;\n",
              "    }\n",
              "\n",
              "    .dataframe thead th {\n",
              "        text-align: right;\n",
              "    }\n",
              "</style>\n",
              "<table border=\"1\" class=\"dataframe\">\n",
              "  <thead>\n",
              "    <tr style=\"text-align: right;\">\n",
              "      <th></th>\n",
              "      <th>Gender</th>\n",
              "      <th>Age</th>\n",
              "      <th>Height</th>\n",
              "      <th>Weight</th>\n",
              "      <th>family_history_with_overweight</th>\n",
              "      <th>FAVC</th>\n",
              "      <th>FCVC</th>\n",
              "      <th>NCP</th>\n",
              "      <th>CAEC</th>\n",
              "      <th>SMOKE</th>\n",
              "      <th>CH2O</th>\n",
              "      <th>SCC</th>\n",
              "      <th>FAF</th>\n",
              "      <th>TUE</th>\n",
              "      <th>CALC</th>\n",
              "      <th>MTRANS</th>\n",
              "      <th>NObeyesdad</th>\n",
              "    </tr>\n",
              "  </thead>\n",
              "  <tbody>\n",
              "    <tr>\n",
              "      <th>0</th>\n",
              "      <td>Female</td>\n",
              "      <td>21.0</td>\n",
              "      <td>1.62</td>\n",
              "      <td>64.0</td>\n",
              "      <td>yes</td>\n",
              "      <td>no</td>\n",
              "      <td>2.0</td>\n",
              "      <td>3.0</td>\n",
              "      <td>Sometimes</td>\n",
              "      <td>no</td>\n",
              "      <td>2.0</td>\n",
              "      <td>no</td>\n",
              "      <td>0.0</td>\n",
              "      <td>1.0</td>\n",
              "      <td>no</td>\n",
              "      <td>Public_Transportation</td>\n",
              "      <td>Normal_Weight</td>\n",
              "    </tr>\n",
              "    <tr>\n",
              "      <th>1</th>\n",
              "      <td>Female</td>\n",
              "      <td>21.0</td>\n",
              "      <td>1.52</td>\n",
              "      <td>56.0</td>\n",
              "      <td>yes</td>\n",
              "      <td>no</td>\n",
              "      <td>3.0</td>\n",
              "      <td>3.0</td>\n",
              "      <td>Sometimes</td>\n",
              "      <td>yes</td>\n",
              "      <td>3.0</td>\n",
              "      <td>yes</td>\n",
              "      <td>3.0</td>\n",
              "      <td>0.0</td>\n",
              "      <td>Sometimes</td>\n",
              "      <td>Public_Transportation</td>\n",
              "      <td>Normal_Weight</td>\n",
              "    </tr>\n",
              "    <tr>\n",
              "      <th>2</th>\n",
              "      <td>Male</td>\n",
              "      <td>23.0</td>\n",
              "      <td>1.80</td>\n",
              "      <td>77.0</td>\n",
              "      <td>yes</td>\n",
              "      <td>no</td>\n",
              "      <td>2.0</td>\n",
              "      <td>3.0</td>\n",
              "      <td>Sometimes</td>\n",
              "      <td>no</td>\n",
              "      <td>2.0</td>\n",
              "      <td>no</td>\n",
              "      <td>2.0</td>\n",
              "      <td>1.0</td>\n",
              "      <td>Frequently</td>\n",
              "      <td>Public_Transportation</td>\n",
              "      <td>Normal_Weight</td>\n",
              "    </tr>\n",
              "    <tr>\n",
              "      <th>3</th>\n",
              "      <td>Male</td>\n",
              "      <td>27.0</td>\n",
              "      <td>1.80</td>\n",
              "      <td>87.0</td>\n",
              "      <td>no</td>\n",
              "      <td>no</td>\n",
              "      <td>3.0</td>\n",
              "      <td>3.0</td>\n",
              "      <td>Sometimes</td>\n",
              "      <td>no</td>\n",
              "      <td>2.0</td>\n",
              "      <td>no</td>\n",
              "      <td>2.0</td>\n",
              "      <td>0.0</td>\n",
              "      <td>Frequently</td>\n",
              "      <td>Walking</td>\n",
              "      <td>Overweight_Level_I</td>\n",
              "    </tr>\n",
              "    <tr>\n",
              "      <th>4</th>\n",
              "      <td>Male</td>\n",
              "      <td>22.0</td>\n",
              "      <td>1.78</td>\n",
              "      <td>89.8</td>\n",
              "      <td>no</td>\n",
              "      <td>no</td>\n",
              "      <td>2.0</td>\n",
              "      <td>1.0</td>\n",
              "      <td>Sometimes</td>\n",
              "      <td>no</td>\n",
              "      <td>2.0</td>\n",
              "      <td>no</td>\n",
              "      <td>0.0</td>\n",
              "      <td>0.0</td>\n",
              "      <td>Sometimes</td>\n",
              "      <td>Public_Transportation</td>\n",
              "      <td>Overweight_Level_II</td>\n",
              "    </tr>\n",
              "  </tbody>\n",
              "</table>\n",
              "</div>\n",
              "    <div class=\"colab-df-buttons\">\n",
              "\n",
              "  <div class=\"colab-df-container\">\n",
              "    <button class=\"colab-df-convert\" onclick=\"convertToInteractive('df-c991b8e9-1cce-45ca-a0a0-1cbd1fcc4980')\"\n",
              "            title=\"Convert this dataframe to an interactive table.\"\n",
              "            style=\"display:none;\">\n",
              "\n",
              "  <svg xmlns=\"http://www.w3.org/2000/svg\" height=\"24px\" viewBox=\"0 -960 960 960\">\n",
              "    <path d=\"M120-120v-720h720v720H120Zm60-500h600v-160H180v160Zm220 220h160v-160H400v160Zm0 220h160v-160H400v160ZM180-400h160v-160H180v160Zm440 0h160v-160H620v160ZM180-180h160v-160H180v160Zm440 0h160v-160H620v160Z\"/>\n",
              "  </svg>\n",
              "    </button>\n",
              "\n",
              "  <style>\n",
              "    .colab-df-container {\n",
              "      display:flex;\n",
              "      gap: 12px;\n",
              "    }\n",
              "\n",
              "    .colab-df-convert {\n",
              "      background-color: #E8F0FE;\n",
              "      border: none;\n",
              "      border-radius: 50%;\n",
              "      cursor: pointer;\n",
              "      display: none;\n",
              "      fill: #1967D2;\n",
              "      height: 32px;\n",
              "      padding: 0 0 0 0;\n",
              "      width: 32px;\n",
              "    }\n",
              "\n",
              "    .colab-df-convert:hover {\n",
              "      background-color: #E2EBFA;\n",
              "      box-shadow: 0px 1px 2px rgba(60, 64, 67, 0.3), 0px 1px 3px 1px rgba(60, 64, 67, 0.15);\n",
              "      fill: #174EA6;\n",
              "    }\n",
              "\n",
              "    .colab-df-buttons div {\n",
              "      margin-bottom: 4px;\n",
              "    }\n",
              "\n",
              "    [theme=dark] .colab-df-convert {\n",
              "      background-color: #3B4455;\n",
              "      fill: #D2E3FC;\n",
              "    }\n",
              "\n",
              "    [theme=dark] .colab-df-convert:hover {\n",
              "      background-color: #434B5C;\n",
              "      box-shadow: 0px 1px 3px 1px rgba(0, 0, 0, 0.15);\n",
              "      filter: drop-shadow(0px 1px 2px rgba(0, 0, 0, 0.3));\n",
              "      fill: #FFFFFF;\n",
              "    }\n",
              "  </style>\n",
              "\n",
              "    <script>\n",
              "      const buttonEl =\n",
              "        document.querySelector('#df-c991b8e9-1cce-45ca-a0a0-1cbd1fcc4980 button.colab-df-convert');\n",
              "      buttonEl.style.display =\n",
              "        google.colab.kernel.accessAllowed ? 'block' : 'none';\n",
              "\n",
              "      async function convertToInteractive(key) {\n",
              "        const element = document.querySelector('#df-c991b8e9-1cce-45ca-a0a0-1cbd1fcc4980');\n",
              "        const dataTable =\n",
              "          await google.colab.kernel.invokeFunction('convertToInteractive',\n",
              "                                                    [key], {});\n",
              "        if (!dataTable) return;\n",
              "\n",
              "        const docLinkHtml = 'Like what you see? Visit the ' +\n",
              "          '<a target=\"_blank\" href=https://colab.research.google.com/notebooks/data_table.ipynb>data table notebook</a>'\n",
              "          + ' to learn more about interactive tables.';\n",
              "        element.innerHTML = '';\n",
              "        dataTable['output_type'] = 'display_data';\n",
              "        await google.colab.output.renderOutput(dataTable, element);\n",
              "        const docLink = document.createElement('div');\n",
              "        docLink.innerHTML = docLinkHtml;\n",
              "        element.appendChild(docLink);\n",
              "      }\n",
              "    </script>\n",
              "  </div>\n",
              "\n",
              "\n",
              "<div id=\"df-7c63719f-c1e0-4654-aee2-12e3915181c7\">\n",
              "  <button class=\"colab-df-quickchart\" onclick=\"quickchart('df-7c63719f-c1e0-4654-aee2-12e3915181c7')\"\n",
              "            title=\"Suggest charts\"\n",
              "            style=\"display:none;\">\n",
              "\n",
              "<svg xmlns=\"http://www.w3.org/2000/svg\" height=\"24px\"viewBox=\"0 0 24 24\"\n",
              "     width=\"24px\">\n",
              "    <g>\n",
              "        <path d=\"M19 3H5c-1.1 0-2 .9-2 2v14c0 1.1.9 2 2 2h14c1.1 0 2-.9 2-2V5c0-1.1-.9-2-2-2zM9 17H7v-7h2v7zm4 0h-2V7h2v10zm4 0h-2v-4h2v4z\"/>\n",
              "    </g>\n",
              "</svg>\n",
              "  </button>\n",
              "\n",
              "<style>\n",
              "  .colab-df-quickchart {\n",
              "      --bg-color: #E8F0FE;\n",
              "      --fill-color: #1967D2;\n",
              "      --hover-bg-color: #E2EBFA;\n",
              "      --hover-fill-color: #174EA6;\n",
              "      --disabled-fill-color: #AAA;\n",
              "      --disabled-bg-color: #DDD;\n",
              "  }\n",
              "\n",
              "  [theme=dark] .colab-df-quickchart {\n",
              "      --bg-color: #3B4455;\n",
              "      --fill-color: #D2E3FC;\n",
              "      --hover-bg-color: #434B5C;\n",
              "      --hover-fill-color: #FFFFFF;\n",
              "      --disabled-bg-color: #3B4455;\n",
              "      --disabled-fill-color: #666;\n",
              "  }\n",
              "\n",
              "  .colab-df-quickchart {\n",
              "    background-color: var(--bg-color);\n",
              "    border: none;\n",
              "    border-radius: 50%;\n",
              "    cursor: pointer;\n",
              "    display: none;\n",
              "    fill: var(--fill-color);\n",
              "    height: 32px;\n",
              "    padding: 0;\n",
              "    width: 32px;\n",
              "  }\n",
              "\n",
              "  .colab-df-quickchart:hover {\n",
              "    background-color: var(--hover-bg-color);\n",
              "    box-shadow: 0 1px 2px rgba(60, 64, 67, 0.3), 0 1px 3px 1px rgba(60, 64, 67, 0.15);\n",
              "    fill: var(--button-hover-fill-color);\n",
              "  }\n",
              "\n",
              "  .colab-df-quickchart-complete:disabled,\n",
              "  .colab-df-quickchart-complete:disabled:hover {\n",
              "    background-color: var(--disabled-bg-color);\n",
              "    fill: var(--disabled-fill-color);\n",
              "    box-shadow: none;\n",
              "  }\n",
              "\n",
              "  .colab-df-spinner {\n",
              "    border: 2px solid var(--fill-color);\n",
              "    border-color: transparent;\n",
              "    border-bottom-color: var(--fill-color);\n",
              "    animation:\n",
              "      spin 1s steps(1) infinite;\n",
              "  }\n",
              "\n",
              "  @keyframes spin {\n",
              "    0% {\n",
              "      border-color: transparent;\n",
              "      border-bottom-color: var(--fill-color);\n",
              "      border-left-color: var(--fill-color);\n",
              "    }\n",
              "    20% {\n",
              "      border-color: transparent;\n",
              "      border-left-color: var(--fill-color);\n",
              "      border-top-color: var(--fill-color);\n",
              "    }\n",
              "    30% {\n",
              "      border-color: transparent;\n",
              "      border-left-color: var(--fill-color);\n",
              "      border-top-color: var(--fill-color);\n",
              "      border-right-color: var(--fill-color);\n",
              "    }\n",
              "    40% {\n",
              "      border-color: transparent;\n",
              "      border-right-color: var(--fill-color);\n",
              "      border-top-color: var(--fill-color);\n",
              "    }\n",
              "    60% {\n",
              "      border-color: transparent;\n",
              "      border-right-color: var(--fill-color);\n",
              "    }\n",
              "    80% {\n",
              "      border-color: transparent;\n",
              "      border-right-color: var(--fill-color);\n",
              "      border-bottom-color: var(--fill-color);\n",
              "    }\n",
              "    90% {\n",
              "      border-color: transparent;\n",
              "      border-bottom-color: var(--fill-color);\n",
              "    }\n",
              "  }\n",
              "</style>\n",
              "\n",
              "  <script>\n",
              "    async function quickchart(key) {\n",
              "      const quickchartButtonEl =\n",
              "        document.querySelector('#' + key + ' button');\n",
              "      quickchartButtonEl.disabled = true;  // To prevent multiple clicks.\n",
              "      quickchartButtonEl.classList.add('colab-df-spinner');\n",
              "      try {\n",
              "        const charts = await google.colab.kernel.invokeFunction(\n",
              "            'suggestCharts', [key], {});\n",
              "      } catch (error) {\n",
              "        console.error('Error during call to suggestCharts:', error);\n",
              "      }\n",
              "      quickchartButtonEl.classList.remove('colab-df-spinner');\n",
              "      quickchartButtonEl.classList.add('colab-df-quickchart-complete');\n",
              "    }\n",
              "    (() => {\n",
              "      let quickchartButtonEl =\n",
              "        document.querySelector('#df-7c63719f-c1e0-4654-aee2-12e3915181c7 button');\n",
              "      quickchartButtonEl.style.display =\n",
              "        google.colab.kernel.accessAllowed ? 'block' : 'none';\n",
              "    })();\n",
              "  </script>\n",
              "</div>\n",
              "    </div>\n",
              "  </div>\n"
            ]
          },
          "metadata": {},
          "execution_count": 10
        }
      ]
    },
    {
      "cell_type": "code",
      "source": [
        "array = df.values"
      ],
      "metadata": {
        "id": "TlL9bCR5EPwI"
      },
      "execution_count": null,
      "outputs": []
    },
    {
      "cell_type": "markdown",
      "source": [
        "## 4"
      ],
      "metadata": {
        "id": "VcyB62Gg3nJA"
      }
    },
    {
      "cell_type": "code",
      "source": [
        "# Кодирование категориальных признаков\n",
        "label_encoders = {}\n",
        "categorical_columns = df.select_dtypes(include=['object', 'category']).columns\n",
        "\n",
        "for column in categorical_columns:\n",
        "    label_encoders[column] = LabelEncoder()\n",
        "    df[column] = label_encoders[column].fit_transform(df[column])\n",
        "\n",
        "# Выделение факторных (X) и результативного (Y) признаков\n",
        "X = df.drop('NObeyesdad', axis=1)\n",
        "Y = df['NObeyesdad']\n",
        "\n",
        "# Вывод содержимого переменных X и Y\n",
        "X.head(), Y.head()"
      ],
      "metadata": {
        "colab": {
          "base_uri": "https://localhost:8080/"
        },
        "id": "CcRKWQAt3mrl",
        "outputId": "f9a4094b-d489-4cb1-c95a-118b069c656a"
      },
      "execution_count": null,
      "outputs": [
        {
          "output_type": "execute_result",
          "data": {
            "text/plain": [
              "(   Gender   Age  Height  Weight  family_history_with_overweight  FAVC  FCVC  \\\n",
              " 0       0  21.0    1.62    64.0                               1     0   2.0   \n",
              " 1       0  21.0    1.52    56.0                               1     0   3.0   \n",
              " 2       1  23.0    1.80    77.0                               1     0   2.0   \n",
              " 3       1  27.0    1.80    87.0                               0     0   3.0   \n",
              " 4       1  22.0    1.78    89.8                               0     0   2.0   \n",
              " \n",
              "    NCP  CAEC  SMOKE  CH2O  SCC  FAF  TUE  CALC  MTRANS  \n",
              " 0  3.0     2      0   2.0    0  0.0  1.0     3       3  \n",
              " 1  3.0     2      1   3.0    1  3.0  0.0     2       3  \n",
              " 2  3.0     2      0   2.0    0  2.0  1.0     1       3  \n",
              " 3  3.0     2      0   2.0    0  2.0  0.0     1       4  \n",
              " 4  1.0     2      0   2.0    0  0.0  0.0     2       3  ,\n",
              " 0    1\n",
              " 1    1\n",
              " 2    1\n",
              " 3    5\n",
              " 4    6\n",
              " Name: NObeyesdad, dtype: int64)"
            ]
          },
          "metadata": {},
          "execution_count": 14
        }
      ]
    },
    {
      "cell_type": "markdown",
      "source": [
        "**Вывод**: Задача классификации заключается в предсказании уровня ожирения (NObeyesdad), он будет результативным признаком (Y), а остальные - факторными (X). ​\n",
        "\n",
        "Факторные признаки (X) и результативный признак (Y) преобразованы следующим образом:\n",
        "* **Факторные признаки (X)**: Все категориальные признаки были преобразованы в числовые значения с использованием кодирования метками (Label Encoding). Присутствуют такие признаки, как пол, возраст, рост, вес, история ожирения в семье, частота употребления калорийной пищи и другие.\n",
        "* **Результативный признак (Y)**: Уровень ожирения (NObeyesdad) также был закодирован в числовые значения."
      ],
      "metadata": {
        "id": "9aS0ZXfv3_5B"
      }
    },
    {
      "cell_type": "markdown",
      "source": [
        "## 5-12. KNN"
      ],
      "metadata": {
        "id": "o1H_aodt4S7c"
      }
    },
    {
      "cell_type": "code",
      "source": [
        "# 5. Задание разбиения на фолды\n",
        "n_splits = 10\n",
        "random_state = 7\n",
        "kfold = KFold(n_splits=n_splits, random_state=random_state, shuffle=True)\n",
        "\n",
        "kfold"
      ],
      "metadata": {
        "colab": {
          "base_uri": "https://localhost:8080/"
        },
        "id": "KHCR0lb64Rgq",
        "outputId": "31b0c613-c2ab-4be8-d258-1f7cb135fc7b"
      },
      "execution_count": null,
      "outputs": [
        {
          "output_type": "execute_result",
          "data": {
            "text/plain": [
              "KFold(n_splits=10, random_state=7, shuffle=True)"
            ]
          },
          "metadata": {},
          "execution_count": 16
        }
      ]
    },
    {
      "cell_type": "code",
      "source": [
        "# 6. Создание модели k-NN\n",
        "model_knn = KNeighborsClassifier(n_neighbors=5)"
      ],
      "metadata": {
        "id": "rKixRFmc92IZ"
      },
      "execution_count": null,
      "outputs": []
    },
    {
      "cell_type": "code",
      "source": [
        "# 7. Проведение кросс-валидации\n",
        "results_knn = cross_val_score(model_knn, X, Y, cv=kfold, scoring=make_scorer(f1_score, average='weighted'))\n",
        "\n",
        "# Шаг 8: Вывод среднего значения F-меры\n",
        "mean_f1_score_knn = np.mean(results_knn)\n",
        "std_f1_score_knn = np.std(results_knn)\n",
        "\n",
        "mean_f1_score_knn, std_f1_score_knn"
      ],
      "metadata": {
        "colab": {
          "base_uri": "https://localhost:8080/"
        },
        "id": "4qPSxLo14hM3",
        "outputId": "84fef75a-4606-49ac-dc87-f018b7782b20"
      },
      "execution_count": null,
      "outputs": [
        {
          "output_type": "execute_result",
          "data": {
            "text/plain": [
              "(0.8682403162998489, 0.02046123095041999)"
            ]
          },
          "metadata": {},
          "execution_count": 22
        }
      ]
    },
    {
      "cell_type": "markdown",
      "source": [
        "**Вывод**: Для модели kNN, средняя F-мера составляет приблизительно 0.8682, а стандартное отклонение этой оценки составляет около 0.0205. Это показывает, что модель обеспечивает достаточно высокое качество классификации с учетом баланса между точностью и полнотой. ​"
      ],
      "metadata": {
        "id": "P6NGAJv9_UWJ"
      }
    },
    {
      "cell_type": "code",
      "source": [
        "# 9. Обучение модели k-NN на всех данных\n",
        "model_knn.fit(X, Y)"
      ],
      "metadata": {
        "id": "t8awDDM897HY"
      },
      "execution_count": null,
      "outputs": []
    },
    {
      "cell_type": "code",
      "source": [
        "# 10. Произвольные значения факторных признаков для двух новых наблюдений\n",
        "x_new = np.array([[0, 30, 1.70, 70, 1, 1, 2, 3, 2, 0, 2, 0, 2, 1, 1, 3],\n",
        "                  [1, 25, 1.75, 80, 0, 0, 3, 3, 1, 1, 3, 1, 3, 2, 2, 4]])"
      ],
      "metadata": {
        "id": "TiKEl0x0B4Xf"
      },
      "execution_count": null,
      "outputs": []
    },
    {
      "cell_type": "code",
      "source": [
        "# 11. Прогноз классов для новых наблюдений\n",
        "predicted_classes = model_knn.predict(x_new)\n",
        "\n",
        "# 12. Прогноз вероятности классов для новых наблюдений\n",
        "predicted_probabilities = model_knn.predict_proba(x_new)\n",
        "\n",
        "predicted_classes, predicted_probabilities"
      ],
      "metadata": {
        "colab": {
          "base_uri": "https://localhost:8080/"
        },
        "id": "dT_Gx3pW4zFp",
        "outputId": "6b80b0e0-1b88-4f9f-a80e-01e06d4238e1"
      },
      "execution_count": null,
      "outputs": [
        {
          "output_type": "stream",
          "name": "stderr",
          "text": [
            "/usr/local/lib/python3.10/dist-packages/sklearn/base.py:439: UserWarning: X does not have valid feature names, but KNeighborsClassifier was fitted with feature names\n",
            "  warnings.warn(\n",
            "/usr/local/lib/python3.10/dist-packages/sklearn/base.py:439: UserWarning: X does not have valid feature names, but KNeighborsClassifier was fitted with feature names\n",
            "  warnings.warn(\n"
          ]
        },
        {
          "output_type": "execute_result",
          "data": {
            "text/plain": [
              "(array([5, 6]),\n",
              " array([[0. , 0. , 0. , 0. , 0. , 0.8, 0.2],\n",
              "        [0. , 0. , 0. , 0. , 0. , 0.4, 0.6]]))"
            ]
          },
          "metadata": {},
          "execution_count": 19
        }
      ]
    },
    {
      "cell_type": "code",
      "source": [
        "original_category_5 = label_encoders['NObeyesdad'].inverse_transform([5])\n",
        "original_category_6 = label_encoders['NObeyesdad'].inverse_transform([6])\n",
        "original_categories = {5: original_category_5[0], 6: original_category_6[0]}\n",
        "original_categories"
      ],
      "metadata": {
        "colab": {
          "base_uri": "https://localhost:8080/"
        },
        "id": "wXNjYajWBAg1",
        "outputId": "bfec9ecc-ee1f-4ccd-fac4-927d62a733d8"
      },
      "execution_count": null,
      "outputs": [
        {
          "output_type": "execute_result",
          "data": {
            "text/plain": [
              "{5: 'Overweight_Level_I', 6: 'Overweight_Level_II'}"
            ]
          },
          "metadata": {},
          "execution_count": 25
        }
      ]
    },
    {
      "cell_type": "markdown",
      "source": [
        "**Вывод**:\n",
        "* Для первого наблюдения вероятности: 80% для класса `Overweight_Level_I` и 20% для класса `Overweight_Level_II`.\n",
        "* Для второго наблюдения вероятности: 40% для класса `Overweight_Level_I` и 60% для класса `Overweight_Level_II`."
      ],
      "metadata": {
        "id": "VnS0A0ENAKgt"
      }
    },
    {
      "cell_type": "markdown",
      "source": [
        "## 13-19. naive_bayes"
      ],
      "metadata": {
        "id": "L0_896JmCoqi"
      }
    },
    {
      "cell_type": "code",
      "source": [
        "from sklearn.naive_bayes import GaussianNB\n",
        "from sklearn.naive_bayes import MultinomialNB\n",
        "from scipy import stats\n",
        "\n",
        "# Шаг 13: Оценка нормальности распределения факторных признаков\n",
        "normality_assessment = {column: stats.shapiro(df[column])[1] for column in df.columns[:-1]}\n",
        "\n",
        "normality_assessment"
      ],
      "metadata": {
        "colab": {
          "base_uri": "https://localhost:8080/"
        },
        "id": "D14S0E4hAUut",
        "outputId": "655f6be0-14ad-4606-c485-94ebeee0d328"
      },
      "execution_count": null,
      "outputs": [
        {
          "output_type": "execute_result",
          "data": {
            "text/plain": [
              "{'Gender': 0.0,\n",
              " 'Age': 3.519136885397486e-39,\n",
              " 'Height': 2.7788857437371917e-08,\n",
              " 'Weight': 3.766832030646535e-18,\n",
              " 'family_history_with_overweight': 0.0,\n",
              " 'FAVC': 0.0,\n",
              " 'FCVC': 2.437698808539452e-41,\n",
              " 'NCP': 0.0,\n",
              " 'CAEC': 0.0,\n",
              " 'SMOKE': 0.0,\n",
              " 'CH2O': 1.1144337199467901e-29,\n",
              " 'SCC': 0.0,\n",
              " 'FAF': 7.707325606470091e-33,\n",
              " 'TUE': 7.3886436768425435e-37,\n",
              " 'CALC': 0.0,\n",
              " 'MTRANS': 0.0}"
            ]
          },
          "metadata": {},
          "execution_count": 35
        }
      ]
    },
    {
      "cell_type": "markdown",
      "source": [
        "**Вывод**: Все значения p-value в normality_assessment равны нулю или очень близки к нему. Это означает, что распределение большинства факторных признаков отличается от нормального распределения. Наивный байесовский классификатор предполагает, что признаки распределены нормально.\n",
        "\n",
        "В данном случае использование Гауссовского наивного байесовского классификатора не совсем целесообразным."
      ],
      "metadata": {
        "id": "yRX92lArEaLx"
      }
    },
    {
      "cell_type": "code",
      "source": [
        "# Создание и обучение модели наивного байесовского классификатора (GaussianNB)\n",
        "# Шаг 14\n",
        "model_nb = GaussianNB()\n",
        "\n",
        "# Шаг 15: Проведение кросс-валидации\n",
        "results_nb = cross_val_score(model_nb, X, Y, cv=kfold, scoring=make_scorer(f1_score, average='weighted'))\n",
        "\n",
        "# Шаг 16: Вывод средней f мере и её стандартного отклонения\n",
        "mean_f1_score_nb = results_nb.mean()\n",
        "std_f1_score_nb = results_nb.std()\n",
        "\n",
        "mean_f1_score_nb, std_f1_score_nb"
      ],
      "metadata": {
        "colab": {
          "base_uri": "https://localhost:8080/"
        },
        "id": "OUPhkp3oCwmV",
        "outputId": "485dd089-e33f-4601-ca1f-2cab2feb28ae"
      },
      "execution_count": null,
      "outputs": [
        {
          "output_type": "execute_result",
          "data": {
            "text/plain": [
              "(0.5802945230429976, 0.03828967149022985)"
            ]
          },
          "metadata": {},
          "execution_count": 30
        }
      ]
    },
    {
      "cell_type": "code",
      "source": [
        "# Создание и обучение модели наивного байесовского классификатора (MultinomialNB)\n",
        "model_nb_m = MultinomialNB()\n",
        "results_nb_m = cross_val_score(model_nb_m, X, Y, cv=kfold, scoring=make_scorer(f1_score, average='weighted'))\n",
        "\n",
        "mean_f1_score_nb_m = results_nb_m.mean()\n",
        "std_f1_score_nb_m = results_nb_m.std()\n",
        "\n",
        "mean_f1_score_nb_m, std_f1_score_nb_m"
      ],
      "metadata": {
        "colab": {
          "base_uri": "https://localhost:8080/"
        },
        "id": "imLN-6L_LNXd",
        "outputId": "65959765-bec4-4b0d-c91b-5861d2189bba"
      },
      "execution_count": null,
      "outputs": [
        {
          "output_type": "execute_result",
          "data": {
            "text/plain": [
              "(0.581016060236317, 0.038164466231444226)"
            ]
          },
          "metadata": {},
          "execution_count": 38
        }
      ]
    },
    {
      "cell_type": "markdown",
      "source": [
        "**Вывод**: Обе модели, GaussianNB и MultinomialNB, показывают схожее качество предсказаний на данном наборе данных. Их значения F1-меры близки друг к другу и имеют небольшие стандартные отклонения, что указывает на стабильность результатов."
      ],
      "metadata": {
        "id": "fBrMO6tMMpkO"
      }
    },
    {
      "cell_type": "code",
      "source": [
        "# Шаг 17: Обучение модели на всех данных\n",
        "model_nb.fit(X, Y)\n",
        "\n",
        "# Шаг 18 и 19: Прогноз классов и вероятности классов для новых наблюдений\n",
        "predicted_classes_nb = model_nb.predict(x_new)\n",
        "predicted_probabilities_nb = model_nb.predict_proba(x_new)\n",
        "\n",
        "predicted_classes_nb, predicted_probabilities_nb"
      ],
      "metadata": {
        "colab": {
          "base_uri": "https://localhost:8080/"
        },
        "id": "UL5jecv7C21F",
        "outputId": "89f594b9-60d9-4b32-b0a6-ab3fd9ee0535"
      },
      "execution_count": null,
      "outputs": [
        {
          "output_type": "stream",
          "name": "stderr",
          "text": [
            "/usr/local/lib/python3.10/dist-packages/sklearn/base.py:439: UserWarning: X does not have valid feature names, but GaussianNB was fitted with feature names\n",
            "  warnings.warn(\n",
            "/usr/local/lib/python3.10/dist-packages/sklearn/base.py:439: UserWarning: X does not have valid feature names, but GaussianNB was fitted with feature names\n",
            "  warnings.warn(\n"
          ]
        },
        {
          "output_type": "execute_result",
          "data": {
            "text/plain": [
              "(array([2, 1]),\n",
              " array([[6.38526201e-007, 1.06936621e-002, 5.30454072e-001,\n",
              "         1.15648017e-037, 0.00000000e+000, 1.52273867e-001,\n",
              "         3.06577760e-001],\n",
              "        [2.30336844e-060, 1.00000000e+000, 1.76366019e-061,\n",
              "         4.65907665e-143, 0.00000000e+000, 9.01790870e-019,\n",
              "         5.13994671e-026]]))"
            ]
          },
          "metadata": {},
          "execution_count": 31
        }
      ]
    },
    {
      "cell_type": "code",
      "source": [
        "original_category_2 = label_encoders['NObeyesdad'].inverse_transform([2])\n",
        "original_category_1 = label_encoders['NObeyesdad'].inverse_transform([1])\n",
        "original_category_2[0], original_category_1[0]"
      ],
      "metadata": {
        "colab": {
          "base_uri": "https://localhost:8080/"
        },
        "id": "-PWbvaHqDYhr",
        "outputId": "6be16f60-5e8d-43df-8612-2963f6df5e49"
      },
      "execution_count": null,
      "outputs": [
        {
          "output_type": "execute_result",
          "data": {
            "text/plain": [
              "('Obesity_Type_I', 'Normal_Weight')"
            ]
          },
          "metadata": {},
          "execution_count": 34
        }
      ]
    },
    {
      "cell_type": "markdown",
      "source": [
        "**Вывод**:\n",
        "* Первое наблюдение было классифицировано как класс `Obesity_Type_I` (53%).\n",
        "* Второе наблюдение было классифицировано как класс `Normal_Weight` (примерно 100%)."
      ],
      "metadata": {
        "id": "QcZ_wPHVPYMz"
      }
    },
    {
      "cell_type": "markdown",
      "source": [
        "## 20-25. DecisionTreeClassifier"
      ],
      "metadata": {
        "id": "bCUcxwQlQhTm"
      }
    },
    {
      "cell_type": "code",
      "source": [
        "from sklearn.tree import DecisionTreeClassifier\n",
        "from sklearn.model_selection import cross_val_score\n",
        "from sklearn.metrics import make_scorer, f1_score\n",
        "\n",
        "# Шаг 20: Построение модели решающего дерева\n",
        "model_dt = DecisionTreeClassifier()\n",
        "\n",
        "# Шаг 21: Проведение кросс-валидации\n",
        "results_dt = cross_val_score(model_dt, X, Y, cv=kfold, scoring=make_scorer(f1_score, average='weighted'))\n",
        "\n",
        "# Шаг 22: Вывод средней доли правильных ответов и стандартного отклонения\n",
        "mean_f1_score_dt = results_dt.mean()\n",
        "std_f1_score_dt = results_dt.std()\n",
        "\n",
        "mean_f1_score_dt, std_f1_score_dt"
      ],
      "metadata": {
        "colab": {
          "base_uri": "https://localhost:8080/"
        },
        "id": "bhl9h7-uDhLw",
        "outputId": "e43a6859-a7df-447f-acb3-3d65a9957e0d"
      },
      "execution_count": null,
      "outputs": [
        {
          "output_type": "execute_result",
          "data": {
            "text/plain": [
              "(0.9383031373730587, 0.014311818785230543)"
            ]
          },
          "metadata": {},
          "execution_count": 39
        }
      ]
    },
    {
      "cell_type": "code",
      "source": [
        "# Шаг 23: Обучение модели решающего дерева на всех данных\n",
        "model_dt.fit(X, Y)\n",
        "\n",
        "# Шаг 24 и 25: Прогноз классов и вероятности классов для новых наблюдений\n",
        "predicted_classes_dt = model_dt.predict(x_new)\n",
        "predicted_probabilities_dt = model_dt.predict_proba(x_new)\n",
        "\n",
        "predicted_classes_dt, predicted_probabilities_dt"
      ],
      "metadata": {
        "colab": {
          "base_uri": "https://localhost:8080/"
        },
        "id": "d7Yr7UZgRA-C",
        "outputId": "e54ac1e2-00c8-4b26-d457-8f1168e5ec0a"
      },
      "execution_count": null,
      "outputs": [
        {
          "output_type": "stream",
          "name": "stderr",
          "text": [
            "/usr/local/lib/python3.10/dist-packages/sklearn/base.py:439: UserWarning: X does not have valid feature names, but DecisionTreeClassifier was fitted with feature names\n",
            "  warnings.warn(\n",
            "/usr/local/lib/python3.10/dist-packages/sklearn/base.py:439: UserWarning: X does not have valid feature names, but DecisionTreeClassifier was fitted with feature names\n",
            "  warnings.warn(\n"
          ]
        },
        {
          "output_type": "execute_result",
          "data": {
            "text/plain": [
              "(array([5, 5]),\n",
              " array([[0., 0., 0., 0., 0., 1., 0.],\n",
              "        [0., 0., 0., 0., 0., 1., 0.]]))"
            ]
          },
          "metadata": {},
          "execution_count": 40
        }
      ]
    },
    {
      "cell_type": "code",
      "source": [
        "original_category_5[0]"
      ],
      "metadata": {
        "colab": {
          "base_uri": "https://localhost:8080/",
          "height": 36
        },
        "id": "xiryZOlsSDWd",
        "outputId": "8154051b-1f2e-4678-a3b3-80ea28234acf"
      },
      "execution_count": null,
      "outputs": [
        {
          "output_type": "execute_result",
          "data": {
            "text/plain": [
              "'Overweight_Level_I'"
            ],
            "application/vnd.google.colaboratory.intrinsic+json": {
              "type": "string"
            }
          },
          "metadata": {},
          "execution_count": 42
        }
      ]
    },
    {
      "cell_type": "markdown",
      "source": [
        "**Вывод**: Оба наблюдения были классифицированы как класс `Obesity_Type_I` со 100% вероятностями"
      ],
      "metadata": {
        "id": "kjYLDYV2SGhG"
      }
    },
    {
      "cell_type": "markdown",
      "source": [
        "## 26-31 Построение программного конвеера"
      ],
      "metadata": {
        "id": "UFD4uZxhTTG3"
      }
    },
    {
      "cell_type": "code",
      "source": [
        "# Шаг 26: Создание пустого списка моделей\n",
        "models = []\n",
        "\n",
        "'''\n",
        "LR – логистическая регрессия – LogisticRegression(solver='liblinear').\n",
        "SVM – линейный метод опорных векторов – SVC(kernel='linear').\n",
        "LDA – линейный дискриминантный анализ – LinearDiscriminantAnalysis().\n",
        "KNN – модель ближайшего соседа – KNeighborsClassifier().\n",
        "NB – наивный байесовский классификатор – GaussianNB().\n",
        "CART – модель решающего дерева – DecisionTreeClassifier().\n",
        "'''\n",
        "\n",
        "# Шаг 27: Добавление моделей в список\n",
        "models.append(('LR', LogisticRegression(solver='liblinear')))\n",
        "models.append(('SVM', SVC(kernel='linear')))\n",
        "models.append(('LDA', LinearDiscriminantAnalysis()))\n",
        "models.append(('KNN', KNeighborsClassifier()))\n",
        "models.append(('NB', GaussianNB()))\n",
        "models.append(('CART', DecisionTreeClassifier()))"
      ],
      "metadata": {
        "id": "J7bW5AhjTTqG"
      },
      "execution_count": null,
      "outputs": []
    },
    {
      "cell_type": "code",
      "source": [
        "# Шаг 28: Создание пустых списков для результатов и названий моделей\n",
        "results = []\n",
        "names = []\n",
        "\n",
        "# Шаг 29: Задание критериев оценки качества моделей\n",
        "scoring = make_scorer(f1_score, average='weighted')\n",
        "\n",
        "# Шаг 30: Оценка моделей\n",
        "for name, model in models:\n",
        "    kfold = KFold(n_splits=10, random_state=7, shuffle=True)\n",
        "    cv_results = cross_val_score(model, X, Y, cv=kfold, scoring=scoring)\n",
        "    results.append(cv_results)\n",
        "    names.append(name)\n",
        "    print(f\"{name}: {cv_results.mean():.4f} ({cv_results.std():.4f})\")\n"
      ],
      "metadata": {
        "colab": {
          "base_uri": "https://localhost:8080/"
        },
        "id": "7ElDaTh0UIgD",
        "outputId": "971041fb-1ef7-4dc1-b1ca-3e209efec2e5"
      },
      "execution_count": null,
      "outputs": [
        {
          "output_type": "stream",
          "name": "stdout",
          "text": [
            "LR: 0.7135 (0.0252)\n",
            "SVM: 0.8759 (0.0201)\n",
            "LDA: 0.8898 (0.0179)\n",
            "KNN: 0.8682 (0.0205)\n",
            "NB: 0.5803 (0.0383)\n",
            "CART: 0.9351 (0.0170)\n"
          ]
        }
      ]
    },
    {
      "cell_type": "code",
      "source": [
        "results_acc = []\n",
        "names_acc = []\n",
        "\n",
        "# Шаг 29: Задание критериев оценки качества моделей\n",
        "scoring = make_scorer(f1_score, average='weighted')\n",
        "\n",
        "# Шаг 30: Оценка моделей\n",
        "for name, model in models:\n",
        "    kfold = KFold(n_splits=10, random_state=7, shuffle=True)\n",
        "    cv_results = cross_val_score(model, X, Y, cv=kfold, scoring=scoring)\n",
        "    results_acc.append(cv_results)\n",
        "    names_acc.append(name)\n",
        "    print(f\"{name}: {cv_results.mean():.4f} ({cv_results.std():.4f})\")"
      ],
      "metadata": {
        "id": "33A0lsXPVwGr"
      },
      "execution_count": null,
      "outputs": []
    },
    {
      "cell_type": "markdown",
      "source": [
        "**Вывод**:\n",
        "Модель решающего дерева (CART) показала лучшие результаты по средней F-мере (0.9364), также у этой модели одно из самых низких стандартных отклонений (0.0178)."
      ],
      "metadata": {
        "id": "WIydUos6TvQK"
      }
    },
    {
      "cell_type": "code",
      "source": [
        "# Шаг 31: Изображение результатов в виде ящика с усами\n",
        "pastel_colors = ['lightblue', 'lightgreen', 'salmon', 'lightcyan', 'plum', 'lightyellow']\n",
        "\n",
        "# Создание и настройка графика\n",
        "plt.figure(figsize=(10, 6))\n",
        "plt.suptitle('Сравнение производительности моделей', fontsize=14)\n",
        "bplot = plt.boxplot(results, labels=names, patch_artist=True, medianprops=dict(color=\"black\"))\n",
        "\n",
        "# Раскрашивание ящиков в пастельные цвета\n",
        "for patch, color in zip(bplot['boxes'], pastel_colors):\n",
        "    patch.set_facecolor(color)\n",
        "\n",
        "plt.grid(True, linestyle='--', alpha=0.6)\n",
        "plt.show()\n",
        "\n"
      ],
      "metadata": {
        "colab": {
          "base_uri": "https://localhost:8080/",
          "height": 577
        },
        "id": "zG1TmYMBUdQj",
        "outputId": "80b8d2aa-c8b1-4327-b1f3-675e0310d393"
      },
      "execution_count": null,
      "outputs": [
        {
          "output_type": "display_data",
          "data": {
            "text/plain": [
              "<Figure size 1000x600 with 1 Axes>"
            ],
            "image/png": "[encoded data removed]"
          },
          "metadata": {}
        }
      ]
    }
  ]
}