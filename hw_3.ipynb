{
  "nbformat": 4,
  "nbformat_minor": 0,
  "metadata": {
    "colab": {
      "provenance": [],
      "collapsed_sections": [
        "s4eXwpCXrv1k"
      ],
      "toc_visible": true,
      "mount_file_id": "1mdiBpu0eGrUSSH4mY0EmrKcr8nyGyCtk",
      "authorship_tag": "ABX9TyPJxDfZiD3nnGIej9qaSxBG",
      "include_colab_link": true
    },
    "kernelspec": {
      "name": "python3",
      "display_name": "Python 3"
    },
    "language_info": {
      "name": "python"
    }
  },
  "cells": [
    {
      "cell_type": "markdown",
      "metadata": {
        "id": "view-in-github",
        "colab_type": "text"
      },
      "source": [
        "<a href=\"https://colab.research.google.com/github/verondel/data_analysis/blob/main/hw_3.ipynb\" target=\"_parent\"><img src=\"https://colab.research.google.com/assets/colab-badge.svg\" alt=\"Open In Colab\"/></a>"
      ]
    },
    {
      "cell_type": "markdown",
      "source": [
        "# Задание 3: Предварительная обработка данных и отбор признаков"
      ],
      "metadata": {
        "id": "1Kxhc6UjrtUY"
      }
    },
    {
      "cell_type": "markdown",
      "source": [
        "## libs"
      ],
      "metadata": {
        "id": "s4eXwpCXrv1k"
      }
    },
    {
      "cell_type": "code",
      "execution_count": null,
      "metadata": {
        "id": "CQ-2qAfPrjwO"
      },
      "outputs": [],
      "source": [
        "import os\n",
        "import pandas as pd\n",
        "import matplotlib.pyplot as plt\n",
        "from pandas import read_csv\n",
        "from numpy import set_printoptions\n",
        "\n",
        "from sklearn.preprocessing import MinMaxScaler\n",
        "from sklearn.preprocessing import StandardScaler\n",
        "from sklearn.preprocessing import Normalizer\n",
        "from sklearn.preprocessing import Binarizer\n",
        "\n",
        "from sklearn.feature_selection import SelectKBest\n",
        "from sklearn.feature_selection import f_classif\n",
        "from sklearn.feature_selection import RFE\n",
        "\n",
        "from sklearn.linear_model import LogisticRegression\n",
        "from sklearn.decomposition import PCA\n",
        "from sklearn.ensemble import ExtraTreesClassifier"
      ]
    },
    {
      "cell_type": "markdown",
      "source": [
        "Датасет:\n",
        "\n",
        "\n",
        "[Heart Attack Analysis & Prediction Dataset](https://www.kaggle.com/datasets/rashikrahmanpritom/heart-attack-analysis-prediction-dataset/data)\n"
      ],
      "metadata": {
        "id": "WjtCpd_8zDhI"
      }
    },
    {
      "cell_type": "markdown",
      "source": [
        "### dataset info"
      ],
      "metadata": {
        "id": "HaB6besc0O5X"
      }
    },
    {
      "cell_type": "markdown",
      "source": [
        "- `age` - Age of the patient\n",
        "- `sex` - Sex of the patient\n",
        "- `cp` - Chest pain type\n",
        "    - ~ 0 = Typical Angina,\n",
        "    - 1 = Atypical Angina,\n",
        "    - 2 = Non-anginal Pain,\n",
        "    - 3 = Asymptomatic\n",
        "- `trtbps` - Resting blood pressure (in mm Hg)\n",
        "- `chol` - Cholestoral in mg/dl fetched via BMI sensor\n",
        "- `fbs` - (fasting blood sugar > 120 mg/dl) ~ 1 = True, 0 = False\n",
        "- `restecg` - Resting electrocardiographic results\n",
        "  - ~ 0 = Normal,\n",
        "  - 1 = ST-T wave normality,\n",
        "  - 2 = Left ventricular hypertrophy\n",
        "- `thalachh` - Maximum heart rate achieved\n",
        "- `oldpeak` - Previous peak\n",
        "- `slp` - Slope\n",
        "- `caa` - Number of major vessels\n",
        "- `thall` - Thalium Stress Test result ~ (0,3)\n",
        "- `exng` - Exercise induced angina ~ 1 = Yes, 0 = No\n",
        "- `output` - Target variable"
      ],
      "metadata": {
        "id": "8l5yIEFYzqzQ"
      }
    },
    {
      "cell_type": "markdown",
      "source": [
        "## функции"
      ],
      "metadata": {
        "id": "zyr_kzcXOpV-"
      }
    },
    {
      "cell_type": "code",
      "source": [
        "def show_hist_diff(data_1, title_1, xlabel_1, data_2, title_2, xlabel_2):\n",
        "  # Строим два графика в одной строке\n",
        "  plt.figure(figsize=(10, 3))\n",
        "\n",
        "  plt.subplot(1, 2, 1)\n",
        "  plt.grid(True)\n",
        "  plt.hist(data_1, bins=10, edgecolor='k', color='#9042f5', alpha=0.7)\n",
        "  plt.title(title_1)\n",
        "  plt.xlabel(xlabel_1)\n",
        "  plt.ylabel(\"Частота\")\n",
        "\n",
        "\n",
        "  plt.subplot(1, 2, 2)\n",
        "  plt.hist(data_2, bins=10, edgecolor='k', color='#f5a442', alpha=0.7)\n",
        "  plt.title(title_2)\n",
        "  plt.xlabel(xlabel_2)\n",
        "  plt.ylabel(\"Частота\")\n",
        "  plt.grid(True)\n",
        "\n",
        "  plt.tight_layout()\n",
        "  plt.show()"
      ],
      "metadata": {
        "id": "BVFGMVdeOrVG"
      },
      "execution_count": null,
      "outputs": []
    },
    {
      "cell_type": "markdown",
      "source": [
        "# Раздел 1"
      ],
      "metadata": {
        "id": "dHXKNTVytlV4"
      }
    },
    {
      "cell_type": "markdown",
      "source": [
        "## 1-2 chdir()"
      ],
      "metadata": {
        "id": "th3W1qHK0UOA"
      }
    },
    {
      "cell_type": "code",
      "source": [
        "os.chdir(\"/content/drive/MyDrive/sem5_python/data\")\n",
        "filename = \"heart.csv\"\n",
        "data = read_csv(filename)\n",
        "data.head()"
      ],
      "metadata": {
        "id": "GuYX3Z03r1tT",
        "colab": {
          "base_uri": "https://localhost:8080/",
          "height": 206
        },
        "outputId": "af2275ae-e5f6-4b93-9a5a-25ecb42ddf80"
      },
      "execution_count": null,
      "outputs": [
        {
          "output_type": "execute_result",
          "data": {
            "text/plain": [
              "   age  sex  cp  trtbps  chol  fbs  restecg  thalachh  exng  oldpeak  slp  \\\n",
              "0   63    1   3     145   233    1        0       150     0      2.3    0   \n",
              "1   37    1   2     130   250    0        1       187     0      3.5    0   \n",
              "2   41    0   1     130   204    0        0       172     0      1.4    2   \n",
              "3   56    1   1     120   236    0        1       178     0      0.8    2   \n",
              "4   57    0   0     120   354    0        1       163     1      0.6    2   \n",
              "\n",
              "   caa  thall  output  \n",
              "0    0      1       1  \n",
              "1    0      2       1  \n",
              "2    0      2       1  \n",
              "3    0      2       1  \n",
              "4    0      2       1  "
            ],
            "text/html": [
              "\n",
              "  <div id=\"df-4768831f-71b3-42ed-b437-b35e00714291\" class=\"colab-df-container\">\n",
              "    <div>\n",
              "<style scoped>\n",
              "    .dataframe tbody tr th:only-of-type {\n",
              "        vertical-align: middle;\n",
              "    }\n",
              "\n",
              "    .dataframe tbody tr th {\n",
              "        vertical-align: top;\n",
              "    }\n",
              "\n",
              "    .dataframe thead th {\n",
              "        text-align: right;\n",
              "    }\n",
              "</style>\n",
              "<table border=\"1\" class=\"dataframe\">\n",
              "  <thead>\n",
              "    <tr style=\"text-align: right;\">\n",
              "      <th></th>\n",
              "      <th>age</th>\n",
              "      <th>sex</th>\n",
              "      <th>cp</th>\n",
              "      <th>trtbps</th>\n",
              "      <th>chol</th>\n",
              "      <th>fbs</th>\n",
              "      <th>restecg</th>\n",
              "      <th>thalachh</th>\n",
              "      <th>exng</th>\n",
              "      <th>oldpeak</th>\n",
              "      <th>slp</th>\n",
              "      <th>caa</th>\n",
              "      <th>thall</th>\n",
              "      <th>output</th>\n",
              "    </tr>\n",
              "  </thead>\n",
              "  <tbody>\n",
              "    <tr>\n",
              "      <th>0</th>\n",
              "      <td>63</td>\n",
              "      <td>1</td>\n",
              "      <td>3</td>\n",
              "      <td>145</td>\n",
              "      <td>233</td>\n",
              "      <td>1</td>\n",
              "      <td>0</td>\n",
              "      <td>150</td>\n",
              "      <td>0</td>\n",
              "      <td>2.3</td>\n",
              "      <td>0</td>\n",
              "      <td>0</td>\n",
              "      <td>1</td>\n",
              "      <td>1</td>\n",
              "    </tr>\n",
              "    <tr>\n",
              "      <th>1</th>\n",
              "      <td>37</td>\n",
              "      <td>1</td>\n",
              "      <td>2</td>\n",
              "      <td>130</td>\n",
              "      <td>250</td>\n",
              "      <td>0</td>\n",
              "      <td>1</td>\n",
              "      <td>187</td>\n",
              "      <td>0</td>\n",
              "      <td>3.5</td>\n",
              "      <td>0</td>\n",
              "      <td>0</td>\n",
              "      <td>2</td>\n",
              "      <td>1</td>\n",
              "    </tr>\n",
              "    <tr>\n",
              "      <th>2</th>\n",
              "      <td>41</td>\n",
              "      <td>0</td>\n",
              "      <td>1</td>\n",
              "      <td>130</td>\n",
              "      <td>204</td>\n",
              "      <td>0</td>\n",
              "      <td>0</td>\n",
              "      <td>172</td>\n",
              "      <td>0</td>\n",
              "      <td>1.4</td>\n",
              "      <td>2</td>\n",
              "      <td>0</td>\n",
              "      <td>2</td>\n",
              "      <td>1</td>\n",
              "    </tr>\n",
              "    <tr>\n",
              "      <th>3</th>\n",
              "      <td>56</td>\n",
              "      <td>1</td>\n",
              "      <td>1</td>\n",
              "      <td>120</td>\n",
              "      <td>236</td>\n",
              "      <td>0</td>\n",
              "      <td>1</td>\n",
              "      <td>178</td>\n",
              "      <td>0</td>\n",
              "      <td>0.8</td>\n",
              "      <td>2</td>\n",
              "      <td>0</td>\n",
              "      <td>2</td>\n",
              "      <td>1</td>\n",
              "    </tr>\n",
              "    <tr>\n",
              "      <th>4</th>\n",
              "      <td>57</td>\n",
              "      <td>0</td>\n",
              "      <td>0</td>\n",
              "      <td>120</td>\n",
              "      <td>354</td>\n",
              "      <td>0</td>\n",
              "      <td>1</td>\n",
              "      <td>163</td>\n",
              "      <td>1</td>\n",
              "      <td>0.6</td>\n",
              "      <td>2</td>\n",
              "      <td>0</td>\n",
              "      <td>2</td>\n",
              "      <td>1</td>\n",
              "    </tr>\n",
              "  </tbody>\n",
              "</table>\n",
              "</div>\n",
              "    <div class=\"colab-df-buttons\">\n",
              "\n",
              "  <div class=\"colab-df-container\">\n",
              "    <button class=\"colab-df-convert\" onclick=\"convertToInteractive('df-4768831f-71b3-42ed-b437-b35e00714291')\"\n",
              "            title=\"Convert this dataframe to an interactive table.\"\n",
              "            style=\"display:none;\">\n",
              "\n",
              "  <svg xmlns=\"http://www.w3.org/2000/svg\" height=\"24px\" viewBox=\"0 -960 960 960\">\n",
              "    <path d=\"M120-120v-720h720v720H120Zm60-500h600v-160H180v160Zm220 220h160v-160H400v160Zm0 220h160v-160H400v160ZM180-400h160v-160H180v160Zm440 0h160v-160H620v160ZM180-180h160v-160H180v160Zm440 0h160v-160H620v160Z\"/>\n",
              "  </svg>\n",
              "    </button>\n",
              "\n",
              "  <style>\n",
              "    .colab-df-container {\n",
              "      display:flex;\n",
              "      gap: 12px;\n",
              "    }\n",
              "\n",
              "    .colab-df-convert {\n",
              "      background-color: #E8F0FE;\n",
              "      border: none;\n",
              "      border-radius: 50%;\n",
              "      cursor: pointer;\n",
              "      display: none;\n",
              "      fill: #1967D2;\n",
              "      height: 32px;\n",
              "      padding: 0 0 0 0;\n",
              "      width: 32px;\n",
              "    }\n",
              "\n",
              "    .colab-df-convert:hover {\n",
              "      background-color: #E2EBFA;\n",
              "      box-shadow: 0px 1px 2px rgba(60, 64, 67, 0.3), 0px 1px 3px 1px rgba(60, 64, 67, 0.15);\n",
              "      fill: #174EA6;\n",
              "    }\n",
              "\n",
              "    .colab-df-buttons div {\n",
              "      margin-bottom: 4px;\n",
              "    }\n",
              "\n",
              "    [theme=dark] .colab-df-convert {\n",
              "      background-color: #3B4455;\n",
              "      fill: #D2E3FC;\n",
              "    }\n",
              "\n",
              "    [theme=dark] .colab-df-convert:hover {\n",
              "      background-color: #434B5C;\n",
              "      box-shadow: 0px 1px 3px 1px rgba(0, 0, 0, 0.15);\n",
              "      filter: drop-shadow(0px 1px 2px rgba(0, 0, 0, 0.3));\n",
              "      fill: #FFFFFF;\n",
              "    }\n",
              "  </style>\n",
              "\n",
              "    <script>\n",
              "      const buttonEl =\n",
              "        document.querySelector('#df-4768831f-71b3-42ed-b437-b35e00714291 button.colab-df-convert');\n",
              "      buttonEl.style.display =\n",
              "        google.colab.kernel.accessAllowed ? 'block' : 'none';\n",
              "\n",
              "      async function convertToInteractive(key) {\n",
              "        const element = document.querySelector('#df-4768831f-71b3-42ed-b437-b35e00714291');\n",
              "        const dataTable =\n",
              "          await google.colab.kernel.invokeFunction('convertToInteractive',\n",
              "                                                    [key], {});\n",
              "        if (!dataTable) return;\n",
              "\n",
              "        const docLinkHtml = 'Like what you see? Visit the ' +\n",
              "          '<a target=\"_blank\" href=https://colab.research.google.com/notebooks/data_table.ipynb>data table notebook</a>'\n",
              "          + ' to learn more about interactive tables.';\n",
              "        element.innerHTML = '';\n",
              "        dataTable['output_type'] = 'display_data';\n",
              "        await google.colab.output.renderOutput(dataTable, element);\n",
              "        const docLink = document.createElement('div');\n",
              "        docLink.innerHTML = docLinkHtml;\n",
              "        element.appendChild(docLink);\n",
              "      }\n",
              "    </script>\n",
              "  </div>\n",
              "\n",
              "\n",
              "<div id=\"df-6a60bb07-d8bc-4146-826b-30681d39c450\">\n",
              "  <button class=\"colab-df-quickchart\" onclick=\"quickchart('df-6a60bb07-d8bc-4146-826b-30681d39c450')\"\n",
              "            title=\"Suggest charts.\"\n",
              "            style=\"display:none;\">\n",
              "\n",
              "<svg xmlns=\"http://www.w3.org/2000/svg\" height=\"24px\"viewBox=\"0 0 24 24\"\n",
              "     width=\"24px\">\n",
              "    <g>\n",
              "        <path d=\"M19 3H5c-1.1 0-2 .9-2 2v14c0 1.1.9 2 2 2h14c1.1 0 2-.9 2-2V5c0-1.1-.9-2-2-2zM9 17H7v-7h2v7zm4 0h-2V7h2v10zm4 0h-2v-4h2v4z\"/>\n",
              "    </g>\n",
              "</svg>\n",
              "  </button>\n",
              "\n",
              "<style>\n",
              "  .colab-df-quickchart {\n",
              "      --bg-color: #E8F0FE;\n",
              "      --fill-color: #1967D2;\n",
              "      --hover-bg-color: #E2EBFA;\n",
              "      --hover-fill-color: #174EA6;\n",
              "      --disabled-fill-color: #AAA;\n",
              "      --disabled-bg-color: #DDD;\n",
              "  }\n",
              "\n",
              "  [theme=dark] .colab-df-quickchart {\n",
              "      --bg-color: #3B4455;\n",
              "      --fill-color: #D2E3FC;\n",
              "      --hover-bg-color: #434B5C;\n",
              "      --hover-fill-color: #FFFFFF;\n",
              "      --disabled-bg-color: #3B4455;\n",
              "      --disabled-fill-color: #666;\n",
              "  }\n",
              "\n",
              "  .colab-df-quickchart {\n",
              "    background-color: var(--bg-color);\n",
              "    border: none;\n",
              "    border-radius: 50%;\n",
              "    cursor: pointer;\n",
              "    display: none;\n",
              "    fill: var(--fill-color);\n",
              "    height: 32px;\n",
              "    padding: 0;\n",
              "    width: 32px;\n",
              "  }\n",
              "\n",
              "  .colab-df-quickchart:hover {\n",
              "    background-color: var(--hover-bg-color);\n",
              "    box-shadow: 0 1px 2px rgba(60, 64, 67, 0.3), 0 1px 3px 1px rgba(60, 64, 67, 0.15);\n",
              "    fill: var(--button-hover-fill-color);\n",
              "  }\n",
              "\n",
              "  .colab-df-quickchart-complete:disabled,\n",
              "  .colab-df-quickchart-complete:disabled:hover {\n",
              "    background-color: var(--disabled-bg-color);\n",
              "    fill: var(--disabled-fill-color);\n",
              "    box-shadow: none;\n",
              "  }\n",
              "\n",
              "  .colab-df-spinner {\n",
              "    border: 2px solid var(--fill-color);\n",
              "    border-color: transparent;\n",
              "    border-bottom-color: var(--fill-color);\n",
              "    animation:\n",
              "      spin 1s steps(1) infinite;\n",
              "  }\n",
              "\n",
              "  @keyframes spin {\n",
              "    0% {\n",
              "      border-color: transparent;\n",
              "      border-bottom-color: var(--fill-color);\n",
              "      border-left-color: var(--fill-color);\n",
              "    }\n",
              "    20% {\n",
              "      border-color: transparent;\n",
              "      border-left-color: var(--fill-color);\n",
              "      border-top-color: var(--fill-color);\n",
              "    }\n",
              "    30% {\n",
              "      border-color: transparent;\n",
              "      border-left-color: var(--fill-color);\n",
              "      border-top-color: var(--fill-color);\n",
              "      border-right-color: var(--fill-color);\n",
              "    }\n",
              "    40% {\n",
              "      border-color: transparent;\n",
              "      border-right-color: var(--fill-color);\n",
              "      border-top-color: var(--fill-color);\n",
              "    }\n",
              "    60% {\n",
              "      border-color: transparent;\n",
              "      border-right-color: var(--fill-color);\n",
              "    }\n",
              "    80% {\n",
              "      border-color: transparent;\n",
              "      border-right-color: var(--fill-color);\n",
              "      border-bottom-color: var(--fill-color);\n",
              "    }\n",
              "    90% {\n",
              "      border-color: transparent;\n",
              "      border-bottom-color: var(--fill-color);\n",
              "    }\n",
              "  }\n",
              "</style>\n",
              "\n",
              "  <script>\n",
              "    async function quickchart(key) {\n",
              "      const quickchartButtonEl =\n",
              "        document.querySelector('#' + key + ' button');\n",
              "      quickchartButtonEl.disabled = true;  // To prevent multiple clicks.\n",
              "      quickchartButtonEl.classList.add('colab-df-spinner');\n",
              "      try {\n",
              "        const charts = await google.colab.kernel.invokeFunction(\n",
              "            'suggestCharts', [key], {});\n",
              "      } catch (error) {\n",
              "        console.error('Error during call to suggestCharts:', error);\n",
              "      }\n",
              "      quickchartButtonEl.classList.remove('colab-df-spinner');\n",
              "      quickchartButtonEl.classList.add('colab-df-quickchart-complete');\n",
              "    }\n",
              "    (() => {\n",
              "      let quickchartButtonEl =\n",
              "        document.querySelector('#df-6a60bb07-d8bc-4146-826b-30681d39c450 button');\n",
              "      quickchartButtonEl.style.display =\n",
              "        google.colab.kernel.accessAllowed ? 'block' : 'none';\n",
              "    })();\n",
              "  </script>\n",
              "</div>\n",
              "    </div>\n",
              "  </div>\n"
            ]
          },
          "metadata": {},
          "execution_count": 3
        }
      ]
    },
    {
      "cell_type": "markdown",
      "source": [
        "## 3-4. array из значений признаков, деление на факторные и результативный"
      ],
      "metadata": {
        "id": "quIdeOgB0hQv"
      }
    },
    {
      "cell_type": "code",
      "source": [
        "# 3.\tСохраните в переменную array значения признаков, обратившись к атрибуту values\n",
        "array = data.values\n",
        "\n",
        "# 4.\n",
        "X = array[:, 0:13]  # Факторные признаки\n",
        "Y = array[:, 13]    # Результативный признак\n",
        "print(f\"Переменная X содержит факторные признаки \\n{X[0:2,:8]}\")\n",
        "print(f\"Переменная Y содержит результативный признак \\n{Y[0:2]}\")"
      ],
      "metadata": {
        "colab": {
          "base_uri": "https://localhost:8080/"
        },
        "id": "ZgHuCfvl0nJQ",
        "outputId": "7d80a3cd-9a50-4c0c-edd4-8d7113467804"
      },
      "execution_count": null,
      "outputs": [
        {
          "output_type": "stream",
          "name": "stdout",
          "text": [
            "Переменная X содержит факторные признаки \n",
            "[[ 63.   1.   3. 145. 233.   1.   0. 150.]\n",
            " [ 37.   1.   2. 130. 250.   0.   1. 187.]]\n",
            "Переменная Y содержит результативный признак \n",
            "[1. 1.]\n"
          ]
        }
      ]
    },
    {
      "cell_type": "markdown",
      "source": [
        "**Комментарии по поводу содержания X и Y:**\n",
        " - переменная X содержит факторные признаки;\n",
        " - переменная Y содержит результативный признак."
      ],
      "metadata": {
        "id": "SwkSLsPb2kJq"
      }
    },
    {
      "cell_type": "markdown",
      "source": [
        "## 5-7. Масштабирование факторных признаков (MinMaxScaler)"
      ],
      "metadata": {
        "id": "Rs4P1don2Ajz"
      }
    },
    {
      "cell_type": "markdown",
      "source": [
        "Для того, чтобы сделать нормализацию данных нужно посчитать в каждом признаке его минимум (min) и максимум (max), а затем сделать следующее вычисление:\n",
        "\n",
        "$$x = \\frac{x - min}{max - min}$$\n",
        "\n",
        "После такого преобразования $min = 0, max = 1$."
      ],
      "metadata": {
        "id": "3vhK90wiLrAh"
      }
    },
    {
      "cell_type": "code",
      "source": [
        "# 5. cоздать объект с помощью функции MinMaxScaler()\n",
        "scaler = MinMaxScaler(feature_range=(0,1))\n",
        "\n",
        "# 6. обучить его на факторных признаках и преобразовать данные с помощью функции fit_transform()\n",
        "X_MinMaxScaler = scaler.fit_transform(X)\n",
        "\n",
        "# 7. формат представления данных вида 3 знака после запятой\n",
        "set_printoptions(precision=3)\n",
        "\n",
        "# 8. первые 5 строк преобразованных данных\n",
        "print(X_MinMaxScaler[0:5,:8])"
      ],
      "metadata": {
        "colab": {
          "base_uri": "https://localhost:8080/"
        },
        "id": "ROBuwb362FKI",
        "outputId": "1d81ea80-5bba-42df-b3ca-eb68feb14a2b"
      },
      "execution_count": null,
      "outputs": [
        {
          "output_type": "stream",
          "name": "stdout",
          "text": [
            "[[0.708 1.    1.    0.481 0.244 1.    0.    0.603]\n",
            " [0.167 1.    0.667 0.34  0.283 0.    0.5   0.885]\n",
            " [0.25  0.    0.333 0.34  0.178 0.    0.    0.771]\n",
            " [0.562 1.    0.333 0.245 0.251 0.    0.5   0.817]\n",
            " [0.583 0.    0.    0.245 0.521 0.    0.5   0.702]]\n"
          ]
        }
      ]
    },
    {
      "cell_type": "code",
      "source": [
        "X_source_row = [row[0] for row in X]\n",
        "X_MinMaxScaler_row = [row[0] for row in X_MinMaxScaler]\n",
        "\n",
        "show_hist_diff(X_source_row, \"Исходные данные\",\"Age of the patient\",\n",
        "               X_MinMaxScaler_row, \"После применения MinMaxScaler\", \"Age of the patient (MinMaxScaler)\" )"
      ],
      "metadata": {
        "colab": {
          "base_uri": "https://localhost:8080/",
          "height": 307
        },
        "id": "IlX_RyTnEf4m",
        "outputId": "7a0f93ca-29c3-45e2-d000-6c511216f9c6"
      },
      "execution_count": null,
      "outputs": [
        {
          "output_type": "display_data",
          "data": {
            "text/plain": [
              "<Figure size 1000x300 with 2 Axes>"
            ],
            "image/png": "[encoded data removed]"
          },
          "metadata": {}
        }
      ]
    },
    {
      "cell_type": "markdown",
      "source": [
        "**Вывод:** все значения признаков находятся в диапазоне от 0 до 1, где каждое значение представляет собой относительное положение признака в исходных данных"
      ],
      "metadata": {
        "id": "pj3SDPT5Bd6L"
      }
    },
    {
      "cell_type": "markdown",
      "source": [
        "## 8 . Стандартизацию факторных признаков (StandardScaler)"
      ],
      "metadata": {
        "id": "k-qX7Dz1Bt9C"
      }
    },
    {
      "cell_type": "markdown",
      "source": [
        "Для того, чтобы сделать стандартизацию данных нужно посчитать в каждом признаке его среднее значение (`mean`) и стандартное отклонение (`std`), а затем сделать следующее вычисление:\n",
        "\n",
        "$$x = \\frac{x - mean}{std}$$\n",
        "\n",
        "После такого преобразования $mean = 0, std = 1$."
      ],
      "metadata": {
        "id": "nElYAMyeLdyZ"
      }
    },
    {
      "cell_type": "code",
      "source": [
        "scaler = StandardScaler()\n",
        "scaler.fit(X)\n",
        "X_standardized = scaler.transform(X)\n",
        "print(X_standardized[0:5,:8])"
      ],
      "metadata": {
        "colab": {
          "base_uri": "https://localhost:8080/"
        },
        "id": "LZ4v3RaJB3tx",
        "outputId": "96b8b358-5388-4b98-eb89-3300c9e7e592"
      },
      "execution_count": null,
      "outputs": [
        {
          "output_type": "stream",
          "name": "stdout",
          "text": [
            "[[ 0.952  0.681  1.973  0.764 -0.256  2.394 -1.006  0.015]\n",
            " [-1.915  0.681  1.003 -0.093  0.072 -0.418  0.899  1.633]\n",
            " [-1.474 -1.468  0.032 -0.093 -0.817 -0.418 -1.006  0.978]\n",
            " [ 0.18   0.681  0.032 -0.664 -0.198 -0.418  0.899  1.24 ]\n",
            " [ 0.29  -1.468 -0.939 -0.664  2.082 -0.418  0.899  0.584]]\n"
          ]
        }
      ]
    },
    {
      "cell_type": "code",
      "source": [
        "X_standardized_row = [row[0] for row in X_standardized]\n",
        "\n",
        "show_hist_diff(X_source_row, \"Исходные данные\", \"Age of the patient\",\n",
        "               X_standardized_row, \"После применения StandardScaler\", \"Age of the patient (StandardScaler)\")"
      ],
      "metadata": {
        "colab": {
          "base_uri": "https://localhost:8080/",
          "height": 307
        },
        "id": "0hiOutENC4mX",
        "outputId": "00344203-56af-4da1-cd45-30e94f40ae99"
      },
      "execution_count": null,
      "outputs": [
        {
          "output_type": "display_data",
          "data": {
            "text/plain": [
              "<Figure size 1000x300 with 2 Axes>"
            ],
            "image/png": "[encoded data removed]"
          },
          "metadata": {}
        }
      ]
    },
    {
      "cell_type": "markdown",
      "source": [
        "**Вывод:** после стандартизации данных, мы получаем признаки, у которых среднее значение равно 0, а стандартное отклонение равно 1"
      ],
      "metadata": {
        "id": "4eSCStQ5KJKO"
      }
    },
    {
      "cell_type": "markdown",
      "source": [
        "## 9 . Нормализация факторных признаков (Normalizer)"
      ],
      "metadata": {
        "id": "DRtTZnfwCfyL"
      }
    },
    {
      "cell_type": "code",
      "source": [
        "normaler = Normalizer().fit(X)\n",
        "X_Normalizer = normaler.fit_transform(X)\n",
        "print(X_Normalizer[0:1,:])"
      ],
      "metadata": {
        "colab": {
          "base_uri": "https://localhost:8080/"
        },
        "id": "U9m3-TZXLNVi",
        "outputId": "37db36cc-3f5f-43a2-8135-8078c63e1ce2"
      },
      "execution_count": null,
      "outputs": [
        {
          "output_type": "stream",
          "name": "stdout",
          "text": [
            "[[0.197 0.003 0.009 0.454 0.73  0.003 0.    0.47  0.    0.007 0.    0.\n",
            "  0.003]]\n"
          ]
        }
      ]
    },
    {
      "cell_type": "code",
      "source": [
        "X_Normalizer_row = [row[0] for row in X_Normalizer]\n",
        "show_hist_diff(X_source_row, \"Исходные данные\", \"Age of the patient\",\n",
        "               X_Normalizer_row, \"После применения Normalizer\", \"Age of the patient (Normalizer)\")"
      ],
      "metadata": {
        "colab": {
          "base_uri": "https://localhost:8080/",
          "height": 307
        },
        "id": "YrpginrFOnRe",
        "outputId": "8ab7cdd1-9b03-4035-b884-3d5fc5bb5a31"
      },
      "execution_count": null,
      "outputs": [
        {
          "output_type": "display_data",
          "data": {
            "text/plain": [
              "<Figure size 1000x300 with 2 Axes>"
            ],
            "image/png": "[encoded data removed]"
          },
          "metadata": {}
        }
      ]
    },
    {
      "cell_type": "code",
      "source": [
        "import numpy as np\n",
        "X_np = np.array(X_Normalizer)\n",
        "\n",
        "column_index = 3\n",
        "column_sum = np.sum(X_np[1, :])\n",
        "column_sum"
      ],
      "metadata": {
        "colab": {
          "base_uri": "https://localhost:8080/"
        },
        "id": "itu2HnVoqJb8",
        "outputId": "29e14f54-6237-4cbc-92c9-7249309d2a92"
      },
      "execution_count": null,
      "outputs": [
        {
          "output_type": "execute_result",
          "data": {
            "text/plain": [
              "1.803162384514707"
            ]
          },
          "metadata": {},
          "execution_count": 11
        }
      ]
    },
    {
      "cell_type": "markdown",
      "source": [
        "**Вывод:** Normalizer - это полезный инструмент для нормализации данных, который приводит каждую строку набора данных к единичной норме,"
      ],
      "metadata": {
        "id": "Uq8s5ttLW3Rp"
      }
    },
    {
      "cell_type": "markdown",
      "source": [
        "## 10 . Бинарное кодирование факторных признаков"
      ],
      "metadata": {
        "id": "48Lx4news8zQ"
      }
    },
    {
      "cell_type": "code",
      "source": [
        "binarizer = Binarizer(threshold=0.0).fit(X)\n",
        "rescaledX = binarizer.fit_transform(X)\n",
        "print(rescaledX[0:5,:])"
      ],
      "metadata": {
        "colab": {
          "base_uri": "https://localhost:8080/"
        },
        "id": "AU8IthDttFC4",
        "outputId": "3c13371c-ffd8-4dc6-f541-9556bcbd9cd9"
      },
      "execution_count": null,
      "outputs": [
        {
          "output_type": "stream",
          "name": "stdout",
          "text": [
            "[[1. 1. 1. 1. 1. 1. 0. 1. 0. 1. 0. 0. 1.]\n",
            " [1. 1. 1. 1. 1. 0. 1. 1. 0. 1. 0. 0. 1.]\n",
            " [1. 0. 1. 1. 1. 0. 0. 1. 0. 1. 1. 0. 1.]\n",
            " [1. 1. 1. 1. 1. 0. 1. 1. 0. 1. 1. 0. 1.]\n",
            " [1. 0. 0. 1. 1. 0. 1. 1. 1. 1. 1. 0. 1.]]\n"
          ]
        }
      ]
    },
    {
      "cell_type": "markdown",
      "source": [
        "**Вывод:** каждая строка в исходном наборе данных была бинаризована в соответствии с заданным порогом, и результат показывает, какие признаки были выше порога (1) и какие - ниже порога (0)"
      ],
      "metadata": {
        "id": "5AnsLOyVtfpI"
      }
    },
    {
      "cell_type": "markdown",
      "source": [
        "# Раздел 2"
      ],
      "metadata": {
        "id": "UXz07ZCMtiYn"
      }
    },
    {
      "cell_type": "markdown",
      "source": [
        "## 11 . Отбор признаков на основе F-критерия в дисперсионном анализе"
      ],
      "metadata": {
        "id": "7TDrjiSMt8kc"
      }
    },
    {
      "cell_type": "code",
      "source": [
        "test = SelectKBest(score_func=f_classif, k=4)\n",
        "fit = test.fit(X,Y)\n",
        "print(fit.scores_)"
      ],
      "metadata": {
        "colab": {
          "base_uri": "https://localhost:8080/"
        },
        "id": "jIz3rI_KtsZ_",
        "outputId": "538851a8-7df1-4a5b-ceeb-f876d2d47e1b"
      },
      "execution_count": null,
      "outputs": [
        {
          "output_type": "stream",
          "name": "stdout",
          "text": [
            "[16.117 25.792 69.772  6.458  2.203  0.237  5.777 65.12  70.952 68.551\n",
            " 40.902 54.56  40.408]\n"
          ]
        }
      ]
    },
    {
      "cell_type": "markdown",
      "source": [
        "**Вывод:** результат вывода - это значения оценок (scores), вычисленные для каждого признака. Эти оценки представляют степень влияния каждого признака на переменную, которую мы пытаемся предсказать (метки классов). Чем выше оценка, тем важнее признак для классификации."
      ],
      "metadata": {
        "id": "CKf4pq1ovhb3"
      }
    },
    {
      "cell_type": "markdown",
      "source": [
        "## 12 .\tПреобразуйте факторные признаки с помощью функции transform()"
      ],
      "metadata": {
        "id": "4zjpXHjswVxP"
      }
    },
    {
      "cell_type": "code",
      "source": [
        "X_selected = fit.transform(X)\n",
        "print(X_selected[0:5, :])"
      ],
      "metadata": {
        "colab": {
          "base_uri": "https://localhost:8080/"
        },
        "id": "1HCbOyAxt49j",
        "outputId": "266abd17-435d-48ae-b54e-df21f358c09d"
      },
      "execution_count": null,
      "outputs": [
        {
          "output_type": "stream",
          "name": "stdout",
          "text": [
            "[[  3.  150.    0.    2.3]\n",
            " [  2.  187.    0.    3.5]\n",
            " [  1.  172.    0.    1.4]\n",
            " [  1.  178.    0.    0.8]\n",
            " [  0.  163.    1.    0.6]]\n"
          ]
        }
      ]
    },
    {
      "cell_type": "markdown",
      "source": [
        "**Вывод:** Каждая строка в X_selected содержит 4 признака, которые были выбраны как наиболее важные"
      ],
      "metadata": {
        "id": "PnM9rW0Pw7CJ"
      }
    },
    {
      "cell_type": "markdown",
      "source": [
        "## 13-18. Рекурсивное исключение наименее значимых признаков до тех пор, пока не останется 3 признака"
      ],
      "metadata": {
        "id": "LdMYy14lw_vf"
      }
    },
    {
      "cell_type": "code",
      "source": [
        "# 13\n",
        "model = LogisticRegression()\n",
        "\n",
        "# 14\n",
        "rfe = RFE(model, n_features_to_select=3)\n",
        "\n",
        "# 15\n",
        "fit = rfe.fit(X, Y)"
      ],
      "metadata": {
        "colab": {
          "base_uri": "https://localhost:8080/"
        },
        "id": "4gxokfN_uUbT",
        "outputId": "50a4a6f5-05ae-4e86-c92b-79dad7d4d4f1"
      },
      "execution_count": null,
      "outputs": [
        {
          "output_type": "stream",
          "name": "stderr",
          "text": [
            "/usr/local/lib/python3.10/dist-packages/sklearn/linear_model/_logistic.py:458: ConvergenceWarning: lbfgs failed to converge (status=1):\n",
            "STOP: TOTAL NO. of ITERATIONS REACHED LIMIT.\n",
            "\n",
            "Increase the number of iterations (max_iter) or scale the data as shown in:\n",
            "    https://scikit-learn.org/stable/modules/preprocessing.html\n",
            "Please also refer to the documentation for alternative solver options:\n",
            "    https://scikit-learn.org/stable/modules/linear_model.html#logistic-regression\n",
            "  n_iter_i = _check_optimize_result(\n",
            "/usr/local/lib/python3.10/dist-packages/sklearn/linear_model/_logistic.py:458: ConvergenceWarning: lbfgs failed to converge (status=1):\n",
            "STOP: TOTAL NO. of ITERATIONS REACHED LIMIT.\n",
            "\n",
            "Increase the number of iterations (max_iter) or scale the data as shown in:\n",
            "    https://scikit-learn.org/stable/modules/preprocessing.html\n",
            "Please also refer to the documentation for alternative solver options:\n",
            "    https://scikit-learn.org/stable/modules/linear_model.html#logistic-regression\n",
            "  n_iter_i = _check_optimize_result(\n",
            "/usr/local/lib/python3.10/dist-packages/sklearn/linear_model/_logistic.py:458: ConvergenceWarning: lbfgs failed to converge (status=1):\n",
            "STOP: TOTAL NO. of ITERATIONS REACHED LIMIT.\n",
            "\n",
            "Increase the number of iterations (max_iter) or scale the data as shown in:\n",
            "    https://scikit-learn.org/stable/modules/preprocessing.html\n",
            "Please also refer to the documentation for alternative solver options:\n",
            "    https://scikit-learn.org/stable/modules/linear_model.html#logistic-regression\n",
            "  n_iter_i = _check_optimize_result(\n",
            "/usr/local/lib/python3.10/dist-packages/sklearn/linear_model/_logistic.py:458: ConvergenceWarning: lbfgs failed to converge (status=1):\n",
            "STOP: TOTAL NO. of ITERATIONS REACHED LIMIT.\n",
            "\n",
            "Increase the number of iterations (max_iter) or scale the data as shown in:\n",
            "    https://scikit-learn.org/stable/modules/preprocessing.html\n",
            "Please also refer to the documentation for alternative solver options:\n",
            "    https://scikit-learn.org/stable/modules/linear_model.html#logistic-regression\n",
            "  n_iter_i = _check_optimize_result(\n"
          ]
        }
      ]
    },
    {
      "cell_type": "code",
      "source": [
        "# 16\n",
        "print(\"Число отобранных признаков:\", fit.n_features_)\n",
        "\n",
        "# 17\n",
        "print(\"Отобранные признаки:\", fit.support_)\n",
        "\n",
        "# 18\n",
        "print(\"Ранги признаков:\", fit.ranking_)"
      ],
      "metadata": {
        "colab": {
          "base_uri": "https://localhost:8080/"
        },
        "id": "oWn-dElZxcvP",
        "outputId": "5d4478c9-0c20-4192-cc31-0ba586995ae7"
      },
      "execution_count": null,
      "outputs": [
        {
          "output_type": "stream",
          "name": "stdout",
          "text": [
            "Число отобранных признаков: 3\n",
            "Отобранные признаки: [False  True False False False False False False  True False  True False\n",
            " False]\n",
            "Ранги признаков: [10  1  4  8 11  9  6  7  1  5  1  3  2]\n"
          ]
        }
      ]
    },
    {
      "cell_type": "markdown",
      "source": [
        "**Вывод:**\n",
        "всего было выбрано 3 наиболее значимых признака:\n",
        "- пол,\n",
        "- Slope,\n",
        "- Thalium Stress Test result.\n",
        "\n",
        "Ранги признаков расположены в порядке их важности. Наиболее важные признаки имеют меньшие ранги."
      ],
      "metadata": {
        "id": "5JqT37day9Yc"
      }
    },
    {
      "cell_type": "markdown",
      "source": [
        "## 19"
      ],
      "metadata": {
        "id": "66SjRXjrz-Sz"
      }
    },
    {
      "cell_type": "code",
      "source": [
        "# 19\n",
        "X_rfe = rfe.transform(X)\n",
        "print(X_rfe[:5])"
      ],
      "metadata": {
        "colab": {
          "base_uri": "https://localhost:8080/"
        },
        "id": "2EOBizN-xcmG",
        "outputId": "910df174-6b98-46b3-f15d-5e802f65b8a3"
      },
      "execution_count": null,
      "outputs": [
        {
          "output_type": "stream",
          "name": "stdout",
          "text": [
            "[[1. 0. 0.]\n",
            " [1. 0. 0.]\n",
            " [0. 0. 2.]\n",
            " [1. 0. 2.]\n",
            " [0. 1. 2.]]\n"
          ]
        }
      ]
    },
    {
      "cell_type": "markdown",
      "source": [
        "**Вывод:** в этой матрице каждая строка соответствует наблюдению (пациенту), а каждый столбец - одному из отобранных признаков"
      ],
      "metadata": {
        "id": "PlEvMiIK00hv"
      }
    },
    {
      "cell_type": "markdown",
      "source": [
        "## 20-24  Проводим отбор 3-х главных компонент"
      ],
      "metadata": {
        "id": "D6YgVlET1e1s"
      }
    },
    {
      "cell_type": "code",
      "source": [
        "pca = PCA(n_components=3)\n",
        "pca.fit(X)\n",
        "explained_variance = pca.explained_variance_ratio_\n",
        "print(\"Доля объясненной дисперсии:\", explained_variance)"
      ],
      "metadata": {
        "colab": {
          "base_uri": "https://localhost:8080/"
        },
        "id": "tMS9jQTRuuaj",
        "outputId": "c2b23b1c-6148-476f-d90c-380d7d973149"
      },
      "execution_count": null,
      "outputs": [
        {
          "output_type": "stream",
          "name": "stdout",
          "text": [
            "Доля объясненной дисперсии: [0.748 0.15  0.085]\n"
          ]
        }
      ]
    },
    {
      "cell_type": "markdown",
      "source": [
        "**Вывод:** Первая компонента объясняет примерно 74.8% общей дисперсии данных, вторая компонента объясняет примерно 15%, а третья компонента объясняет около 8.5%"
      ],
      "metadata": {
        "id": "dKJlmpUz2K5Y"
      }
    },
    {
      "cell_type": "code",
      "source": [
        "np.set_printoptions(suppress=True)\n",
        "components = pca.components_\n",
        "print(\"Компонентные нагрузки:\\n\", components)"
      ],
      "metadata": {
        "colab": {
          "base_uri": "https://localhost:8080/"
        },
        "id": "gR1pj7T12Sy5",
        "outputId": "11fabaca-b90f-445b-ff00-5715634f63c8"
      },
      "execution_count": null,
      "outputs": [
        {
          "output_type": "stream",
          "name": "stdout",
          "text": [
            "Компонентные нагрузки:\n",
            " [[ 0.039 -0.002 -0.002  0.048  0.998  0.    -0.002 -0.007  0.001  0.001\n",
            "  -0.     0.001  0.001]\n",
            " [ 0.182  0.001 -0.013  0.104 -0.019  0.    -0.001 -0.977  0.008  0.018\n",
            "  -0.01   0.01   0.003]\n",
            " [ 0.126 -0.001  0.006  0.982 -0.051  0.004 -0.003  0.129 -0.     0.009\n",
            "  -0.002  0.004  0.001]]\n"
          ]
        }
      ]
    },
    {
      "cell_type": "markdown",
      "source": [
        "**Вывод:**\n",
        "\n",
        "Компонентные нагрузки представляют, какие исходные признаки (переменные) вносят вклад в каждую главную компоненту. Это позволяет понять, какие исходные признаки сильнее всего влияют на главные компоненты и какие признаки можно использовать для сокращения размерности данных\n",
        "\n",
        "- Первая строка. Наибольший вклад (0.998) вносит признак с индексом 5 (`fbs`);\n",
        "- Вторая строка. Наибольший вклад (-0.977) вносит признак с индексом 7 (`thall`)."
      ],
      "metadata": {
        "id": "T9DnCuQ42T-A"
      }
    },
    {
      "cell_type": "markdown",
      "source": [
        "## 25-27: Классификатор дополнительных деревьев для отбора признаков"
      ],
      "metadata": {
        "id": "mCxMC6Bh1kwz"
      }
    },
    {
      "cell_type": "code",
      "source": [
        "model = ExtraTreesClassifier(n_estimators=100)\n",
        "model.fit(X, Y)\n",
        "feature_importance = model.feature_importances_\n",
        "print(\"Значения критерия информативности:\", feature_importance)"
      ],
      "metadata": {
        "colab": {
          "base_uri": "https://localhost:8080/"
        },
        "id": "jx-dNCOTuxTd",
        "outputId": "c2f55e34-eea3-4362-93c4-1bbe0e6983d5"
      },
      "execution_count": null,
      "outputs": [
        {
          "output_type": "stream",
          "name": "stdout",
          "text": [
            "Значения критерия информативности: [0.071 0.055 0.129 0.061 0.059 0.021 0.034 0.085 0.091 0.088 0.075 0.122\n",
            " 0.108]\n"
          ]
        }
      ]
    },
    {
      "cell_type": "markdown",
      "source": [
        "**Вывод:** Чем выше значение критерия информативности, тем более важен признак для задачи классификации. В данном случае, признаки с более высокими значениями, такие как 2, 11 и 12, считаются более важными для классификации по сравнению с другими признаками"
      ],
      "metadata": {
        "id": "TLDw8ihE16MS"
      }
    }
  ]
}